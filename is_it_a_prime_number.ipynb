{
  "nbformat": 4,
  "nbformat_minor": 0,
  "metadata": {
    "colab": {
      "name": "is_it_a_prime_number.ipynb",
      "provenance": [],
      "collapsed_sections": [],
      "authorship_tag": "ABX9TyNX9g8hgntxZ5a6muVBuYYD",
      "include_colab_link": true
    },
    "kernelspec": {
      "name": "python3",
      "display_name": "Python 3"
    },
    "language_info": {
      "name": "python"
    }
  },
  "cells": [
    {
      "cell_type": "markdown",
      "metadata": {
        "id": "view-in-github",
        "colab_type": "text"
      },
      "source": [
        "<a href=\"https://colab.research.google.com/github/C9195/phyton_procject/blob/main/is_it_a_prime_number.ipynb\" target=\"_parent\"><img src=\"https://colab.research.google.com/assets/colab-badge.svg\" alt=\"Open In Colab\"/></a>"
      ]
    },
    {
      "cell_type": "code",
      "metadata": {
        "colab": {
          "base_uri": "https://localhost:8080/"
        },
        "id": "2Ns6ALqz6kgd",
        "outputId": "54c8a8cb-7023-44f1-873b-7783cb3b3f09"
      },
      "source": [
        "num = int(input(\"enter a number: \"))\n",
        "\n",
        "if num<2:\n",
        "  print(\"please write a higher number in order to be find the prime number\")\n",
        "if num==2:\n",
        "  print(\"{} is prime number\",format(num))\n",
        "if num>= 2:\n",
        "    for i in range(2,num):\n",
        "      if (num%i)!=0:\n",
        "        print(\"{} is a prime number\".format(num))\n",
        "        break\n",
        "else:\n",
        "        print(\"{} is not a prime number\".format(num))"
      ],
      "execution_count": 8,
      "outputs": [
        {
          "output_type": "stream",
          "text": [
            "enter a number: 1\n",
            "please write a higher number in order to be find the prime number\n",
            "1 is not a prime number\n"
          ],
          "name": "stdout"
        }
      ]
    },
    {
      "cell_type": "code",
      "metadata": {
        "id": "J-sdaBKw9yUG"
      },
      "source": [
        ""
      ],
      "execution_count": null,
      "outputs": []
    }
  ]
}