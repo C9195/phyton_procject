{
  "nbformat": 4,
  "nbformat_minor": 0,
  "metadata": {
    "colab": {
      "name": "password_reminder.ipynb",
      "provenance": [],
      "collapsed_sections": [],
      "authorship_tag": "ABX9TyONFez/2yenkQtNgNZ25gcd",
      "include_colab_link": true
    },
    "kernelspec": {
      "name": "python3",
      "display_name": "Python 3"
    },
    "language_info": {
      "name": "python"
    }
  },
  "cells": [
    {
      "cell_type": "markdown",
      "metadata": {
        "id": "view-in-github",
        "colab_type": "text"
      },
      "source": [
        "<a href=\"https://colab.research.google.com/github/C9195/phyton_procject/blob/main/password_reminder.ipynb\" target=\"_parent\"><img src=\"https://colab.research.google.com/assets/colab-badge.svg\" alt=\"Open In Colab\"/></a>"
      ]
    },
    {
      "cell_type": "code",
      "metadata": {
        "colab": {
          "base_uri": "https://localhost:8080/"
        },
        "id": "iummyKBK263E",
        "outputId": "c37e731b-920d-405d-fac6-a4555f409729"
      },
      "source": [
        "\t\n",
        "b = \"zeynep\"\n",
        "a =input(\"what is your name?\")\n",
        "if a == b:\n",
        "  print(\"Hello,{} your password is KLMN\".format(a))\n",
        "else:\n",
        "    print(\"goodbye,{} see you later\".format(a))"
      ],
      "execution_count": 1,
      "outputs": [
        {
          "output_type": "stream",
          "text": [
            "what is your name?ayse\n",
            "goodbye,ayse see you later\n"
          ],
          "name": "stdout"
        }
      ]
    }
  ]
}