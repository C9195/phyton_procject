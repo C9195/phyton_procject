{
  "nbformat": 4,
  "nbformat_minor": 5,
  "metadata": {
    "kernelspec": {
      "display_name": "Python 3",
      "language": "python",
      "name": "python3"
    },
    "language_info": {
      "codemirror_mode": {
        "name": "ipython",
        "version": 3
      },
      "file_extension": ".py",
      "mimetype": "text/x-python",
      "name": "python",
      "nbconvert_exporter": "python",
      "pygments_lexer": "ipython3",
      "version": "3.8.8"
    },
    "colab": {
      "name": "22_PythonBasic_2-September-2021.ipynb",
      "provenance": [],
      "include_colab_link": true
    }
  },
  "cells": [
    {
      "cell_type": "markdown",
      "metadata": {
        "id": "view-in-github",
        "colab_type": "text"
      },
      "source": [
        "<a href=\"https://colab.research.google.com/github/C9195/phyton_procject/blob/main/22_PythonBasic_2_September_2021.ipynb\" target=\"_parent\"><img src=\"https://colab.research.google.com/assets/colab-badge.svg\" alt=\"Open In Colab\"/></a>"
      ]
    },
    {
      "cell_type": "markdown",
      "metadata": {
        "id": "406f2981"
      },
      "source": [
        "<img src=\"https://docs.google.com/uc?id=14xeXxFrVRjvOoUYWn_GuyE-v84wVzrqr\" class=\"img-fluid\" alt=\"CLRWY\" width=\"400\" height=\"200\">"
      ],
      "id": "406f2981"
    },
    {
      "cell_type": "markdown",
      "metadata": {
        "id": "22263af8"
      },
      "source": [
        "<h1><p style=\"text-align: center; color:darkblue\">Python + In-Class, <br>2 September 2021</p><h1>"
      ],
      "id": "22263af8"
    },
    {
      "cell_type": "code",
      "metadata": {
        "id": "4a17f2dd"
      },
      "source": [
        "word = {1 : \"1\", 2 : \"2\"}"
      ],
      "id": "4a17f2dd",
      "execution_count": null,
      "outputs": []
    },
    {
      "cell_type": "code",
      "metadata": {
        "id": "0823e311"
      },
      "source": [
        "keys = word.keys()"
      ],
      "id": "0823e311",
      "execution_count": null,
      "outputs": []
    },
    {
      "cell_type": "code",
      "metadata": {
        "id": "0e361d9c",
        "outputId": "15c28ec8-f716-4bc9-87a2-3a260c5f8080"
      },
      "source": [
        "keys"
      ],
      "id": "0e361d9c",
      "execution_count": null,
      "outputs": [
        {
          "data": {
            "text/plain": [
              "dict_keys([1, 2])"
            ]
          },
          "execution_count": 3,
          "metadata": {},
          "output_type": "execute_result"
        }
      ]
    },
    {
      "cell_type": "code",
      "metadata": {
        "id": "81c038eb"
      },
      "source": [
        "word_1 = {}"
      ],
      "id": "81c038eb",
      "execution_count": null,
      "outputs": []
    },
    {
      "cell_type": "code",
      "metadata": {
        "id": "bab09e30"
      },
      "source": [
        "word_1[3] = 1"
      ],
      "id": "bab09e30",
      "execution_count": null,
      "outputs": []
    },
    {
      "cell_type": "code",
      "metadata": {
        "id": "96ed502b",
        "outputId": "eec340b6-535c-405e-9547-d7da79c065e8"
      },
      "source": [
        "word_1"
      ],
      "id": "96ed502b",
      "execution_count": null,
      "outputs": [
        {
          "data": {
            "text/plain": [
              "{3: 1}"
            ]
          },
          "execution_count": 6,
          "metadata": {},
          "output_type": "execute_result"
        }
      ]
    },
    {
      "cell_type": "code",
      "metadata": {
        "id": "af4118c2"
      },
      "source": [
        "word_1[1] = 1"
      ],
      "id": "af4118c2",
      "execution_count": null,
      "outputs": []
    },
    {
      "cell_type": "code",
      "metadata": {
        "id": "2489ade8",
        "outputId": "e92e6bc3-1192-46f7-da16-0ea448d54c12"
      },
      "source": [
        "word_1"
      ],
      "id": "2489ade8",
      "execution_count": null,
      "outputs": [
        {
          "data": {
            "text/plain": [
              "{3: 1, 1: 1}"
            ]
          },
          "execution_count": 9,
          "metadata": {},
          "output_type": "execute_result"
        }
      ]
    },
    {
      "cell_type": "code",
      "metadata": {
        "id": "a739e0a7"
      },
      "source": [
        "word_1[3] += 1"
      ],
      "id": "a739e0a7",
      "execution_count": null,
      "outputs": []
    },
    {
      "cell_type": "code",
      "metadata": {
        "id": "509bd768",
        "outputId": "18ff1e75-d130-44de-e1cb-ca9c828c97f3"
      },
      "source": [
        "word_1"
      ],
      "id": "509bd768",
      "execution_count": null,
      "outputs": [
        {
          "data": {
            "text/plain": [
              "{3: 2, 1: 1}"
            ]
          },
          "execution_count": 12,
          "metadata": {},
          "output_type": "execute_result"
        }
      ]
    },
    {
      "cell_type": "code",
      "metadata": {
        "id": "4e7c7e7a"
      },
      "source": [
        "word_1[3] += 1"
      ],
      "id": "4e7c7e7a",
      "execution_count": null,
      "outputs": []
    },
    {
      "cell_type": "code",
      "metadata": {
        "id": "42229e7e",
        "outputId": "163f9d7d-746e-4292-a3f1-60fc40d9d3b0"
      },
      "source": [
        "word_1"
      ],
      "id": "42229e7e",
      "execution_count": null,
      "outputs": [
        {
          "data": {
            "text/plain": [
              "{3: 3, 1: 1}"
            ]
          },
          "execution_count": 14,
          "metadata": {},
          "output_type": "execute_result"
        }
      ]
    },
    {
      "cell_type": "code",
      "metadata": {
        "id": "749d5b29"
      },
      "source": [
        "word_1[\"ali\"] = 22"
      ],
      "id": "749d5b29",
      "execution_count": null,
      "outputs": []
    },
    {
      "cell_type": "code",
      "metadata": {
        "id": "466bd2e3",
        "outputId": "c7949a43-d20b-4412-9013-3da532b375a8"
      },
      "source": [
        "word_1"
      ],
      "id": "466bd2e3",
      "execution_count": null,
      "outputs": [
        {
          "data": {
            "text/plain": [
              "{3: 3, 1: 1, 'ali': 22}"
            ]
          },
          "execution_count": 18,
          "metadata": {},
          "output_type": "execute_result"
        }
      ]
    },
    {
      "cell_type": "code",
      "metadata": {
        "id": "de5f8dae",
        "outputId": "7d862fba-3b11-452f-9364-d1dc0ca6c59f"
      },
      "source": [
        "\"ali\" in word_1"
      ],
      "id": "de5f8dae",
      "execution_count": null,
      "outputs": [
        {
          "data": {
            "text/plain": [
              "True"
            ]
          },
          "execution_count": 19,
          "metadata": {},
          "output_type": "execute_result"
        }
      ]
    },
    {
      "cell_type": "code",
      "metadata": {
        "id": "c04feb1e"
      },
      "source": [
        "string = \"bugün ayrılıktan bir önceki session..\""
      ],
      "id": "c04feb1e",
      "execution_count": null,
      "outputs": []
    },
    {
      "cell_type": "code",
      "metadata": {
        "id": "409725a5"
      },
      "source": [
        "word_dict = {}"
      ],
      "id": "409725a5",
      "execution_count": null,
      "outputs": []
    },
    {
      "cell_type": "code",
      "metadata": {
        "id": "0c5671a4"
      },
      "source": [
        "for n in string :\n",
        "    \n",
        "    keys = word_dict.keys()\n",
        "    \n",
        "    if n in word_dict :\n",
        "        word_dict[n] += 1\n",
        "    else :\n",
        "        word_dict[n] = 1"
      ],
      "id": "0c5671a4",
      "execution_count": null,
      "outputs": []
    },
    {
      "cell_type": "code",
      "metadata": {
        "id": "f327158f",
        "outputId": "cada56e6-2118-4d6c-97a8-31e06cf67734"
      },
      "source": [
        "print(word_dict)"
      ],
      "id": "f327158f",
      "execution_count": null,
      "outputs": [
        {
          "name": "stdout",
          "output_type": "stream",
          "text": [
            "{'b': 2, 'u': 1, 'g': 1, 'ü': 1, 'n': 4, ' ': 4, 'a': 2, 'y': 1, 'r': 2, 'ı': 2, 'l': 1, 'k': 2, 't': 1, 'i': 3, 'ö': 1, 'c': 1, 'e': 2, 's': 3, 'o': 1, '.': 2}\n"
          ]
        }
      ]
    },
    {
      "cell_type": "code",
      "metadata": {
        "id": "17b97849"
      },
      "source": [
        "veri = [\"a\", \"b\", True, (False, 1), {\"1\" : 2}, [1,2], {\"2\" : \"two\"}, {2, \"3\"}, \"c\", 23, 0]"
      ],
      "id": "17b97849",
      "execution_count": null,
      "outputs": []
    },
    {
      "cell_type": "code",
      "metadata": {
        "id": "c1ca3784"
      },
      "source": [
        "{\"bool\" : 1, \"int\" : 2, \"list\" : 1, \"tuple\" : 1, \"str\" : 3}"
      ],
      "id": "c1ca3784",
      "execution_count": null,
      "outputs": []
    },
    {
      "cell_type": "code",
      "metadata": {
        "id": "24fe566d"
      },
      "source": [
        "tipler = [\"int\", \"str\", \"bool\", \"list\", \"tuple\", \"dict\", \"set\"]"
      ],
      "id": "24fe566d",
      "execution_count": null,
      "outputs": []
    },
    {
      "cell_type": "code",
      "metadata": {
        "id": "a6b03671",
        "outputId": "77b7010f-350d-4e54-e204-e5c881b42ea5"
      },
      "source": [
        "{}.fromkeys(tipler, 0)"
      ],
      "id": "a6b03671",
      "execution_count": null,
      "outputs": [
        {
          "data": {
            "text/plain": [
              "{'int': 0, 'str': 0, 'bool': 0, 'list': 0, 'tuple': 0, 'dict': 0, 'set': 0}"
            ]
          },
          "execution_count": 25,
          "metadata": {},
          "output_type": "execute_result"
        }
      ]
    },
    {
      "cell_type": "code",
      "metadata": {
        "id": "23fbcd91"
      },
      "source": [
        "toplam = {}.fromkeys(tipler, 0)"
      ],
      "id": "23fbcd91",
      "execution_count": null,
      "outputs": []
    },
    {
      "cell_type": "code",
      "metadata": {
        "id": "1b8cb002",
        "outputId": "09e15ace-ae30-4818-f600-5b7f4839481e"
      },
      "source": [
        "toplam"
      ],
      "id": "1b8cb002",
      "execution_count": null,
      "outputs": [
        {
          "data": {
            "text/plain": [
              "{'int': 0, 'str': 0, 'bool': 0, 'list': 0, 'tuple': 0, 'dict': 0, 'set': 0}"
            ]
          },
          "execution_count": 27,
          "metadata": {},
          "output_type": "execute_result"
        }
      ]
    },
    {
      "cell_type": "code",
      "metadata": {
        "id": "726b13d6",
        "outputId": "7000a41c-8746-4fbb-8acd-93bfac5db478"
      },
      "source": [
        "len(veri)"
      ],
      "id": "726b13d6",
      "execution_count": null,
      "outputs": [
        {
          "data": {
            "text/plain": [
              "11"
            ]
          },
          "execution_count": 28,
          "metadata": {},
          "output_type": "execute_result"
        }
      ]
    },
    {
      "cell_type": "code",
      "metadata": {
        "id": "c4bd873b",
        "outputId": "76d5f581-9187-4e77-f971-78044c2f40fb"
      },
      "source": [
        "type(veri[0])"
      ],
      "id": "c4bd873b",
      "execution_count": null,
      "outputs": [
        {
          "data": {
            "text/plain": [
              "str"
            ]
          },
          "execution_count": 30,
          "metadata": {},
          "output_type": "execute_result"
        }
      ]
    },
    {
      "cell_type": "code",
      "metadata": {
        "id": "6a4728b8"
      },
      "source": [
        "for i in range(len(veri)) :\n",
        "    if type(veri[i]) == int : toplam[\"int\"] += 1\n",
        "    elif type(veri[i]) == str : toplam[\"str\"] += 1\n",
        "    elif type(veri[i]) == bool : toplam[\"bool\"] += 1\n",
        "    elif type(veri[i]) == list : toplam[\"list\"] += 1\n",
        "    elif type(veri[i]) == tuple : toplam[\"tuple\"] += 1\n",
        "    elif type(veri[i]) == dict : toplam[\"dict\"] += 1\n",
        "    elif type(veri[i]) == set : toplam[\"set\"] += 1"
      ],
      "id": "6a4728b8",
      "execution_count": null,
      "outputs": []
    },
    {
      "cell_type": "code",
      "metadata": {
        "id": "02711248",
        "outputId": "230b9d1c-4571-43b9-e549-f1bac4b05f35"
      },
      "source": [
        "toplam"
      ],
      "id": "02711248",
      "execution_count": null,
      "outputs": [
        {
          "data": {
            "text/plain": [
              "{'int': 2, 'str': 3, 'bool': 1, 'list': 1, 'tuple': 1, 'dict': 2, 'set': 1}"
            ]
          },
          "execution_count": 32,
          "metadata": {},
          "output_type": "execute_result"
        }
      ]
    },
    {
      "cell_type": "markdown",
      "metadata": {
        "id": "d266a7a9"
      },
      "source": [
        "## OBEB (Ortak Bölenlerin En Büyüğü)"
      ],
      "id": "d266a7a9"
    },
    {
      "cell_type": "code",
      "metadata": {
        "id": "aeed15d2"
      },
      "source": [
        "def obeb(a, b) :\n",
        "    \n",
        "    \"\"\"ilk parametreyi büyük olan sayı olarak giriniz\"\"\"\n",
        "    \n",
        "    if b == 0 :\n",
        "        return a\n",
        "    else :\n",
        "        return obeb(b, a % b)"
      ],
      "id": "aeed15d2",
      "execution_count": null,
      "outputs": []
    },
    {
      "cell_type": "code",
      "metadata": {
        "id": "4c46efeb",
        "outputId": "3fb4ff48-a9ac-40d9-ffd7-d2d27cd08fa1"
      },
      "source": [
        "print(obeb.__doc__)"
      ],
      "id": "4c46efeb",
      "execution_count": null,
      "outputs": [
        {
          "name": "stdout",
          "output_type": "stream",
          "text": [
            "ilk parametreyi büyük olan sayı olarak giriniz\n"
          ]
        }
      ]
    },
    {
      "cell_type": "code",
      "metadata": {
        "id": "e4d198a8",
        "outputId": "bc36eded-bcae-4373-a2c8-16707af4f3a9"
      },
      "source": [
        "obeb(65,25)"
      ],
      "id": "e4d198a8",
      "execution_count": null,
      "outputs": [
        {
          "data": {
            "text/plain": [
              "5"
            ]
          },
          "execution_count": 34,
          "metadata": {},
          "output_type": "execute_result"
        }
      ]
    },
    {
      "cell_type": "code",
      "metadata": {
        "id": "c16285a4",
        "outputId": "e6f4662b-9040-40e7-b227-8c46d4eba752"
      },
      "source": [
        "obeb(24,8)"
      ],
      "id": "c16285a4",
      "execution_count": null,
      "outputs": [
        {
          "data": {
            "text/plain": [
              "8"
            ]
          },
          "execution_count": 35,
          "metadata": {},
          "output_type": "execute_result"
        }
      ]
    },
    {
      "cell_type": "code",
      "metadata": {
        "id": "0f7c9938",
        "outputId": "e18a82c8-3bf4-4c3f-b0be-84aa28f30b6c"
      },
      "source": [
        "obeb(55,25)"
      ],
      "id": "0f7c9938",
      "execution_count": null,
      "outputs": [
        {
          "data": {
            "text/plain": [
              "5"
            ]
          },
          "execution_count": 36,
          "metadata": {},
          "output_type": "execute_result"
        }
      ]
    },
    {
      "cell_type": "code",
      "metadata": {
        "id": "4620e451",
        "outputId": "dec48c84-e7ea-481e-e980-5ba1ff754863"
      },
      "source": [
        "obeb(44,30)"
      ],
      "id": "4620e451",
      "execution_count": null,
      "outputs": [
        {
          "data": {
            "text/plain": [
              "2"
            ]
          },
          "execution_count": 37,
          "metadata": {},
          "output_type": "execute_result"
        }
      ]
    },
    {
      "cell_type": "code",
      "metadata": {
        "id": "0a7ef562"
      },
      "source": [
        "def facto(n) :\n",
        "    \n",
        "    if n == 0 : return 1\n",
        "    else :\n",
        "        return n * facto(n - 1)"
      ],
      "id": "0a7ef562",
      "execution_count": null,
      "outputs": []
    },
    {
      "cell_type": "markdown",
      "metadata": {
        "id": "a6fb00be"
      },
      "source": [
        "## Given a list such `[1, 2, 3]` get an all possible output combinations"
      ],
      "id": "a6fb00be"
    },
    {
      "cell_type": "markdown",
      "metadata": {
        "id": "ae3a24d0"
      },
      "source": [
        "Output:\n",
        "```\n",
        "[\n",
        "  [1,2,3],\n",
        "  [1,3,2],\n",
        "  [2,1,3],\n",
        "  [2,3,1],\n",
        "  [3,1,2],\n",
        "  [3,2,1]\n",
        "]```"
      ],
      "id": "ae3a24d0"
    },
    {
      "cell_type": "code",
      "metadata": {
        "id": "cb9b3891"
      },
      "source": [
        "solution = [[]]"
      ],
      "id": "cb9b3891",
      "execution_count": null,
      "outputs": []
    },
    {
      "cell_type": "code",
      "metadata": {
        "id": "8803d74b"
      },
      "source": [
        "# solution - 1 = [[1], [2], [3]]\n",
        "\n",
        "# solution - 2 = [[1, 2], [1, 3], [2, 1], [2, 3], [3, 1], [3, 2]]\n",
        "\n",
        "# solution - 3 = [[1, 2, 3], [1, 3, 2], [2, 1, 3], [2, 3, 1], [3, 1, 2], [3, 2, 1]]"
      ],
      "id": "8803d74b",
      "execution_count": null,
      "outputs": []
    },
    {
      "cell_type": "code",
      "metadata": {
        "id": "47937118",
        "outputId": "1a31917f-db9c-4bb2-b7a2-b67bc4a267de"
      },
      "source": [
        "for i in solution :\n",
        "    print(i)"
      ],
      "id": "47937118",
      "execution_count": null,
      "outputs": [
        {
          "name": "stdout",
          "output_type": "stream",
          "text": [
            "[]\n"
          ]
        }
      ]
    },
    {
      "cell_type": "code",
      "metadata": {
        "id": "50dafb58",
        "outputId": "480bf196-8a17-4b58-a016-cdc1f8dab34b"
      },
      "source": [
        "len(solution)"
      ],
      "id": "50dafb58",
      "execution_count": null,
      "outputs": [
        {
          "data": {
            "text/plain": [
              "1"
            ]
          },
          "execution_count": 42,
          "metadata": {},
          "output_type": "execute_result"
        }
      ]
    },
    {
      "cell_type": "code",
      "metadata": {
        "id": "7da10c71"
      },
      "source": [
        "num = [1, 2, 3]"
      ],
      "id": "7da10c71",
      "execution_count": null,
      "outputs": []
    },
    {
      "cell_type": "code",
      "metadata": {
        "id": "b8628215"
      },
      "source": [
        "num_set = set(num)"
      ],
      "id": "b8628215",
      "execution_count": null,
      "outputs": []
    },
    {
      "cell_type": "code",
      "metadata": {
        "id": "c80b2ec0",
        "outputId": "b87a231d-9290-43b3-f1e9-e29ed1812a49"
      },
      "source": [
        "num_set"
      ],
      "id": "c80b2ec0",
      "execution_count": null,
      "outputs": [
        {
          "data": {
            "text/plain": [
              "{1, 2, 3}"
            ]
          },
          "execution_count": 45,
          "metadata": {},
          "output_type": "execute_result"
        }
      ]
    },
    {
      "cell_type": "code",
      "metadata": {
        "id": "43254728",
        "outputId": "419b7250-53ae-467e-eab6-bc35fdee913b"
      },
      "source": [
        "set([])"
      ],
      "id": "43254728",
      "execution_count": null,
      "outputs": [
        {
          "data": {
            "text/plain": [
              "set()"
            ]
          },
          "execution_count": 46,
          "metadata": {},
          "output_type": "execute_result"
        }
      ]
    },
    {
      "cell_type": "code",
      "metadata": {
        "id": "e28e3116",
        "outputId": "5250b81a-a1ae-4eba-942c-b577eda77e1b"
      },
      "source": [
        "set_bos_list = set([])\n",
        "set_bos_list"
      ],
      "id": "e28e3116",
      "execution_count": null,
      "outputs": [
        {
          "data": {
            "text/plain": [
              "set()"
            ]
          },
          "execution_count": 47,
          "metadata": {},
          "output_type": "execute_result"
        }
      ]
    },
    {
      "cell_type": "code",
      "metadata": {
        "id": "ccdf11de",
        "outputId": "a2a9320e-0866-4a0a-fa1d-398d3831ec05"
      },
      "source": [
        "num_set - set_bos_list"
      ],
      "id": "ccdf11de",
      "execution_count": null,
      "outputs": [
        {
          "data": {
            "text/plain": [
              "{1, 2, 3}"
            ]
          },
          "execution_count": 48,
          "metadata": {},
          "output_type": "execute_result"
        }
      ]
    },
    {
      "cell_type": "code",
      "metadata": {
        "id": "9df47f5a",
        "outputId": "ab6c3e7c-eaa1-4c7b-d33e-6a13f0d9320a"
      },
      "source": [
        "num_set - set([1])"
      ],
      "id": "9df47f5a",
      "execution_count": null,
      "outputs": [
        {
          "data": {
            "text/plain": [
              "{2, 3}"
            ]
          },
          "execution_count": 49,
          "metadata": {},
          "output_type": "execute_result"
        }
      ]
    },
    {
      "cell_type": "code",
      "metadata": {
        "id": "abfabfd7",
        "outputId": "ba19d28d-36d4-4ea1-d629-f5b5e2bbb585"
      },
      "source": [
        "num_set - set([2])"
      ],
      "id": "abfabfd7",
      "execution_count": null,
      "outputs": [
        {
          "data": {
            "text/plain": [
              "{1, 3}"
            ]
          },
          "execution_count": 50,
          "metadata": {},
          "output_type": "execute_result"
        }
      ]
    },
    {
      "cell_type": "code",
      "metadata": {
        "id": "79bc1383",
        "outputId": "86ab6184-090a-408f-9847-7ee42169b303"
      },
      "source": [
        "num_set - set([1,2])"
      ],
      "id": "79bc1383",
      "execution_count": null,
      "outputs": [
        {
          "data": {
            "text/plain": [
              "{3}"
            ]
          },
          "execution_count": 51,
          "metadata": {},
          "output_type": "execute_result"
        }
      ]
    },
    {
      "cell_type": "code",
      "metadata": {
        "id": "9d904522",
        "outputId": "474013f3-77cd-4a81-ba27-256c4c1cc037"
      },
      "source": [
        "[1] + [2, 3]"
      ],
      "id": "9d904522",
      "execution_count": null,
      "outputs": [
        {
          "data": {
            "text/plain": [
              "[1, 2, 3]"
            ]
          },
          "execution_count": 52,
          "metadata": {},
          "output_type": "execute_result"
        }
      ]
    },
    {
      "cell_type": "code",
      "metadata": {
        "id": "509367be",
        "outputId": "e11b10ea-0573-4795-c1c6-fab962ed9dbe"
      },
      "source": [
        "[] + [2]"
      ],
      "id": "509367be",
      "execution_count": null,
      "outputs": [
        {
          "data": {
            "text/plain": [
              "[2]"
            ]
          },
          "execution_count": 53,
          "metadata": {},
          "output_type": "execute_result"
        }
      ]
    },
    {
      "cell_type": "code",
      "metadata": {
        "id": "1cdf5172",
        "outputId": "436075cb-533f-4a73-c3be-1fe8379ada76"
      },
      "source": [
        "num_set - set([1] + [2])"
      ],
      "id": "1cdf5172",
      "execution_count": null,
      "outputs": [
        {
          "data": {
            "text/plain": [
              "{3}"
            ]
          },
          "execution_count": 54,
          "metadata": {},
          "output_type": "execute_result"
        }
      ]
    },
    {
      "cell_type": "code",
      "metadata": {
        "id": "f1a39267",
        "outputId": "556da961-f38e-4fdf-838c-3871e0a4f206"
      },
      "source": [
        "[1, 2] + [3]"
      ],
      "id": "f1a39267",
      "execution_count": null,
      "outputs": [
        {
          "data": {
            "text/plain": [
              "[1, 2, 3]"
            ]
          },
          "execution_count": 55,
          "metadata": {},
          "output_type": "execute_result"
        }
      ]
    },
    {
      "cell_type": "code",
      "metadata": {
        "id": "4a53e104"
      },
      "source": [
        "solution = [[]]"
      ],
      "id": "4a53e104",
      "execution_count": null,
      "outputs": []
    },
    {
      "cell_type": "code",
      "metadata": {
        "id": "4f80cac6"
      },
      "source": [
        "# solution = [[]]\n",
        "\n",
        "# solution - 1 = [[1], [2], [3]]\n",
        "\n",
        "# solution - 2 = [[1, 2], [1, 3], [2, 1], [2, 3], [3, 1], [3, 2]]\n",
        "\n",
        "# solution - 3 = [[1, 2, 3], [1, 3, 2], [2, 1, 3], [2, 3, 1], [3, 1, 2], [3, 2, 1]]\n",
        "\n",
        "# "
      ],
      "id": "4f80cac6",
      "execution_count": null,
      "outputs": []
    },
    {
      "cell_type": "code",
      "metadata": {
        "id": "d8854248",
        "outputId": "b1799417-0c75-48f2-c926-7ea7ba67ef79"
      },
      "source": [
        "num"
      ],
      "id": "d8854248",
      "execution_count": null,
      "outputs": [
        {
          "data": {
            "text/plain": [
              "[1, 2, 3]"
            ]
          },
          "execution_count": 57,
          "metadata": {},
          "output_type": "execute_result"
        }
      ]
    },
    {
      "cell_type": "code",
      "metadata": {
        "id": "73056aaf"
      },
      "source": [
        "# [body for variable in iterable]"
      ],
      "id": "73056aaf",
      "execution_count": null,
      "outputs": []
    },
    {
      "cell_type": "code",
      "metadata": {
        "id": "226280bb",
        "outputId": "3c52cf1f-7009-4793-b13a-2e12c58557ee"
      },
      "source": [
        "[[i] for i in range(3)]"
      ],
      "id": "226280bb",
      "execution_count": null,
      "outputs": [
        {
          "data": {
            "text/plain": [
              "[[0], [1], [2]]"
            ]
          },
          "execution_count": 58,
          "metadata": {},
          "output_type": "execute_result"
        }
      ]
    },
    {
      "cell_type": "code",
      "metadata": {
        "id": "5706bb1d",
        "outputId": "64b56795-dc9a-494a-9edd-358c2a01014e"
      },
      "source": [
        "[[i ** 2] for i in range(3)]"
      ],
      "id": "5706bb1d",
      "execution_count": null,
      "outputs": [
        {
          "data": {
            "text/plain": [
              "[[0], [1], [4]]"
            ]
          },
          "execution_count": 60,
          "metadata": {},
          "output_type": "execute_result"
        }
      ]
    },
    {
      "cell_type": "code",
      "metadata": {
        "id": "3e428b13",
        "outputId": "819bafa2-191e-40f3-90c7-66d098012015"
      },
      "source": [
        "[[i ** 2] + [\"a\"] for i in range(3)]"
      ],
      "id": "3e428b13",
      "execution_count": null,
      "outputs": [
        {
          "data": {
            "text/plain": [
              "[[0, 'a'], [1, 'a'], [4, 'a']]"
            ]
          },
          "execution_count": 61,
          "metadata": {},
          "output_type": "execute_result"
        }
      ]
    },
    {
      "cell_type": "code",
      "metadata": {
        "id": "556eeb0d",
        "outputId": "e2932ef9-b84a-426d-de4b-9399d0e511f3"
      },
      "source": [
        "bos = []\n",
        "\n",
        "for i in range(3) :\n",
        "    bos.append([i])\n",
        "bos"
      ],
      "id": "556eeb0d",
      "execution_count": null,
      "outputs": [
        {
          "data": {
            "text/plain": [
              "[[0], [1], [2]]"
            ]
          },
          "execution_count": 59,
          "metadata": {},
          "output_type": "execute_result"
        }
      ]
    },
    {
      "cell_type": "code",
      "metadata": {
        "id": "3b06788a",
        "outputId": "101a89c8-7809-4c1e-99e5-1a0ab39a1ad4"
      },
      "source": [
        "boss = []\n",
        "\n",
        "for i in range(3) :\n",
        "    for j in range(4,7) :\n",
        "        boss.append(str(i) + str(j))\n",
        "        \n",
        "boss"
      ],
      "id": "3b06788a",
      "execution_count": null,
      "outputs": [
        {
          "data": {
            "text/plain": [
              "['04', '05', '06', '14', '15', '16', '24', '25', '26']"
            ]
          },
          "execution_count": 65,
          "metadata": {},
          "output_type": "execute_result"
        }
      ]
    },
    {
      "cell_type": "code",
      "metadata": {
        "id": "1dba9f93",
        "outputId": "b40d007c-67ca-4125-9cee-891d9a60dd59"
      },
      "source": [
        "[str(i) + str(j) for i in range(3) for j in range(4,7)]"
      ],
      "id": "1dba9f93",
      "execution_count": null,
      "outputs": [
        {
          "data": {
            "text/plain": [
              "['04', '05', '06', '14', '15', '16', '24', '25', '26']"
            ]
          },
          "execution_count": 66,
          "metadata": {},
          "output_type": "execute_result"
        }
      ]
    },
    {
      "cell_type": "code",
      "metadata": {
        "id": "c4c54157",
        "outputId": "3a99bb99-81c4-432f-892f-f1e72ea9e943"
      },
      "source": [
        "num_set"
      ],
      "id": "c4c54157",
      "execution_count": null,
      "outputs": [
        {
          "data": {
            "text/plain": [
              "{1, 2, 3}"
            ]
          },
          "execution_count": 67,
          "metadata": {},
          "output_type": "execute_result"
        }
      ]
    },
    {
      "cell_type": "code",
      "metadata": {
        "id": "3edb6370"
      },
      "source": [
        "# solution = [[]]\n",
        "\n",
        "# solution - 1 = [[1], [2], [3]]\n",
        "\n",
        "# solution - 2 = [[1, 2], [1, 3], [2, 1], [2, 3], [3, 1], [3, 2]]\n",
        "\n",
        "# solution - 3 = [[1, 2, 3], [1, 3, 2], [2, 1, 3], [2, 3, 1], [3, 1, 2], [3, 2, 1]]\n",
        "\n",
        "# "
      ],
      "id": "3edb6370",
      "execution_count": null,
      "outputs": []
    },
    {
      "cell_type": "code",
      "metadata": {
        "id": "cbd4e811",
        "outputId": "b6254dc9-fb53-4943-c2e7-0d05bca97501"
      },
      "source": [
        "for index in range(len(num)) :\n",
        "    solution = [i + [j] for i in solution for j in num_set.difference(set(i))]\n",
        "    print(solution)"
      ],
      "id": "cbd4e811",
      "execution_count": null,
      "outputs": [
        {
          "name": "stdout",
          "output_type": "stream",
          "text": [
            "[[1], [2], [3]]\n",
            "[[1, 2], [1, 3], [2, 1], [2, 3], [3, 1], [3, 2]]\n",
            "[[1, 2, 3], [1, 3, 2], [2, 1, 3], [2, 3, 1], [3, 1, 2], [3, 2, 1]]\n"
          ]
        }
      ]
    },
    {
      "cell_type": "code",
      "metadata": {
        "id": "8a7ae261"
      },
      "source": [
        ""
      ],
      "id": "8a7ae261",
      "execution_count": null,
      "outputs": []
    },
    {
      "cell_type": "code",
      "metadata": {
        "id": "a52eec19"
      },
      "source": [
        ""
      ],
      "id": "a52eec19",
      "execution_count": null,
      "outputs": []
    },
    {
      "cell_type": "code",
      "metadata": {
        "id": "7fa57748"
      },
      "source": [
        ""
      ],
      "id": "7fa57748",
      "execution_count": null,
      "outputs": []
    },
    {
      "cell_type": "code",
      "metadata": {
        "id": "aba1c75b"
      },
      "source": [
        ""
      ],
      "id": "aba1c75b",
      "execution_count": null,
      "outputs": []
    }
  ]
}