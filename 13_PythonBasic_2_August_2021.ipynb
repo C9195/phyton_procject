{
  "nbformat": 4,
  "nbformat_minor": 5,
  "metadata": {
    "kernelspec": {
      "display_name": "Python 3",
      "language": "python",
      "name": "python3"
    },
    "language_info": {
      "codemirror_mode": {
        "name": "ipython",
        "version": 3
      },
      "file_extension": ".py",
      "mimetype": "text/x-python",
      "name": "python",
      "nbconvert_exporter": "python",
      "pygments_lexer": "ipython3",
      "version": "3.8.8"
    },
    "colab": {
      "name": "13_PythonBasic_2-August-2021.ipynb",
      "provenance": [],
      "include_colab_link": true
    }
  },
  "cells": [
    {
      "cell_type": "markdown",
      "metadata": {
        "id": "view-in-github",
        "colab_type": "text"
      },
      "source": [
        "<a href=\"https://colab.research.google.com/github/C9195/phyton_procject/blob/main/13_PythonBasic_2_August_2021.ipynb\" target=\"_parent\"><img src=\"https://colab.research.google.com/assets/colab-badge.svg\" alt=\"Open In Colab\"/></a>"
      ]
    },
    {
      "cell_type": "markdown",
      "metadata": {
        "id": "406f2981"
      },
      "source": [
        "<img src=\"https://docs.google.com/uc?id=14xeXxFrVRjvOoUYWn_GuyE-v84wVzrqr\" class=\"img-fluid\" alt=\"CLRWY\" width=\"400\" height=\"200\">"
      ],
      "id": "406f2981"
    },
    {
      "cell_type": "markdown",
      "metadata": {
        "id": "22263af8"
      },
      "source": [
        "<h1><p style=\"text-align: center; color:darkblue\">Python In-Class, <br>02 August 2021</p><h1>"
      ],
      "id": "22263af8"
    },
    {
      "cell_type": "code",
      "metadata": {
        "id": "48ddba7a"
      },
      "source": [
        "generate = (i ** 2 for i in range(6))"
      ],
      "id": "48ddba7a",
      "execution_count": null,
      "outputs": []
    },
    {
      "cell_type": "code",
      "metadata": {
        "id": "357a0e3a",
        "outputId": "d42f2b9e-1d10-4411-e2b3-bdf16b190304"
      },
      "source": [
        "generate"
      ],
      "id": "357a0e3a",
      "execution_count": null,
      "outputs": [
        {
          "output_type": "execute_result",
          "data": {
            "text/plain": [
              "<generator object <genexpr> at 0x7fe8f8053970>"
            ]
          },
          "metadata": {
            "tags": []
          },
          "execution_count": 5
        }
      ]
    },
    {
      "cell_type": "code",
      "metadata": {
        "id": "ca5fd159",
        "outputId": "0711463d-87ab-4861-8251-d68859c1224f"
      },
      "source": [
        "print(* generate)"
      ],
      "id": "ca5fd159",
      "execution_count": null,
      "outputs": [
        {
          "output_type": "stream",
          "text": [
            "\n"
          ],
          "name": "stdout"
        }
      ]
    },
    {
      "cell_type": "code",
      "metadata": {
        "id": "6bd84810"
      },
      "source": [
        "for i in generate :\n",
        "    print(i)"
      ],
      "id": "6bd84810",
      "execution_count": null,
      "outputs": []
    },
    {
      "cell_type": "code",
      "metadata": {
        "id": "1ed5cdc3",
        "outputId": "9a5711ac-4b1c-4628-d7d8-2c14afb103ad"
      },
      "source": [
        "list(generate)"
      ],
      "id": "1ed5cdc3",
      "execution_count": null,
      "outputs": [
        {
          "output_type": "execute_result",
          "data": {
            "text/plain": [
              "[0, 1, 4, 9, 16, 25]"
            ]
          },
          "metadata": {
            "tags": []
          },
          "execution_count": 14
        }
      ]
    },
    {
      "cell_type": "code",
      "metadata": {
        "id": "bfc2b256"
      },
      "source": [
        "generate = (i ** 2 for i in range(6))"
      ],
      "id": "bfc2b256",
      "execution_count": null,
      "outputs": []
    },
    {
      "cell_type": "code",
      "metadata": {
        "id": "4bb67882",
        "outputId": "8b3ae87e-bef8-426a-9b53-7a2244be62f9"
      },
      "source": [
        "print(next(generate))"
      ],
      "id": "4bb67882",
      "execution_count": null,
      "outputs": [
        {
          "output_type": "stream",
          "text": [
            "0\n"
          ],
          "name": "stdout"
        }
      ]
    },
    {
      "cell_type": "code",
      "metadata": {
        "id": "de786a84",
        "outputId": "c35b3ade-ff09-41e6-f11d-78091bdbdcdc"
      },
      "source": [
        "print(next(generate))"
      ],
      "id": "de786a84",
      "execution_count": null,
      "outputs": [
        {
          "output_type": "stream",
          "text": [
            "1\n"
          ],
          "name": "stdout"
        }
      ]
    },
    {
      "cell_type": "code",
      "metadata": {
        "id": "1cd86065",
        "outputId": "67e8e089-1810-47af-a95d-3fbce2679f8f"
      },
      "source": [
        "print(next(generate))"
      ],
      "id": "1cd86065",
      "execution_count": null,
      "outputs": [
        {
          "output_type": "stream",
          "text": [
            "4\n"
          ],
          "name": "stdout"
        }
      ]
    },
    {
      "cell_type": "code",
      "metadata": {
        "id": "98929dc0",
        "outputId": "2a6c3ed8-d28b-4489-f4d7-0d116a14cec1"
      },
      "source": [
        "print(next(generate))"
      ],
      "id": "98929dc0",
      "execution_count": null,
      "outputs": [
        {
          "output_type": "stream",
          "text": [
            "9\n"
          ],
          "name": "stdout"
        }
      ]
    },
    {
      "cell_type": "code",
      "metadata": {
        "id": "d3a72dcc",
        "outputId": "1e6928e7-3b8a-4612-ab09-30bc249e8be5"
      },
      "source": [
        "print(next(generate))"
      ],
      "id": "d3a72dcc",
      "execution_count": null,
      "outputs": [
        {
          "output_type": "stream",
          "text": [
            "16\n"
          ],
          "name": "stdout"
        }
      ]
    },
    {
      "cell_type": "code",
      "metadata": {
        "id": "7788d5b2",
        "outputId": "65aa64fd-c439-4295-9bb8-ba3f5816a7a2"
      },
      "source": [
        "print(next(generate))"
      ],
      "id": "7788d5b2",
      "execution_count": null,
      "outputs": [
        {
          "output_type": "stream",
          "text": [
            "25\n"
          ],
          "name": "stdout"
        }
      ]
    },
    {
      "cell_type": "code",
      "metadata": {
        "id": "f84e6d87",
        "outputId": "ccdc0dcf-f020-4494-d847-dc044af52b3f"
      },
      "source": [
        "print(next(generate))"
      ],
      "id": "f84e6d87",
      "execution_count": null,
      "outputs": [
        {
          "output_type": "error",
          "ename": "StopIteration",
          "evalue": "",
          "traceback": [
            "\u001b[0;31m---------------------------------------------------------------------------\u001b[0m",
            "\u001b[0;31mStopIteration\u001b[0m                             Traceback (most recent call last)",
            "\u001b[0;32m<ipython-input-24-e0b94480744e>\u001b[0m in \u001b[0;36m<module>\u001b[0;34m\u001b[0m\n\u001b[0;32m----> 1\u001b[0;31m \u001b[0mprint\u001b[0m\u001b[0;34m(\u001b[0m\u001b[0mnext\u001b[0m\u001b[0;34m(\u001b[0m\u001b[0mgenerate\u001b[0m\u001b[0;34m)\u001b[0m\u001b[0;34m)\u001b[0m\u001b[0;34m\u001b[0m\u001b[0;34m\u001b[0m\u001b[0m\n\u001b[0m",
            "\u001b[0;31mStopIteration\u001b[0m: "
          ]
        }
      ]
    },
    {
      "cell_type": "code",
      "metadata": {
        "id": "cb11e3c5",
        "outputId": "8c26d9a7-66e3-43d4-fa77-42f7070543b9"
      },
      "source": [
        "print(* generate)"
      ],
      "id": "cb11e3c5",
      "execution_count": null,
      "outputs": [
        {
          "output_type": "stream",
          "text": [
            "9 16 25\n"
          ],
          "name": "stdout"
        }
      ]
    },
    {
      "cell_type": "markdown",
      "metadata": {
        "id": "ccda701e"
      },
      "source": [
        "## Armstrong Numbers"
      ],
      "id": "ccda701e"
    },
    {
      "cell_type": "code",
      "metadata": {
        "id": "1103f56d",
        "outputId": "0d6582ad-76c5-40d1-db56-5ebb6d7d1cf9"
      },
      "source": [
        "while True :\n",
        "    \n",
        "    number = input(\"enter a positive integer number : \")\n",
        "    digits = len(number)\n",
        "    summ = 0\n",
        "    \n",
        "    if not number.isdigit() :\n",
        "        print(number, \" is invalid entry. Enter valid input.!\")\n",
        "        \n",
        "    elif int(number) >= 0 :\n",
        "        for i in range(digits) :\n",
        "            summ = summ + int(number[i]) ** digits\n",
        "            \n",
        "        if summ == int(number) :\n",
        "            print(number, \"is an Armstrong Number.\")\n",
        "            break\n",
        "        else :\n",
        "            print(number, \"is not an Armstrong Number. Sorry.\")\n",
        "            break"
      ],
      "id": "1103f56d",
      "execution_count": null,
      "outputs": [
        {
          "output_type": "stream",
          "text": [
            "enter a positive integer number : 4338281769391370\n",
            "4338281769391370 is an Armstrong Number.\n"
          ],
          "name": "stdout"
        }
      ]
    },
    {
      "cell_type": "markdown",
      "metadata": {
        "id": "9f0564b8"
      },
      "source": [
        "## is it a Prime Number?"
      ],
      "id": "9f0564b8"
    },
    {
      "cell_type": "code",
      "metadata": {
        "id": "ab1b958e",
        "outputId": "8acf523d-8fa6-4f70-c079-87e8a240f223"
      },
      "source": [
        "n = int(input(\"Enter a positive number to check if it is a Prime Number : \"))\n",
        "count = 0\n",
        "\n",
        "for i in range(1, n+1) :\n",
        "    if n % i == 0 :\n",
        "        count += 1\n",
        "if (n == 0) or (n == 1) or (count >= 3) :\n",
        "    print(n, \"is not a Prime Number.\")\n",
        "else :\n",
        "    print(n, \"is a Prime Number.\")"
      ],
      "id": "ab1b958e",
      "execution_count": null,
      "outputs": [
        {
          "output_type": "stream",
          "text": [
            "Enter a positive number to check if it is a Prime Number : 0\n",
            "0 is not a Prime Number.\n"
          ],
          "name": "stdout"
        }
      ]
    },
    {
      "cell_type": "code",
      "metadata": {
        "id": "f749611e"
      },
      "source": [
        "def mevlana() :\n",
        "    print(\"\"\"Cömertlik ve yardım etme gibi ol\n",
        "Şefkat ve merhamette güneş\n",
        "Başkalarının kusurunu örtmede gece gibi ol.\n",
        "Hiddet ve asabivette ölü gibi ol.\n",
        "Tevazu ve alçak gönüllülükte toprak gibi ol.\n",
        "Hoşgörülükte deniz gibi ol.\n",
        "Ya olduğun gibi görün, ya göründiiğün gibi ol.\"\"\")"
      ],
      "id": "f749611e",
      "execution_count": null,
      "outputs": []
    },
    {
      "cell_type": "code",
      "metadata": {
        "id": "87b321fc",
        "outputId": "0ea14bc2-8b04-41fa-b659-b7d299339d95"
      },
      "source": [
        "mevlana()"
      ],
      "id": "87b321fc",
      "execution_count": null,
      "outputs": [
        {
          "output_type": "stream",
          "text": [
            "Cömertlik ve yardım etme gibi ol\n",
            "Şefkat ve merhamette güneş\n",
            "Başkalarının kusurunu örtmede gece gibi ol.\n",
            "Hiddet ve asabivette ölü gibi ol.\n",
            "Tevazu ve alçak gönüllülükte toprak gibi ol.\n",
            "Hoşgörülükte deniz gibi ol.\n",
            "Ya olduğun gibi görün, ya göründiiğün gibi ol.\n"
          ],
          "name": "stdout"
        }
      ]
    },
    {
      "cell_type": "code",
      "metadata": {
        "id": "f3390698"
      },
      "source": [
        "def calculator(x, y, opr) :\n",
        "    if opr == \"+\" :\n",
        "        print(x + y)\n",
        "    elif opr == \"-\" :\n",
        "        print(x - y)\n",
        "    elif opr == \"*\" :\n",
        "        print(x * y)\n",
        "    elif opr == \"/\" :\n",
        "        print(x / y)\n",
        "    else :\n",
        "        print(\"Enter a valid opr.\")"
      ],
      "id": "f3390698",
      "execution_count": null,
      "outputs": []
    },
    {
      "cell_type": "code",
      "metadata": {
        "id": "f7771289",
        "outputId": "74b424c8-0661-4542-9166-0f19dbc70739"
      },
      "source": [
        "calculator(5, 2, \"-\")"
      ],
      "id": "f7771289",
      "execution_count": null,
      "outputs": [
        {
          "output_type": "stream",
          "text": [
            "3\n"
          ],
          "name": "stdout"
        }
      ]
    },
    {
      "cell_type": "code",
      "metadata": {
        "id": "1e0a43ee",
        "outputId": "d71d1b1d-ff80-4421-a417-503d5c63ea95"
      },
      "source": [
        "type(print())"
      ],
      "id": "1e0a43ee",
      "execution_count": null,
      "outputs": [
        {
          "output_type": "stream",
          "text": [
            "\n"
          ],
          "name": "stdout"
        },
        {
          "output_type": "execute_result",
          "data": {
            "text/plain": [
              "NoneType"
            ]
          },
          "metadata": {
            "tags": []
          },
          "execution_count": 41
        }
      ]
    },
    {
      "cell_type": "code",
      "metadata": {
        "id": "e20dbb52"
      },
      "source": [
        "def calculator2(x, y, opr) :\n",
        "    if opr == \"+\" :\n",
        "        return (x + y)\n",
        "    elif opr == \"-\" :\n",
        "        return (x - y)\n",
        "    elif opr == \"*\" :\n",
        "        return (x * y)\n",
        "    elif opr == \"/\" :\n",
        "        return (x / y)\n",
        "    else : return \"Enter a valid opr.\""
      ],
      "id": "e20dbb52",
      "execution_count": null,
      "outputs": []
    },
    {
      "cell_type": "code",
      "metadata": {
        "id": "239f1124",
        "outputId": "fdc06adf-52a3-4466-f47e-f09e59f1debf"
      },
      "source": [
        "print(calculator2(9,2, \"+\"))"
      ],
      "id": "239f1124",
      "execution_count": null,
      "outputs": [
        {
          "output_type": "stream",
          "text": [
            "11\n"
          ],
          "name": "stdout"
        }
      ]
    },
    {
      "cell_type": "code",
      "metadata": {
        "id": "73564d6b"
      },
      "source": [
        "def absolute_value(num) :\n",
        "    \n",
        "    \"\"\"This function gives absolute value\n",
        "of the entered number.\"\"\"\n",
        "    \n",
        "    if num >= 0 :\n",
        "        return num\n",
        "    else :\n",
        "        return -num"
      ],
      "id": "73564d6b",
      "execution_count": null,
      "outputs": []
    },
    {
      "cell_type": "code",
      "metadata": {
        "id": "5939e914",
        "outputId": "4212f6e5-5ab8-4994-b642-cb87f2ac3c1b"
      },
      "source": [
        "print(absolute_value(-22))"
      ],
      "id": "5939e914",
      "execution_count": null,
      "outputs": [
        {
          "output_type": "stream",
          "text": [
            "22\n"
          ],
          "name": "stdout"
        }
      ]
    },
    {
      "cell_type": "code",
      "metadata": {
        "id": "12848824",
        "outputId": "a5b180f9-fc26-4e8f-9023-a5ddbe40782f"
      },
      "source": [
        "print(absolute_value.__doc__)"
      ],
      "id": "12848824",
      "execution_count": null,
      "outputs": [
        {
          "output_type": "stream",
          "text": [
            "This function gives absolute value\n",
            "of the entered number.\n"
          ],
          "name": "stdout"
        }
      ]
    },
    {
      "cell_type": "code",
      "metadata": {
        "id": "1265aaf0",
        "outputId": "2c381575-7376-4361-94eb-de392c4610a2"
      },
      "source": [
        "print(print.__doc__)"
      ],
      "id": "1265aaf0",
      "execution_count": null,
      "outputs": [
        {
          "output_type": "stream",
          "text": [
            "print(value, ..., sep=' ', end='\\n', file=sys.stdout, flush=False)\n",
            "\n",
            "Prints the values to a stream, or to sys.stdout by default.\n",
            "Optional keyword arguments:\n",
            "file:  a file-like object (stream); defaults to the current sys.stdout.\n",
            "sep:   string inserted between values, default a space.\n",
            "end:   string appended after the last value, default a newline.\n",
            "flush: whether to forcibly flush the stream.\n"
          ],
          "name": "stdout"
        }
      ]
    },
    {
      "cell_type": "markdown",
      "metadata": {
        "id": "48ca97f6"
      },
      "source": [
        "```python\n",
        "\n",
        "def print(parameters) :\n",
        "    body\n",
        "```"
      ],
      "id": "48ca97f6"
    },
    {
      "cell_type": "code",
      "metadata": {
        "id": "41e665b4",
        "outputId": "18b98253-ddac-4caf-cc0e-7b0d8b260f0b"
      },
      "source": [
        "print(abs.__doc__)"
      ],
      "id": "41e665b4",
      "execution_count": null,
      "outputs": [
        {
          "output_type": "stream",
          "text": [
            "Return the absolute value of the argument.\n"
          ],
          "name": "stdout"
        }
      ]
    },
    {
      "cell_type": "code",
      "metadata": {
        "id": "cee45033"
      },
      "source": [
        ""
      ],
      "id": "cee45033",
      "execution_count": null,
      "outputs": []
    },
    {
      "cell_type": "code",
      "metadata": {
        "id": "03c962b5"
      },
      "source": [
        ""
      ],
      "id": "03c962b5",
      "execution_count": null,
      "outputs": []
    },
    {
      "cell_type": "code",
      "metadata": {
        "id": "4049f6d7"
      },
      "source": [
        ""
      ],
      "id": "4049f6d7",
      "execution_count": null,
      "outputs": []
    }
  ]
}