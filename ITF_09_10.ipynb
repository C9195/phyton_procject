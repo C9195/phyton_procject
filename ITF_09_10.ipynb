{
  "nbformat": 4,
  "nbformat_minor": 0,
  "metadata": {
    "colab": {
      "name": "ITF_09_10.ipynb",
      "provenance": [],
      "authorship_tag": "ABX9TyN9TA6/l9L39fVtSK1cNC7V",
      "include_colab_link": true
    },
    "kernelspec": {
      "name": "python3",
      "display_name": "Python 3"
    },
    "language_info": {
      "name": "python"
    }
  },
  "cells": [
    {
      "cell_type": "markdown",
      "metadata": {
        "id": "view-in-github",
        "colab_type": "text"
      },
      "source": [
        "<a href=\"https://colab.research.google.com/github/C9195/phyton_procject/blob/main/ITF_09_10.ipynb\" target=\"_parent\"><img src=\"https://colab.research.google.com/assets/colab-badge.svg\" alt=\"Open In Colab\"/></a>"
      ]
    },
    {
      "cell_type": "code",
      "metadata": {
        "colab": {
          "base_uri": "https://localhost:8080/",
          "height": 131
        },
        "id": "RA0e9el7owBi",
        "outputId": "32893252-21d1-4f60-8655-a8d1f19e79d1"
      },
      "source": [
        "def san(x):\n",
        " print(x+1)\n",
        "print(x+1)\n",
        "x=-2\n",
        "x=4\n",
        "san(12)\n"
      ],
      "execution_count": 9,
      "outputs": [
        {
          "output_type": "error",
          "ename": "IndentationError",
          "evalue": "ignored",
          "traceback": [
            "\u001b[0;36m  File \u001b[0;32m\"<ipython-input-9-0c800d0d66f8>\"\u001b[0;36m, line \u001b[0;32m4\u001b[0m\n\u001b[0;31m    x=-2\u001b[0m\n\u001b[0m    ^\u001b[0m\n\u001b[0;31mIndentationError\u001b[0m\u001b[0;31m:\u001b[0m unexpected indent\n"
          ]
        }
      ]
    },
    {
      "cell_type": "code",
      "metadata": {
        "colab": {
          "base_uri": "https://localhost:8080/"
        },
        "id": "_ILu1RWgpDKg",
        "outputId": "b8e0e86d-e806-4817-c62e-2ca21ebfcee2"
      },
      "source": [
        "def foo(fname, val):\n",
        " print(fname(val))\n",
        "foo(max, [1, 2, 3])\n",
        "foo(min, [1, 2, 3])"
      ],
      "execution_count": 2,
      "outputs": [
        {
          "output_type": "stream",
          "text": [
            "3\n",
            "1\n"
          ],
          "name": "stdout"
        }
      ]
    },
    {
      "cell_type": "code",
      "metadata": {
        "colab": {
          "base_uri": "https://localhost:8080/"
        },
        "id": "inGvdeYdpDG3",
        "outputId": "0fa48aac-0ba6-4fd1-d48c-2ae769e5cf78"
      },
      "source": [
        "count = 0\n",
        "my_string = \"Clarusway\"\n",
        "my_char = \"a\"\n",
        "for i in my_string:\n",
        " if i == my_char:\n",
        "  count += 1\n",
        "print(count)\n"
      ],
      "execution_count": 4,
      "outputs": [
        {
          "output_type": "stream",
          "text": [
            "2\n"
          ],
          "name": "stdout"
        }
      ]
    },
    {
      "cell_type": "code",
      "metadata": {
        "colab": {
          "base_uri": "https://localhost:8080/"
        },
        "id": "TARn-ORspDC0",
        "outputId": "c4eb0df5-8d85-4b08-a930-66a2898fedc6"
      },
      "source": [
        "num = 2013\n",
        "reversed_num = 0\n",
        "while num != 0:\n",
        " digit = num % 10\n",
        " reversed_num = reversed_num * 10 + digit\n",
        " num //= 10\n",
        "print(reversed_num)"
      ],
      "execution_count": 10,
      "outputs": [
        {
          "output_type": "stream",
          "text": [
            "3102\n"
          ],
          "name": "stdout"
        }
      ]
    },
    {
      "cell_type": "code",
      "metadata": {
        "colab": {
          "base_uri": "https://localhost:8080/"
        },
        "id": "swPwOcrZpC_N",
        "outputId": "688b1879-c78f-4954-bcf6-691da3686673"
      },
      "source": [
        "f=lambda x:bool(x%2)\n",
        "print(f(20), f(21))\n"
      ],
      "execution_count": 6,
      "outputs": [
        {
          "output_type": "stream",
          "text": [
            "False True\n"
          ],
          "name": "stdout"
        }
      ]
    },
    {
      "cell_type": "code",
      "metadata": {
        "id": "rDhee0vRpC7N"
      },
      "source": [
        ""
      ],
      "execution_count": null,
      "outputs": []
    },
    {
      "cell_type": "code",
      "metadata": {
        "id": "0ItEVgGxpC3b"
      },
      "source": [
        ""
      ],
      "execution_count": null,
      "outputs": []
    },
    {
      "cell_type": "code",
      "metadata": {
        "id": "wKLPLZVZpCj8"
      },
      "source": [
        ""
      ],
      "execution_count": null,
      "outputs": []
    },
    {
      "cell_type": "code",
      "metadata": {
        "id": "qyCox_zxpCgP"
      },
      "source": [
        ""
      ],
      "execution_count": null,
      "outputs": []
    },
    {
      "cell_type": "code",
      "metadata": {
        "id": "g9NMrHWipCbS"
      },
      "source": [
        ""
      ],
      "execution_count": null,
      "outputs": []
    }
  ]
}