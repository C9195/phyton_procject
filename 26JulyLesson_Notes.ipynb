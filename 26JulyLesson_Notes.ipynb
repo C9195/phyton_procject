{
  "nbformat": 4,
  "nbformat_minor": 0,
  "metadata": {
    "colab": {
      "name": "26JulyLesson_Notes.ipynb",
      "provenance": [],
      "collapsed_sections": [],
      "authorship_tag": "ABX9TyPhceUIa+M4HNVQPxdGmNwk",
      "include_colab_link": true
    },
    "kernelspec": {
      "name": "python3",
      "display_name": "Python 3"
    },
    "language_info": {
      "name": "python"
    }
  },
  "cells": [
    {
      "cell_type": "markdown",
      "metadata": {
        "id": "view-in-github",
        "colab_type": "text"
      },
      "source": [
        "<a href=\"https://colab.research.google.com/github/C9195/phyton_procject/blob/main/26JulyLesson_Notes.ipynb\" target=\"_parent\"><img src=\"https://colab.research.google.com/assets/colab-badge.svg\" alt=\"Open In Colab\"/></a>"
      ]
    },
    {
      "cell_type": "code",
      "metadata": {
        "colab": {
          "base_uri": "https://localhost:8080/"
        },
        "id": "TZgiGWtjxRT0",
        "outputId": "5bba475e-7eee-4301-c25f-c94d9c4c990f"
      },
      "source": [
        "while 0 :\n",
        "  print(\"bir\")\n",
        "print (\"iki\")"
      ],
      "execution_count": 1,
      "outputs": [
        {
          "output_type": "stream",
          "text": [
            "iki\n"
          ],
          "name": "stdout"
        }
      ]
    },
    {
      "cell_type": "code",
      "metadata": {
        "colab": {
          "base_uri": "https://localhost:8080/"
        },
        "id": "g2xdtg8b20yx",
        "outputId": "a35c2496-66f4-4ff9-a0fb-d3621ff97241"
      },
      "source": [
        "while ():\n",
        "  print(\"while\")\n",
        "print(\"outside of while\")"
      ],
      "execution_count": 2,
      "outputs": [
        {
          "output_type": "stream",
          "text": [
            "outside of while\n"
          ],
          "name": "stdout"
        }
      ]
    },
    {
      "cell_type": "code",
      "metadata": {
        "id": "r3vkMFH72_uW"
      },
      "source": [
        "# bunlar döngüye girmez falsy olduğu için w#\n",
        "#while döngüsü true olduğu sürece döner#"
      ],
      "execution_count": null,
      "outputs": []
    },
    {
      "cell_type": "code",
      "metadata": {
        "colab": {
          "base_uri": "https://localhost:8080/"
        },
        "id": "jePVdesn3LC2",
        "outputId": "27a890ec-0273-435d-f4fd-263595f95382"
      },
      "source": [
        "\"-16\".isdigit()"
      ],
      "execution_count": 3,
      "outputs": [
        {
          "output_type": "execute_result",
          "data": {
            "text/plain": [
              "False"
            ]
          },
          "metadata": {
            "tags": []
          },
          "execution_count": 3
        }
      ]
    },
    {
      "cell_type": "code",
      "metadata": {
        "colab": {
          "base_uri": "https://localhost:8080/"
        },
        "id": "Qijfaw4V3LQi",
        "outputId": "96d09ba7-47e7-428f-f7a8-bfe67249ff6f"
      },
      "source": [
        "\"1234567\".isdigit()"
      ],
      "execution_count": 4,
      "outputs": [
        {
          "output_type": "execute_result",
          "data": {
            "text/plain": [
              "True"
            ]
          },
          "metadata": {
            "tags": []
          },
          "execution_count": 4
        }
      ]
    },
    {
      "cell_type": "code",
      "metadata": {
        "colab": {
          "base_uri": "https://localhost:8080/"
        },
        "id": "n2gbDKw03LaM",
        "outputId": "a21ba403-8925-45b3-93a2-655257b0a0aa"
      },
      "source": [
        "age=input(\"enter your age in correct format\")\n",
        "while not age.isdigit():\n",
        "  print(\"you entered incorrect.write out correct format.\")\n",
        "  age=input(\"enter your age in correct format\")\n",
        "print(\"your age is: \",age)"
      ],
      "execution_count": 8,
      "outputs": [
        {
          "output_type": "stream",
          "text": [
            "enter your age in correct format15\n",
            "your age is:  15\n"
          ],
          "name": "stdout"
        }
      ]
    },
    {
      "cell_type": "code",
      "metadata": {
        "colab": {
          "base_uri": "https://localhost:8080/"
        },
        "id": "uOBNXYPQ3Lgs",
        "outputId": "5ac92d76-04ee-48a5-80a0-9ddc837fa97f"
      },
      "source": [
        "answer = 28\n",
        "question = \"what a two digit number am ı thinkling of\"\n",
        "print(\"lets play\")\n",
        "while True:#kullnıcıdan herhangi bir veri alınıyorsa doğru cevabı formatı#\n",
        " #aldırana kadar tekrar ettirmek için while döngüsü kullanılır#\n",
        "  guess = int(input(question))\n",
        "\n",
        "  if guess < answer :\n",
        "    print(\"litter higher\")\n",
        "  elif guess> answer :\n",
        "    print(\"little lower\")\n",
        "  else:\n",
        "    print(\"perfecto\")\n",
        "    break"
      ],
      "execution_count": 9,
      "outputs": [
        {
          "output_type": "stream",
          "text": [
            "lets play\n",
            "what a two digit number am ı thinkling of36\n",
            "little lower\n",
            "what a two digit number am ı thinkling of15\n",
            "litter higher\n",
            "what a two digit number am ı thinkling of25\n",
            "litter higher\n",
            "what a two digit number am ı thinkling of28\n",
            "perfecto\n"
          ],
          "name": "stdout"
        }
      ]
    },
    {
      "cell_type": "code",
      "metadata": {
        "colab": {
          "base_uri": "https://localhost:8080/"
        },
        "id": "VPCmivjn3Lk4",
        "outputId": "cfdadc14-8c9d-4a91-fc69-1651296a4568"
      },
      "source": [
        "\"clarusway is the best\" #stringi sprit metoduyla liste oluşturabiliyorum#\n",
        "\n",
        "sentence=input(\"give me a sentence without any punctutation\")\n",
        "words = sentence.split() \n",
        "i=0 \n",
        "longest = 0\n",
        "\n",
        "while i< len(words) :\n",
        "  if len(words[i]) > longest:\n",
        "      longest = len(words[i])\n",
        "  i +=1\n",
        "print(\"the lenght of the longest word is :\",longest)"
      ],
      "execution_count": 13,
      "outputs": [
        {
          "output_type": "stream",
          "text": [
            "give me a sentence without any punctutationclarusway is the best\n",
            "the lenght of the longest word is : 9\n"
          ],
          "name": "stdout"
        }
      ]
    },
    {
      "cell_type": "code",
      "metadata": {
        "colab": {
          "base_uri": "https://localhost:8080/"
        },
        "id": "NDGw0zz-3LrT",
        "outputId": "e6ee893c-b636-4f4a-db1c-b8704f004419"
      },
      "source": [
        "\"ben sizlerle birlikte olmaktan çok memnunum\".split()"
      ],
      "execution_count": 10,
      "outputs": [
        {
          "output_type": "execute_result",
          "data": {
            "text/plain": [
              "['ben', 'sizlerle', 'birlikte', 'olmaktan', 'çok', 'memnunum']"
            ]
          },
          "metadata": {
            "tags": []
          },
          "execution_count": 10
        }
      ]
    },
    {
      "cell_type": "code",
      "metadata": {
        "colab": {
          "base_uri": "https://localhost:8080/"
        },
        "id": "TD5N3CYk3LxD",
        "outputId": "0b586122-4f4c-4fab-f6b3-0d1979c5233a"
      },
      "source": [
        "abs = [1,2,3,4,5,6]\n",
        "for i in abs :\n",
        "  print(i)"
      ],
      "execution_count": 19,
      "outputs": [
        {
          "output_type": "stream",
          "text": [
            "1\n",
            "2\n",
            "3\n",
            "4\n",
            "5\n",
            "6\n"
          ],
          "name": "stdout"
        }
      ]
    },
    {
      "cell_type": "code",
      "metadata": {
        "colab": {
          "base_uri": "https://localhost:8080/"
        },
        "id": "AQdSydeJEZIO",
        "outputId": "762e8c0c-bd03-4d81-9973-cb6fede11970"
      },
      "source": [
        "seasons = [\"spring\",\"summer\",\"winter\",\"autumn\"]\n",
        "for season in seasons :\n",
        "  print(season)\n"
      ],
      "execution_count": 38,
      "outputs": [
        {
          "output_type": "stream",
          "text": [
            "spring\n",
            "summer\n",
            "winter\n",
            "autumn\n"
          ],
          "name": "stdout"
        }
      ]
    },
    {
      "cell_type": "code",
      "metadata": {
        "colab": {
          "base_uri": "https://localhost:8080/"
        },
        "id": "65gER54jEYxV",
        "outputId": "972541e5-ca46-44fb-b20d-64a6f1389700"
      },
      "source": [
        "names = [\"ahmet\",\"aisha\",\"adam\",\"joseph\",\"gabriel\"]\n",
        "for i in names:\n",
        "  print(\"hello\",i)"
      ],
      "execution_count": 20,
      "outputs": [
        {
          "output_type": "stream",
          "text": [
            "hello ahmet\n",
            "hello aisha\n",
            "hello adam\n",
            "hello joseph\n",
            "hello gabriel\n"
          ],
          "name": "stdout"
        }
      ]
    },
    {
      "cell_type": "code",
      "metadata": {
        "colab": {
          "base_uri": "https://localhost:8080/"
        },
        "id": "_y2N47j6EYmr",
        "outputId": "e2f113d6-4685-4489-abed-86cb7d9787a7"
      },
      "source": [
        "sayilar =[]\n",
        "\n",
        "for i in range(1,6):\n",
        "  sayilar.append(i)\n",
        "print(sayilar)\n"
      ],
      "execution_count": 21,
      "outputs": [
        {
          "output_type": "stream",
          "text": [
            "[1, 2, 3, 4, 5]\n"
          ],
          "name": "stdout"
        }
      ]
    },
    {
      "cell_type": "code",
      "metadata": {
        "colab": {
          "base_uri": "https://localhost:8080/"
        },
        "id": "HMzoA98oEYce",
        "outputId": "fddfab82-1ac1-4747-c78a-57317c3ecd14"
      },
      "source": [
        "for i in range(1,6) :\n",
        "  print (i,end=\" \")"
      ],
      "execution_count": 23,
      "outputs": [
        {
          "output_type": "stream",
          "text": [
            "1 2 3 4 5 "
          ],
          "name": "stdout"
        }
      ]
    },
    {
      "cell_type": "code",
      "metadata": {
        "colab": {
          "base_uri": "https://localhost:8080/"
        },
        "id": "oPk6owhTEYRy",
        "outputId": "b9b95ef1-46c1-4939-eb75-50361e1b9ee7"
      },
      "source": [
        "word = \"clarusway\"\n",
        "\n",
        "for i in word :\n",
        "  print(i, end=\"-\")"
      ],
      "execution_count": 31,
      "outputs": [
        {
          "output_type": "stream",
          "text": [
            "c-l-a-r-u-s-w-a-y-"
          ],
          "name": "stdout"
        }
      ]
    },
    {
      "cell_type": "code",
      "metadata": {
        "colab": {
          "base_uri": "https://localhost:8080/"
        },
        "id": "LEyocAH-EYEO",
        "outputId": "88b57a84-6d01-4c26-8d38-5c410f22d6fc"
      },
      "source": [
        "word =\"clarusway\"\n",
        "count = 0\n",
        "for i in word :\n",
        "    count +=1\n",
        "    if count<len (word) :\n",
        "        i= i+\"-\"\n",
        "    print(i,end= \"\")"
      ],
      "execution_count": 34,
      "outputs": [
        {
          "output_type": "stream",
          "text": [
            "c-l-a-r-u-s-w-a-y"
          ],
          "name": "stdout"
        }
      ]
    },
    {
      "cell_type": "code",
      "metadata": {
        "colab": {
          "base_uri": "https://localhost:8080/"
        },
        "id": "M-Lr-IGr3L3D",
        "outputId": "7e57dd00-1cba-44e3-90fa-08174b51c246"
      },
      "source": [
        "user ={\n",
        "    \"name\" :\"daniel\",\n",
        "    \"surname\":\"smith\",\n",
        "    \"age\":35\n",
        "    }\n",
        "for key,value in user.items() :\n",
        "    print(key,\":\",value)\n"
      ],
      "execution_count": 37,
      "outputs": [
        {
          "output_type": "stream",
          "text": [
            "name : daniel\n",
            "surname : smith\n",
            "age : 35\n"
          ],
          "name": "stdout"
        }
      ]
    },
    {
      "cell_type": "code",
      "metadata": {
        "id": "vNy4EojXPkSt"
      },
      "source": [
        "times = int(input(\"how many timeslkdfgjldjgldgj\"))\n",
        "\n",
        "  "
      ],
      "execution_count": null,
      "outputs": []
    },
    {
      "cell_type": "code",
      "metadata": {
        "id": "oV1Jb8isRQoo"
      },
      "source": [
        "#kullanıcı 5 girecek ve çarpım tablşosu yapılacak#"
      ],
      "execution_count": null,
      "outputs": []
    },
    {
      "cell_type": "code",
      "metadata": {
        "colab": {
          "base_uri": "https://localhost:8080/"
        },
        "id": "BV4y_yX9RQe9",
        "outputId": "4e85b000-647d-4cb3-bafa-aa951303cb7d"
      },
      "source": [
        "sayi = int(input(\"sayı giriniz: \"))\n",
        "for i in range(11):\n",
        "  print('{}x{} = '.format(sayi,i), sayi*i)"
      ],
      "execution_count": 42,
      "outputs": [
        {
          "output_type": "stream",
          "text": [
            "sayı giriniz: 5\n",
            "5x0 =  0\n",
            "5x1 =  5\n",
            "5x2 =  10\n",
            "5x3 =  15\n",
            "5x4 =  20\n",
            "5x5 =  25\n",
            "5x6 =  30\n",
            "5x7 =  35\n",
            "5x8 =  40\n",
            "5x9 =  45\n",
            "5x10 =  50\n"
          ],
          "name": "stdout"
        }
      ]
    },
    {
      "cell_type": "code",
      "metadata": {
        "colab": {
          "base_uri": "https://localhost:8080/"
        },
        "id": "thvBW_tWRQU9",
        "outputId": "10dfa4cf-83b0-48d3-de70-efb332343d04"
      },
      "source": [
        "for i in range(1,10):\n",
        "  print(str(i)*i)"
      ],
      "execution_count": 43,
      "outputs": [
        {
          "output_type": "stream",
          "text": [
            "1\n",
            "22\n",
            "333\n",
            "4444\n",
            "55555\n",
            "666666\n",
            "7777777\n",
            "88888888\n",
            "999999999\n"
          ],
          "name": "stdout"
        }
      ]
    },
    {
      "cell_type": "code",
      "metadata": {
        "colab": {
          "base_uri": "https://localhost:8080/"
        },
        "id": "24kbGPTbRQJ3",
        "outputId": "5e17b6e9-c843-4224-e2fd-230e454c7b7a"
      },
      "source": [
        "for i in range(1,10):\n",
        "  print(f'{i}'*i)"
      ],
      "execution_count": 44,
      "outputs": [
        {
          "output_type": "stream",
          "text": [
            "1\n",
            "22\n",
            "333\n",
            "4444\n",
            "55555\n",
            "666666\n",
            "7777777\n",
            "88888888\n",
            "999999999\n"
          ],
          "name": "stdout"
        }
      ]
    },
    {
      "cell_type": "code",
      "metadata": {
        "colab": {
          "base_uri": "https://localhost:8080/"
        },
        "id": "VZ8nm8DlRP6N",
        "outputId": "2b8c4555-f5bc-4d4a-cab0-7fd889181d73"
      },
      "source": [
        "print (\"2\"*2)"
      ],
      "execution_count": 45,
      "outputs": [
        {
          "output_type": "stream",
          "text": [
            "22\n"
          ],
          "name": "stdout"
        }
      ]
    },
    {
      "cell_type": "code",
      "metadata": {
        "colab": {
          "base_uri": "https://localhost:8080/"
        },
        "id": "nnszFbh1UWay",
        "outputId": "9d4fc122-5ae8-47e5-dc68-ea6b6aa3680b"
      },
      "source": [
        "for i in range(1,10) :\n",
        "  print(str(i)*i)"
      ],
      "execution_count": 47,
      "outputs": [
        {
          "output_type": "stream",
          "text": [
            "1\n",
            "22\n",
            "333\n",
            "4444\n",
            "55555\n",
            "666666\n",
            "7777777\n",
            "88888888\n",
            "999999999\n"
          ],
          "name": "stdout"
        }
      ]
    },
    {
      "cell_type": "code",
      "metadata": {
        "colab": {
          "base_uri": "https://localhost:8080/"
        },
        "id": "Hdp7358rUegL",
        "outputId": "64a9fd35-fc28-4096-b6b6-35104aa3be4d"
      },
      "source": [
        "a = set(range(0,10))\n",
        "print (a)"
      ],
      "execution_count": 48,
      "outputs": [
        {
          "output_type": "stream",
          "text": [
            "{0, 1, 2, 3, 4, 5, 6, 7, 8, 9}\n"
          ],
          "name": "stdout"
        }
      ]
    },
    {
      "cell_type": "code",
      "metadata": {
        "colab": {
          "base_uri": "https://localhost:8080/"
        },
        "id": "Di4PgDokVNqa",
        "outputId": "54a4e94a-08fe-4e6c-dd0a-52c762b80663"
      },
      "source": [
        "print(*range(5,25,2))"
      ],
      "execution_count": 49,
      "outputs": [
        {
          "output_type": "stream",
          "text": [
            "5 7 9 11 13 15 17 19 21 23\n"
          ],
          "name": "stdout"
        }
      ]
    },
    {
      "cell_type": "code",
      "metadata": {
        "colab": {
          "base_uri": "https://localhost:8080/"
        },
        "id": "6Rjo1FAcVgL-",
        "outputId": "d389fb51-7ce2-441e-cabd-da39fc6e4891"
      },
      "source": [
        "print(range(5,25,2))"
      ],
      "execution_count": 50,
      "outputs": [
        {
          "output_type": "stream",
          "text": [
            "range(5, 25, 2)\n"
          ],
          "name": "stdout"
        }
      ]
    },
    {
      "cell_type": "code",
      "metadata": {
        "colab": {
          "base_uri": "https://localhost:8080/"
        },
        "id": "RIuRkHmMVjuy",
        "outputId": "1259a9a2-f522-4fb1-9c78-d37aaa616a98"
      },
      "source": [
        "print(*range(10,0,-2))"
      ],
      "execution_count": 51,
      "outputs": [
        {
          "output_type": "stream",
          "text": [
            "10 8 6 4 2\n"
          ],
          "name": "stdout"
        }
      ]
    },
    {
      "cell_type": "code",
      "metadata": {
        "colab": {
          "base_uri": "https://localhost:8080/"
        },
        "id": "o3DFNnFgVxn0",
        "outputId": "acaa29db-03a7-49e1-dcd9-e6908dcd9266"
      },
      "source": [
        "#zip iki iterable ı match ediyor#\n",
        "text = [\"a\",\"b\",\"c\"]\n",
        "number =[1,2,4,]\n",
        "for x,y in  zip(text, number):\n",
        "    print(x,\":\",y)\n"
      ],
      "execution_count": 57,
      "outputs": [
        {
          "output_type": "stream",
          "text": [
            "a : 1\n",
            "b : 2\n",
            "c : 4\n"
          ],
          "name": "stdout"
        }
      ]
    },
    {
      "cell_type": "code",
      "metadata": {
        "colab": {
          "base_uri": "https://localhost:8080/"
        },
        "id": "fIGMSX7PWrxF",
        "outputId": "3f7e1734-4978-4ba1-8336-853369667bd1"
      },
      "source": [
        "evens = []\n",
        "odds = []\n",
        "for i in range(11):\n",
        "    if i %2==0 :\n",
        "      evens.append(i)\n",
        "    else:\n",
        "      odds.append(i)\n",
        "print (evens)\n",
        "print(odds)"
      ],
      "execution_count": 60,
      "outputs": [
        {
          "output_type": "stream",
          "text": [
            "[0, 2, 4, 6, 8, 10]\n",
            "[1, 3, 5, 7, 9]\n"
          ],
          "name": "stdout"
        }
      ]
    },
    {
      "cell_type": "code",
      "metadata": {
        "id": "1uAr-h9-Yw1M"
      },
      "source": [
        ""
      ],
      "execution_count": null,
      "outputs": []
    }
  ]
}