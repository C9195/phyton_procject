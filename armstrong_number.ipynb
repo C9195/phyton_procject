{
  "nbformat": 4,
  "nbformat_minor": 0,
  "metadata": {
    "colab": {
      "name": "Untitled15.ipynb",
      "provenance": [],
      "collapsed_sections": [],
      "authorship_tag": "ABX9TyM84S9AOs0/TByYo3iq2WAe",
      "include_colab_link": true
    },
    "kernelspec": {
      "name": "python3",
      "display_name": "Python 3"
    },
    "language_info": {
      "name": "python"
    }
  },
  "cells": [
    {
      "cell_type": "markdown",
      "metadata": {
        "id": "view-in-github",
        "colab_type": "text"
      },
      "source": [
        "<a href=\"https://colab.research.google.com/github/C9195/phyton_procject/blob/main/armstrong_number.ipynb\" target=\"_parent\"><img src=\"https://colab.research.google.com/assets/colab-badge.svg\" alt=\"Open In Colab\"/></a>"
      ]
    },
    {
      "cell_type": "code",
      "metadata": {
        "id": "X-XLvUOIHyHO"
      },
      "source": [
        "number = int(input(\"Enter a number : \"))\n",
        "a = list(str(number))\n",
        "b = len(a) \n",
        "def usal (eleman) :\n",
        "  return int(eleman)**b\n",
        "uslu_sayılar = list(map(usal ,a))\n",
        "print(uslu_sayılar)\n",
        "total = sum(uslu_sayılar)\n",
        "if total == number :\n",
        "  print(number, \"is an Armstrong number\")\n",
        "else :\n",
        "  print(number,\"is not an Armstrong number\")"
      ],
      "execution_count": null,
      "outputs": []
    },
    {
      "cell_type": "code",
      "metadata": {
        "id": "C8jGCg5qJq2Y"
      },
      "source": [
        ""
      ],
      "execution_count": null,
      "outputs": []
    }
  ]
}