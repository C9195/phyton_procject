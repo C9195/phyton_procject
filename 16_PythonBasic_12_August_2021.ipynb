{
  "nbformat": 4,
  "nbformat_minor": 5,
  "metadata": {
    "kernelspec": {
      "display_name": "Python 3",
      "language": "python",
      "name": "python3"
    },
    "language_info": {
      "codemirror_mode": {
        "name": "ipython",
        "version": 3
      },
      "file_extension": ".py",
      "mimetype": "text/x-python",
      "name": "python",
      "nbconvert_exporter": "python",
      "pygments_lexer": "ipython3",
      "version": "3.8.8"
    },
    "colab": {
      "name": "16_PythonBasic_12-August-2021.ipynb",
      "provenance": [],
      "include_colab_link": true
    }
  },
  "cells": [
    {
      "cell_type": "markdown",
      "metadata": {
        "id": "view-in-github",
        "colab_type": "text"
      },
      "source": [
        "<a href=\"https://colab.research.google.com/github/C9195/phyton_procject/blob/main/16_PythonBasic_12_August_2021.ipynb\" target=\"_parent\"><img src=\"https://colab.research.google.com/assets/colab-badge.svg\" alt=\"Open In Colab\"/></a>"
      ]
    },
    {
      "cell_type": "markdown",
      "metadata": {
        "id": "406f2981"
      },
      "source": [
        "<img src=\"https://docs.google.com/uc?id=14xeXxFrVRjvOoUYWn_GuyE-v84wVzrqr\" class=\"img-fluid\" alt=\"CLRWY\" width=\"400\" height=\"200\">"
      ],
      "id": "406f2981"
    },
    {
      "cell_type": "markdown",
      "metadata": {
        "id": "22263af8"
      },
      "source": [
        "<h1><p style=\"text-align: center; color:darkblue\">Python + In-Class, <br>12 August 2021</p><h1>"
      ],
      "id": "22263af8"
    },
    {
      "cell_type": "code",
      "metadata": {
        "id": "4cbdde2c",
        "outputId": "e1260db1-c012-4a06-b7bb-5d8b65bc0f1e"
      },
      "source": [
        "lambda x : \"odd\" if x % 2 != 0 else \"even\""
      ],
      "id": "4cbdde2c",
      "execution_count": null,
      "outputs": [
        {
          "output_type": "execute_result",
          "data": {
            "text/plain": [
              "<function __main__.<lambda>(x)>"
            ]
          },
          "metadata": {
            "tags": []
          },
          "execution_count": 1
        }
      ]
    },
    {
      "cell_type": "code",
      "metadata": {
        "id": "27a5eccf",
        "outputId": "ff63b911-a7d7-4fc7-f96f-7bf437473f48"
      },
      "source": [
        "(lambda x : x[::-1])(\"ila\")"
      ],
      "id": "27a5eccf",
      "execution_count": null,
      "outputs": [
        {
          "output_type": "execute_result",
          "data": {
            "text/plain": [
              "'ali'"
            ]
          },
          "metadata": {
            "tags": []
          },
          "execution_count": 2
        }
      ]
    },
    {
      "cell_type": "code",
      "metadata": {
        "id": "5923f92c",
        "outputId": "4e46c6e9-3ff2-4fdc-a8d3-b9540061516c"
      },
      "source": [
        "(lambda x, y : (x + y) / 2)(3,5)"
      ],
      "id": "5923f92c",
      "execution_count": null,
      "outputs": [
        {
          "output_type": "execute_result",
          "data": {
            "text/plain": [
              "4.0"
            ]
          },
          "metadata": {
            "tags": []
          },
          "execution_count": 3
        }
      ]
    },
    {
      "cell_type": "code",
      "metadata": {
        "id": "f0e51cc5"
      },
      "source": [
        "average = lambda x, y: (x+y)/2"
      ],
      "id": "f0e51cc5",
      "execution_count": null,
      "outputs": []
    },
    {
      "cell_type": "code",
      "metadata": {
        "id": "19984bab",
        "outputId": "c8e51cd2-f36a-437c-9c0e-ea7f6d8d5113"
      },
      "source": [
        "print(average(3, 5))"
      ],
      "id": "19984bab",
      "execution_count": null,
      "outputs": [
        {
          "output_type": "stream",
          "text": [
            "4.0\n"
          ],
          "name": "stdout"
        }
      ]
    },
    {
      "cell_type": "code",
      "metadata": {
        "id": "966fd189"
      },
      "source": [
        "iterable = \"clarusway\""
      ],
      "id": "966fd189",
      "execution_count": null,
      "outputs": []
    },
    {
      "cell_type": "code",
      "metadata": {
        "id": "c6870a40"
      },
      "source": [
        "reverser = lambda x : x[::-1]"
      ],
      "id": "c6870a40",
      "execution_count": null,
      "outputs": []
    },
    {
      "cell_type": "code",
      "metadata": {
        "id": "9a411127",
        "outputId": "c454f814-7b46-4c23-e968-54e44a4e12c6"
      },
      "source": [
        "reverser(iterable)"
      ],
      "id": "9a411127",
      "execution_count": null,
      "outputs": [
        {
          "output_type": "execute_result",
          "data": {
            "text/plain": [
              "'yawsuralc'"
            ]
          },
          "metadata": {
            "tags": []
          },
          "execution_count": 8
        }
      ]
    },
    {
      "cell_type": "code",
      "metadata": {
        "id": "133f32c5"
      },
      "source": [
        "def square(n) :\n",
        "    return n ** 2"
      ],
      "id": "133f32c5",
      "execution_count": null,
      "outputs": []
    },
    {
      "cell_type": "code",
      "metadata": {
        "id": "af66f76b"
      },
      "source": [
        "rakamlar = [1,2,3,4,5]"
      ],
      "id": "af66f76b",
      "execution_count": null,
      "outputs": []
    },
    {
      "cell_type": "code",
      "metadata": {
        "id": "ffb822f7"
      },
      "source": [
        "result = map(square, rakamlar)"
      ],
      "id": "ffb822f7",
      "execution_count": null,
      "outputs": []
    },
    {
      "cell_type": "code",
      "metadata": {
        "id": "585741f8",
        "outputId": "ed335511-5f0f-4e9f-9cf4-21ac90702043"
      },
      "source": [
        "for i in result :\n",
        "    print(i)"
      ],
      "id": "585741f8",
      "execution_count": null,
      "outputs": [
        {
          "output_type": "stream",
          "text": [
            "1\n",
            "4\n",
            "9\n",
            "16\n",
            "25\n"
          ],
          "name": "stdout"
        }
      ]
    },
    {
      "cell_type": "code",
      "metadata": {
        "id": "0bb23eaf",
        "outputId": "be263163-db5b-4430-d045-00e6bdf7d505"
      },
      "source": [
        "print(* result)"
      ],
      "id": "0bb23eaf",
      "execution_count": null,
      "outputs": [
        {
          "output_type": "stream",
          "text": [
            "\n"
          ],
          "name": "stdout"
        }
      ]
    },
    {
      "cell_type": "code",
      "metadata": {
        "id": "4c6bffae"
      },
      "source": [
        "kelimeler = [\"ali veli deli\", \"mehmet ağanın kuzeni\", \"cemilin-bacısı\"]"
      ],
      "id": "4c6bffae",
      "execution_count": null,
      "outputs": []
    },
    {
      "cell_type": "code",
      "metadata": {
        "id": "0753ece9",
        "outputId": "171025a0-d585-4416-c647-6068d35961df"
      },
      "source": [
        "list(map(len, kelimeler))"
      ],
      "id": "0753ece9",
      "execution_count": null,
      "outputs": [
        {
          "output_type": "execute_result",
          "data": {
            "text/plain": [
              "[13, 20, 14]"
            ]
          },
          "metadata": {
            "tags": []
          },
          "execution_count": 2
        }
      ]
    },
    {
      "cell_type": "code",
      "metadata": {
        "id": "9c920c04",
        "outputId": "9ff75c67-7d91-4223-8668-d23d5d63736f"
      },
      "source": [
        "list(map(sorted, kelimeler))"
      ],
      "id": "9c920c04",
      "execution_count": null,
      "outputs": [
        {
          "output_type": "execute_result",
          "data": {
            "text/plain": [
              "[[' ', ' ', 'a', 'd', 'e', 'e', 'i', 'i', 'i', 'l', 'l', 'l', 'v'],\n",
              " [' ',\n",
              "  ' ',\n",
              "  'a',\n",
              "  'a',\n",
              "  'e',\n",
              "  'e',\n",
              "  'e',\n",
              "  'h',\n",
              "  'i',\n",
              "  'k',\n",
              "  'm',\n",
              "  'm',\n",
              "  'n',\n",
              "  'n',\n",
              "  'n',\n",
              "  't',\n",
              "  'u',\n",
              "  'z',\n",
              "  'ğ',\n",
              "  'ı'],\n",
              " ['-', 'a', 'b', 'c', 'c', 'e', 'i', 'i', 'l', 'm', 'n', 's', 'ı', 'ı']]"
            ]
          },
          "metadata": {
            "tags": []
          },
          "execution_count": 3
        }
      ]
    },
    {
      "cell_type": "code",
      "metadata": {
        "id": "3d6e945d"
      },
      "source": [
        "vowels = [\"a\", \"e\", \"i\", \"u\", \"o\"]"
      ],
      "id": "3d6e945d",
      "execution_count": null,
      "outputs": []
    },
    {
      "cell_type": "code",
      "metadata": {
        "id": "3dab330d"
      },
      "source": [
        "first_ten = ['a', 'b', 'c', 'd', 'e', 'f', 'g', 'h', 'i', 'j']"
      ],
      "id": "3dab330d",
      "execution_count": null,
      "outputs": []
    },
    {
      "cell_type": "code",
      "metadata": {
        "id": "26db2442",
        "outputId": "031a02bc-09b1-4e9a-eec2-ad92e339e5df"
      },
      "source": [
        "filtered_vowels = filter(lambda x : x in vowels, first_ten)\n",
        "print(* filtered_vowels)"
      ],
      "id": "26db2442",
      "execution_count": null,
      "outputs": [
        {
          "output_type": "stream",
          "text": [
            "a e i\n"
          ],
          "name": "stdout"
        }
      ]
    },
    {
      "cell_type": "code",
      "metadata": {
        "id": "3b6c53e8",
        "outputId": "77af1056-493d-4dbf-83bb-2d6426f114f5"
      },
      "source": [
        "\"a\" in vowels"
      ],
      "id": "3b6c53e8",
      "execution_count": null,
      "outputs": [
        {
          "output_type": "execute_result",
          "data": {
            "text/plain": [
              "True"
            ]
          },
          "metadata": {
            "tags": []
          },
          "execution_count": 7
        }
      ]
    },
    {
      "cell_type": "code",
      "metadata": {
        "id": "2866590f",
        "outputId": "7b25dae8-c9a5-450f-9d5f-412c6f91f48e"
      },
      "source": [
        "\"b\" in vowels"
      ],
      "id": "2866590f",
      "execution_count": null,
      "outputs": [
        {
          "output_type": "execute_result",
          "data": {
            "text/plain": [
              "False"
            ]
          },
          "metadata": {
            "tags": []
          },
          "execution_count": 8
        }
      ]
    },
    {
      "cell_type": "code",
      "metadata": {
        "id": "ba316541",
        "outputId": "8beb70dd-13a5-419a-a6b9-49236bafb735"
      },
      "source": [
        "\"c\" in vowels"
      ],
      "id": "ba316541",
      "execution_count": null,
      "outputs": [
        {
          "output_type": "execute_result",
          "data": {
            "text/plain": [
              "False"
            ]
          },
          "metadata": {
            "tags": []
          },
          "execution_count": 9
        }
      ]
    },
    {
      "cell_type": "code",
      "metadata": {
        "id": "8d382e79",
        "outputId": "8f0da68e-8e19-48c1-9003-83cabe28100f"
      },
      "source": [
        "'e' in vowels"
      ],
      "id": "8d382e79",
      "execution_count": null,
      "outputs": [
        {
          "output_type": "execute_result",
          "data": {
            "text/plain": [
              "True"
            ]
          },
          "metadata": {
            "tags": []
          },
          "execution_count": 10
        }
      ]
    },
    {
      "cell_type": "markdown",
      "metadata": {
        "id": "7a2926f8"
      },
      "source": [
        "### show me my way, please! <img src=\"https://www.robotsepeti.com/nao-insansi-robot-platformu-v6-egitmen-educator-versiyonu-insansi-robot-softbank-robotics-9282-48-B.png\" height = \"100\" width=\"300\" alt=\"Robot\">"
      ],
      "id": "7a2926f8"
    },
    {
      "cell_type": "code",
      "metadata": {
        "id": "2a7253ff"
      },
      "source": [
        "C = [\"right 20\", \"right 30\", \"left 50\", \"up 10\", \"down 20\"]"
      ],
      "id": "2a7253ff",
      "execution_count": null,
      "outputs": []
    },
    {
      "cell_type": "code",
      "metadata": {
        "id": "d5bdeb47"
      },
      "source": [
        "# [0, -10]"
      ],
      "id": "d5bdeb47",
      "execution_count": null,
      "outputs": []
    },
    {
      "cell_type": "code",
      "metadata": {
        "id": "c4880f40",
        "outputId": "e825ccc2-cea6-4fba-c80e-04102cebcc4a"
      },
      "source": [
        "x = y = 0\n",
        "\n",
        "for i in range(len(C)) :\n",
        "    if C[i].startswith(\"r\") : x = x + int(C[i].split()[1])\n",
        "    elif C[i].startswith(\"l\") : x = x - int(C[i].split()[1])\n",
        "    elif C[i].startswith(\"u\") : y = y + int(C[i].split()[1])\n",
        "    elif C[i].startswith(\"d\") : y = y - int(C[i].split()[1])\n",
        "        \n",
        "[x, y]"
      ],
      "id": "c4880f40",
      "execution_count": null,
      "outputs": [
        {
          "output_type": "execute_result",
          "data": {
            "text/plain": [
              "[0, -10]"
            ]
          },
          "metadata": {
            "tags": []
          },
          "execution_count": 19
        }
      ]
    },
    {
      "cell_type": "code",
      "metadata": {
        "id": "78e3871c",
        "outputId": "3e27e8c9-f9e4-4bcd-dfe1-a90b8faa242a"
      },
      "source": [
        "int(C[0].split()[1])"
      ],
      "id": "78e3871c",
      "execution_count": null,
      "outputs": [
        {
          "output_type": "execute_result",
          "data": {
            "text/plain": [
              "20"
            ]
          },
          "metadata": {
            "tags": []
          },
          "execution_count": 17
        }
      ]
    },
    {
      "cell_type": "code",
      "metadata": {
        "id": "2a2ab373"
      },
      "source": [
        ""
      ],
      "id": "2a2ab373",
      "execution_count": null,
      "outputs": []
    }
  ]
}