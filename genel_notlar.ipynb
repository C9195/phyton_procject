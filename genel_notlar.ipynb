{
  "nbformat": 4,
  "nbformat_minor": 0,
  "metadata": {
    "colab": {
      "name": "genel_notlar.ipynb",
      "provenance": [],
      "collapsed_sections": [
        "VY1n6dXNwZo_"
      ],
      "authorship_tag": "ABX9TyO6YC13cV86z9dkeIZXpNsi",
      "include_colab_link": true
    },
    "kernelspec": {
      "name": "python3",
      "display_name": "Python 3"
    },
    "language_info": {
      "name": "python"
    }
  },
  "cells": [
    {
      "cell_type": "markdown",
      "metadata": {
        "id": "view-in-github",
        "colab_type": "text"
      },
      "source": [
        "<a href=\"https://colab.research.google.com/github/C9195/phyton_procject/blob/main/genel_notlar.ipynb\" target=\"_parent\"><img src=\"https://colab.research.google.com/assets/colab-badge.svg\" alt=\"Open In Colab\"/></a>"
      ]
    },
    {
      "cell_type": "code",
      "metadata": {
        "colab": {
          "base_uri": "https://localhost:8080/",
          "height": 131
        },
        "id": "vPZUQca90aco",
        "outputId": "49a4520b-e8b9-49ea-da7c-cd53e1ee0c91"
      },
      "source": [
        "para = 1000\n",
        "gun=para*1,07\n",
        "print(gun)"
      ],
      "execution_count": null,
      "outputs": [
        {
          "output_type": "error",
          "ename": "SyntaxError",
          "evalue": "ignored",
          "traceback": [
            "\u001b[0;36m  File \u001b[0;32m\"<ipython-input-9-737e954a417a>\"\u001b[0;36m, line \u001b[0;32m2\u001b[0m\n\u001b[0;31m    gun=para*1,07\u001b[0m\n\u001b[0m                ^\u001b[0m\n\u001b[0;31mSyntaxError\u001b[0m\u001b[0;31m:\u001b[0m invalid token\n"
          ]
        }
      ]
    },
    {
      "cell_type": "code",
      "metadata": {
        "colab": {
          "base_uri": "https://localhost:8080/"
        },
        "id": "5R1ul95b0cnv",
        "outputId": "0d753aa8-ec62-41cc-a5e6-92c27fdbde76"
      },
      "source": [
        "urun_fiyat=100\n",
        "urun_fiyat_zam=urun_fiyat*1.12\n",
        "urun_fiyat_indirim=urun_fiyat_zam*0.88\n",
        "print(urun_fiyat_indirim)"
      ],
      "execution_count": null,
      "outputs": [
        {
          "output_type": "stream",
          "text": [
            "98.56000000000002\n"
          ],
          "name": "stdout"
        }
      ]
    },
    {
      "cell_type": "code",
      "metadata": {
        "colab": {
          "base_uri": "https://localhost:8080/"
        },
        "id": "vGx7uDz03IO4",
        "outputId": "f5453551-7488-41ca-91c1-8924f5a8810c"
      },
      "source": [
        "anapara=1000\n",
        "gunluk=anapara*1.07\n",
        "hafta=gunluk*7\n",
        "\n"
      ],
      "execution_count": null,
      "outputs": [
        {
          "output_type": "stream",
          "text": [
            "1000\n"
          ],
          "name": "stdout"
        }
      ]
    },
    {
      "cell_type": "code",
      "metadata": {
        "colab": {
          "base_uri": "https://localhost:8080/"
        },
        "id": "34xmYknT38fR",
        "outputId": "e16a1e40-3505-4c74-fc09-973d0179e744"
      },
      "source": [
        "b,ana=1000\n",
        "zam=0.07\n",
        "gun1=((ana*zam)+ana)\n",
        "gun2=((gun1*zam)+gun1)\n",
        "gun3=((gun2*zam)+gun2)\n",
        "gun4=((gun3*zam)+gun3)\n",
        "gun5=((gun4*zam)+gun4)\n",
        "gun6=((gun5*zam)+gun5)\n",
        "gun7=((gun6*zam)+gun6)\n",
        "print(gun7)"
      ],
      "execution_count": null,
      "outputs": [
        {
          "output_type": "stream",
          "text": [
            "1605.78147647843\n"
          ],
          "name": "stdout"
        }
      ]
    },
    {
      "cell_type": "code",
      "metadata": {
        "colab": {
          "base_uri": "https://localhost:8080/"
        },
        "id": "BJ7nJN3rP5vK",
        "outputId": "c602cb38-32f2-4df5-da56-b74e923e73d2"
      },
      "source": [
        "sample_list = [{\"section\":5, \"topic\":2}, 'clarusway', [1, 4], 2020, 3.14, 1+618j, False, (10, 20)]\n",
        "for sample in sample_list:\n",
        "  print( f'The type of {sample} is' ,type(sample))"
      ],
      "execution_count": null,
      "outputs": [
        {
          "output_type": "stream",
          "text": [
            "The type of {'section': 5, 'topic': 2} is <class 'dict'>\n",
            "The type of clarusway is <class 'str'>\n",
            "The type of [1, 4] is <class 'list'>\n",
            "The type of 2020 is <class 'int'>\n",
            "The type of 3.14 is <class 'float'>\n",
            "The type of (1+618j) is <class 'complex'>\n",
            "The type of False is <class 'bool'>\n",
            "The type of (10, 20) is <class 'tuple'>\n"
          ],
          "name": "stdout"
        }
      ]
    },
    {
      "cell_type": "code",
      "metadata": {
        "colab": {
          "base_uri": "https://localhost:8080/"
        },
        "id": "sLG1fUC3iVCJ",
        "outputId": "5d4dd540-37de-4485-8eb6-39fa5ba4a3a3"
      },
      "source": [
        "fruits_vegetables = [\"fruit\", \"vegetable\", [\"apple\", \"banana\", [\"mango\", \"avocado\"]], [\"spinach\", \"broccoli\"]]\n",
        "print(fruits_vegetables[3][0])"
      ],
      "execution_count": null,
      "outputs": [
        {
          "output_type": "stream",
          "text": [
            "spinach\n"
          ],
          "name": "stdout"
        }
      ]
    },
    {
      "cell_type": "code",
      "metadata": {
        "colab": {
          "base_uri": "https://localhost:8080/",
          "height": 235
        },
        "id": "SG-drFpPmh-q",
        "outputId": "0a0ab16a-4c97-451d-9dc7-f8b010f637b2"
      },
      "source": [
        "[True, []]\n",
        "[]\n",
        "()\n",
        "list['123']\n",
        "[123]\n",
        "list()\n",
        "list[123]\n",
        "list(123)"
      ],
      "execution_count": null,
      "outputs": [
        {
          "output_type": "error",
          "ename": "TypeError",
          "evalue": "ignored",
          "traceback": [
            "\u001b[0;31m---------------------------------------------------------------------------\u001b[0m",
            "\u001b[0;31mTypeError\u001b[0m                                 Traceback (most recent call last)",
            "\u001b[0;32m<ipython-input-9-1320fe199aa9>\u001b[0m in \u001b[0;36m<module>\u001b[0;34m()\u001b[0m\n\u001b[1;32m      2\u001b[0m \u001b[0;34m[\u001b[0m\u001b[0;34m]\u001b[0m\u001b[0;34m\u001b[0m\u001b[0;34m\u001b[0m\u001b[0m\n\u001b[1;32m      3\u001b[0m \u001b[0;34m(\u001b[0m\u001b[0;34m)\u001b[0m\u001b[0;34m\u001b[0m\u001b[0;34m\u001b[0m\u001b[0m\n\u001b[0;32m----> 4\u001b[0;31m \u001b[0mlist\u001b[0m\u001b[0;34m[\u001b[0m\u001b[0;34m'123'\u001b[0m\u001b[0;34m]\u001b[0m\u001b[0;34m\u001b[0m\u001b[0;34m\u001b[0m\u001b[0m\n\u001b[0m\u001b[1;32m      5\u001b[0m \u001b[0;34m[\u001b[0m\u001b[0;36m123\u001b[0m\u001b[0;34m]\u001b[0m\u001b[0;34m\u001b[0m\u001b[0;34m\u001b[0m\u001b[0m\n\u001b[1;32m      6\u001b[0m \u001b[0mlist\u001b[0m\u001b[0;34m(\u001b[0m\u001b[0;34m)\u001b[0m\u001b[0;34m\u001b[0m\u001b[0;34m\u001b[0m\u001b[0m\n",
            "\u001b[0;31mTypeError\u001b[0m: 'type' object is not subscriptable"
          ]
        }
      ]
    },
    {
      "cell_type": "code",
      "metadata": {
        "colab": {
          "base_uri": "https://localhost:8080/"
        },
        "id": "ALfg-mZMsh_g",
        "outputId": "05ddf4ce-5af6-4ce3-82c7-45668e0410e9"
      },
      "source": [
        "a = 3\n",
        "while a**2 < 299:\n",
        "    print('I will stop smoking')\n",
        "    a += 3"
      ],
      "execution_count": null,
      "outputs": [
        {
          "output_type": "stream",
          "text": [
            "I will stop smoking\n",
            "I will stop smoking\n",
            "I will stop smoking\n",
            "I will stop smoking\n",
            "I will stop smoking\n"
          ],
          "name": "stdout"
        }
      ]
    },
    {
      "cell_type": "code",
      "metadata": {
        "colab": {
          "base_uri": "https://localhost:8080/"
        },
        "id": "tIbu3vDHtT3E",
        "outputId": "9c38abc4-1efb-445e-e072-0414d6538d1a"
      },
      "source": [
        "total = 149\n",
        "country = \"FR\"\n",
        "\n",
        "if country == \"FR\":\n",
        "    if total <= 50:\n",
        "        print(\"Shipping Cost is  €30\")\n",
        "    elif total <= 100:\n",
        "        print(\"Shipping Cost is €15\")\n",
        "    elif total <= 150:\n",
        "        print(\"Shipping Costs €10\")\n",
        "    else:\n",
        "        print(\"Free Shipping\")\n",
        "if country == \"DE\": \n",
        "    if total <= 50:\n",
        "        print(\"Shipping Cost is  €25\")\n",
        "    else:\n",
        "        print(\"Free Shipping\")"
      ],
      "execution_count": null,
      "outputs": [
        {
          "output_type": "stream",
          "text": [
            "Shipping Costs €10\n"
          ],
          "name": "stdout"
        }
      ]
    },
    {
      "cell_type": "code",
      "metadata": {
        "id": "7DScdqQxtuvo"
      },
      "source": [
        "#If saved_amount is less than or equal to ps4_price/2 then print : \"You must save more, keep saving!\"\n",
        "If saved_amount is greater than ps4_price/2 then print : \"You saved more than half, keep saving!\"\n",
        "If saved_amount is greater than ps4_price then print : \"Yippee! You can buy your PS4\"#"
      ],
      "execution_count": null,
      "outputs": []
    },
    {
      "cell_type": "code",
      "metadata": {
        "colab": {
          "base_uri": "https://localhost:8080/"
        },
        "id": "IAy_V6T7tzmI",
        "outputId": "33d7a4c6-d62d-4cce-bcf7-c9aec4b8485c"
      },
      "source": [
        "ps4_price = 100\n",
        "saved_amount = int(input('Please enter your saved amount: '))\n",
        "if  saved_amount > ps4_price  :\n",
        "    print(\"Yippee! You can buy your PS4\")\n",
        "elif saved_amount > (ps4_price/2):\n",
        "    print(\"You saved more than half, keep saving!\")\n",
        "elif saved_amount <= (ps4_price/2) :\n",
        "    print(\"You must save more, keep saving!\")\n"
      ],
      "execution_count": null,
      "outputs": [
        {
          "output_type": "stream",
          "text": [
            "Please enter your saved amount: 80\n",
            "You saved more than half, keep saving!\n"
          ],
          "name": "stdout"
        }
      ]
    },
    {
      "cell_type": "code",
      "metadata": {
        "id": "rrrxKdts22cJ"
      },
      "source": [
        "#Mrs Brown is a Math teacher. She wants to write a program that gets the numeric grades of her students, assigns them to variable math_mark and prints them as letter-based grades defined below:\n",
        "\n",
        "85-100 ➔ A (Excellent)\n",
        "70-84 ➔ B (Good)\n",
        "60-69 ➔ C (Medium)\n",
        "45-59 ➔ D (Not Bad)\n",
        "0-44 ➔ F (Failed)\n",
        "\n",
        "Write your program using if, elif and else statements.#"
      ],
      "execution_count": null,
      "outputs": []
    },
    {
      "cell_type": "code",
      "metadata": {
        "colab": {
          "base_uri": "https://localhost:8080/"
        },
        "id": "V_uMIAsl2-ZM",
        "outputId": "04eee88a-ee86-43bc-fb69-f95bd7ee29ff"
      },
      "source": [
        "math_mark = int(input('Please enter the mark: '))\n",
        "if math_mark <=100 and math_mark>=85:\n",
        "  print(\"A Excellent\")\n",
        "elif math_mark <=84 and math_mark>=70:\n",
        "  print(\"B Good\")\n",
        "elif math_mark <=69 and math_mark>=60:\n",
        "  print(\"C Medium\")\n",
        "elif math_mark <=59 and math_mark>=45:\n",
        "  print(\"D Not Bad\")\n",
        "else:\n",
        "  print(\"F Failed\")"
      ],
      "execution_count": null,
      "outputs": [
        {
          "output_type": "stream",
          "text": [
            "Please enter the mark: 12\n",
            "F Failed\n"
          ],
          "name": "stdout"
        }
      ]
    },
    {
      "cell_type": "code",
      "metadata": {
        "colab": {
          "base_uri": "https://localhost:8080/",
          "height": 131
        },
        "id": "lzlZ1nFQ6lki",
        "outputId": "bdca8239-226f-43ed-ecf2-82514e9b00f8"
      },
      "source": [
        " max = b\n",
        " max = a\n",
        "if b > max:\n",
        "\n",
        " print(max)"
      ],
      "execution_count": null,
      "outputs": [
        {
          "output_type": "error",
          "ename": "IndentationError",
          "evalue": "ignored",
          "traceback": [
            "\u001b[0;36m  File \u001b[0;32m\"<ipython-input-30-0ad3675fe32a>\"\u001b[0;36m, line \u001b[0;32m4\u001b[0m\n\u001b[0;31m    print(max)\u001b[0m\n\u001b[0m    ^\u001b[0m\n\u001b[0;31mIndentationError\u001b[0m\u001b[0;31m:\u001b[0m unexpected indent\n"
          ]
        }
      ]
    },
    {
      "cell_type": "code",
      "metadata": {
        "colab": {
          "base_uri": "https://localhost:8080/"
        },
        "id": "3WylAbLy7WM5",
        "outputId": "6fce3cec-582c-4605-8990-d9e39587d19a"
      },
      "source": [
        "weekdays = ['Monday', 'Tuesday', 'Wednesday', 'Thursday', 'Friday']\n",
        "for day in range(len(weekdays)):\n",
        "    print('Day', day+1, ':', weekdays[day])"
      ],
      "execution_count": null,
      "outputs": [
        {
          "output_type": "stream",
          "text": [
            "Day 1 : Monday\n",
            "Day 2 : Tuesday\n",
            "Day 3 : Wednesday\n",
            "Day 4 : Thursday\n",
            "Day 5 : Friday\n"
          ],
          "name": "stdout"
        }
      ]
    },
    {
      "cell_type": "code",
      "metadata": {
        "colab": {
          "base_uri": "https://localhost:8080/",
          "height": 131
        },
        "id": "6t2Ljeoe7zZ7",
        "outputId": "f4573395-4b06-4db7-9e1e-5e0b86db2ca4"
      },
      "source": [
        "a = 49\n",
        "while : \n",
        "  a > 10 a % 2 != 0 a <= 62\n",
        "    print(a)\n",
        "    a += 5"
      ],
      "execution_count": null,
      "outputs": [
        {
          "output_type": "error",
          "ename": "SyntaxError",
          "evalue": "ignored",
          "traceback": [
            "\u001b[0;36m  File \u001b[0;32m\"<ipython-input-35-c9998c782c66>\"\u001b[0;36m, line \u001b[0;32m2\u001b[0m\n\u001b[0;31m    while :\u001b[0m\n\u001b[0m          ^\u001b[0m\n\u001b[0;31mSyntaxError\u001b[0m\u001b[0;31m:\u001b[0m invalid syntax\n"
          ]
        }
      ]
    },
    {
      "cell_type": "code",
      "metadata": {
        "colab": {
          "base_uri": "https://localhost:8080/"
        },
        "id": "Lo5KnWbY816g",
        "outputId": "72f45a3c-a172-4eb7-f648-a6467223beef"
      },
      "source": [
        "number = int(input('Please enter a number: '))\n",
        "i =0\n",
        "while i < number:\n",
        "  print(i**2)\n",
        "  i += 1"
      ],
      "execution_count": null,
      "outputs": [
        {
          "output_type": "stream",
          "text": [
            "Please enter a number: 5\n",
            "0\n",
            "1\n",
            "4\n",
            "9\n",
            "16\n"
          ],
          "name": "stdout"
        }
      ]
    },
    {
      "cell_type": "code",
      "metadata": {
        "colab": {
          "base_uri": "https://localhost:8080/"
        },
        "id": "mfsWmPP3_FbI",
        "outputId": "2dbedf53-e0e7-4ccb-89e1-5dd290036892"
      },
      "source": [
        "sample_list = [{\"section\":5, \"topic\":2}, 'clarusway', [1, 4], 2020, 3.14, 1+618j, False, (10, 20)]\n",
        "for sample in sample_list:\n",
        "  print(type(sample))"
      ],
      "execution_count": null,
      "outputs": [
        {
          "output_type": "stream",
          "text": [
            "<class 'dict'>\n",
            "<class 'str'>\n",
            "<class 'list'>\n",
            "<class 'int'>\n",
            "<class 'float'>\n",
            "<class 'complex'>\n",
            "<class 'bool'>\n",
            "<class 'tuple'>\n"
          ],
          "name": "stdout"
        }
      ]
    },
    {
      "cell_type": "code",
      "metadata": {
        "colab": {
          "base_uri": "https://localhost:8080/"
        },
        "id": "26rkb-VdAmE5",
        "outputId": "6ab77edc-42c4-4e57-a7bd-894555d8ce81"
      },
      "source": [
        "sayilar = [1,2,3,4,5]\n",
        "for sayi in sayilar:\n",
        "   print(sayi)"
      ],
      "execution_count": null,
      "outputs": [
        {
          "output_type": "stream",
          "text": [
            "1\n",
            "2\n",
            "3\n",
            "4\n",
            "5\n"
          ],
          "name": "stdout"
        }
      ]
    },
    {
      "cell_type": "code",
      "metadata": {
        "colab": {
          "base_uri": "https://localhost:8080/",
          "height": 131
        },
        "id": "WaGCdjK7gcSt",
        "outputId": "771b05aa-5310-455f-94ed-e4007659f958"
      },
      "source": [
        "x = input(sayı girin)\n",
        "while x < 12 :\n",
        "  x+=1\n",
        "  if x == x*x:\n",
        "    continue\n",
        "    print (x*x)"
      ],
      "execution_count": null,
      "outputs": [
        {
          "output_type": "error",
          "ename": "SyntaxError",
          "evalue": "ignored",
          "traceback": [
            "\u001b[0;36m  File \u001b[0;32m\"<ipython-input-6-4eac97fb1d0d>\"\u001b[0;36m, line \u001b[0;32m1\u001b[0m\n\u001b[0;31m    x = input(sayı girin)\u001b[0m\n\u001b[0m                       ^\u001b[0m\n\u001b[0;31mSyntaxError\u001b[0m\u001b[0;31m:\u001b[0m invalid syntax\n"
          ]
        }
      ]
    },
    {
      "cell_type": "code",
      "metadata": {
        "colab": {
          "base_uri": "https://localhost:8080/"
        },
        "id": "6G2gI1PjomiL",
        "outputId": "557c59c5-8bc5-4574-a4a8-a2c1eadd9e9e"
      },
      "source": [
        "score = int (input(\"Enter your score :\"))\n",
        "\n",
        "if score >= 90:\n",
        "    if score >= 95:\n",
        "        Score_letter=\"A+\"\n",
        "    else:\n",
        "        Score_letter=\"A\"\n",
        "elif score >= 80:\n",
        "    if score >= 85:\n",
        "        Score_letter=\"B+\"\n",
        "    else:\n",
        "        Score_letter=\"B\"\n",
        "else:\n",
        "    Score_letter=\"below B\"\n",
        "\n",
        "print (\"Your degree: %s\" % Score_letter)\n"
      ],
      "execution_count": null,
      "outputs": [
        {
          "output_type": "stream",
          "text": [
            "Enter your score :100\n",
            "Your degree: A+\n"
          ],
          "name": "stdout"
        }
      ]
    },
    {
      "cell_type": "code",
      "metadata": {
        "colab": {
          "base_uri": "https://localhost:8080/"
        },
        "id": "WAU1htSgiggH",
        "outputId": "929c54d6-291b-4b13-cf8c-d9f8a79a620c"
      },
      "source": [
        "A = float(input(\"bir sayı girin :\"))\n",
        "if A%2 ==0:\n",
        "  print(\" A={} bir çift sayıdır.\".format(A))\n",
        "else:\n",
        "  print (\"A bir tek sayıdır\")  "
      ],
      "execution_count": null,
      "outputs": [
        {
          "output_type": "stream",
          "text": [
            "bir sayı girin :6\n",
            " A=6.0 bir çift sayıdır.\n"
          ],
          "name": "stdout"
        }
      ]
    },
    {
      "cell_type": "code",
      "metadata": {
        "colab": {
          "base_uri": "https://localhost:8080/"
        },
        "id": "CqYXahIWxIrD",
        "outputId": "936d6d2b-749f-4db1-873d-bc7f6b823bb6"
      },
      "source": [
        "answer = 44\n",
        "\n",
        "question = 'What number am I thinking of?  '\n",
        "print (\"Let's play the guessing game!\")\n",
        "\n",
        "while True:\n",
        "    guess = int(input(question))\n",
        "\n",
        "    if guess < answer:\n",
        "        print('Little higher')\n",
        "    elif guess > answer:\n",
        "        print('Little lower')\n",
        "    else:  # guess == answer\n",
        "        print('Are you a MINDREADER!!!')\n",
        "        break\n"
      ],
      "execution_count": null,
      "outputs": [
        {
          "output_type": "stream",
          "text": [
            "Let's play the guessing game!\n",
            "What number am I thinking of?  20\n",
            "Little higher\n",
            "What number am I thinking of?  25\n",
            "Little higher\n",
            "What number am I thinking of?  30\n",
            "Little higher\n",
            "What number am I thinking of?  40\n",
            "Little higher\n",
            "What number am I thinking of?  50\n",
            "Little lower\n",
            "What number am I thinking of?  45\n",
            "Little lower\n",
            "What number am I thinking of?  42\n",
            "Little higher\n",
            "What number am I thinking of?  44\n",
            "Are you a MINDREADER!!!\n"
          ],
          "name": "stdout"
        }
      ]
    },
    {
      "cell_type": "code",
      "metadata": {
        "colab": {
          "base_uri": "https://localhost:8080/"
        },
        "id": "JtHBYN8uI2tn",
        "outputId": "148eab2b-637f-449c-c239-bcfb669938a4"
      },
      "source": [
        "number = int(input(\"bir sayı giriniz\"))\n",
        "if number <0 :\n",
        "  print(\"the number is negative\")\n",
        "else : \n",
        "  print(\"the number is positive\")"
      ],
      "execution_count": null,
      "outputs": [
        {
          "output_type": "stream",
          "text": [
            "bir sayı giriniz4\n",
            "the number is positive\n"
          ],
          "name": "stdout"
        }
      ]
    },
    {
      "cell_type": "code",
      "metadata": {
        "colab": {
          "base_uri": "https://localhost:8080/"
        },
        "id": "Qwe0znXGKJOI",
        "outputId": "4cabe03f-f037-406d-acdc-cded0ce194fb"
      },
      "source": [
        "num1 = float(input(\"enter the num1: \"))\n",
        "num2 = float(input(\"enter the num2: \"))\n",
        "\n",
        "if num1 >num2 : \n",
        "  larger = num1\n",
        "else :\n",
        "  larger = num2\n",
        "print(\"the larger number is :\",larger)  \n"
      ],
      "execution_count": null,
      "outputs": [
        {
          "output_type": "stream",
          "text": [
            "enter the num1: 5\n",
            "enter the num2: 5\n",
            "the larger number is : 5.0\n"
          ],
          "name": "stdout"
        }
      ]
    },
    {
      "cell_type": "code",
      "metadata": {
        "colab": {
          "base_uri": "https://localhost:8080/",
          "height": 131
        },
        "id": "V1in0K6XLl7v",
        "outputId": "fc82cda3-5861-4635-fbec-3fc69726319d"
      },
      "source": [
        "bool_value = False\n",
        "if bool_value = False :\n",
        "   print(\"value is Yes\")\n",
        "else :\n",
        "   print(\"value is No\")"
      ],
      "execution_count": null,
      "outputs": [
        {
          "output_type": "error",
          "ename": "SyntaxError",
          "evalue": "ignored",
          "traceback": [
            "\u001b[0;36m  File \u001b[0;32m\"<ipython-input-13-603b776c67ee>\"\u001b[0;36m, line \u001b[0;32m2\u001b[0m\n\u001b[0;31m    if bool_value = False :\u001b[0m\n\u001b[0m                  ^\u001b[0m\n\u001b[0;31mSyntaxError\u001b[0m\u001b[0;31m:\u001b[0m invalid syntax\n"
          ]
        }
      ]
    },
    {
      "cell_type": "code",
      "metadata": {
        "colab": {
          "base_uri": "https://localhost:8080/"
        },
        "id": "Pd35J4qXOPn9",
        "outputId": "f17b6974-9cc8-4005-f1c3-1173f98e3716"
      },
      "source": [
        "num1 = float(input(\"enter num1 :\"))\n",
        "num2 = float(input(\"enter num2 : \"))\n",
        "num3 = float(input(\"enter num3 : \"))\n",
        "if (num1>num2) and (num1>num3) :\n",
        "  print(\"num1 the largest\")\n",
        "elif (num2>num1) and (num2>num3) :\n",
        "  print(\"num2 the largest\")\n",
        "else:\n",
        "  print(\"num3 the largest\")  \n",
        "\n"
      ],
      "execution_count": null,
      "outputs": [
        {
          "output_type": "stream",
          "text": [
            "enter num1 :9\n",
            "enter num2 : 8\n",
            "enter num3 : 7\n",
            "num1 the largest\n"
          ],
          "name": "stdout"
        }
      ]
    },
    {
      "cell_type": "code",
      "metadata": {
        "colab": {
          "base_uri": "https://localhost:8080/"
        },
        "id": "QodHe28lOP4G",
        "outputId": "22f066c3-a165-4313-a216-4ed1edc0c720"
      },
      "source": [
        "x=0\n",
        "if x == 3 :\n",
        "  print(\"üç\")\n",
        "elif x ==4 :\n",
        "  print(\"dört\")\n",
        "elif x==5 :\n",
        "   print(\"beş\")\n",
        "else :\n",
        "  print(\"sonsuz\")\n",
        "print(\"kod sonu geldi\") "
      ],
      "execution_count": null,
      "outputs": [
        {
          "output_type": "stream",
          "text": [
            "sonsuz\n",
            "kod sonu geldi\n"
          ],
          "name": "stdout"
        }
      ]
    },
    {
      "cell_type": "code",
      "metadata": {
        "colab": {
          "base_uri": "https://localhost:8080/"
        },
        "id": "M6_bLy4qOQEx",
        "outputId": "868bc449-e967-46a7-f635-61649a1f246f"
      },
      "source": [
        "score = int(input(\"notunuzu giriniz : \"))\n",
        "if score >= 90 :\n",
        "  if score >= 95 :\n",
        "    score_letter = \"A+\"\n",
        "  else :\n",
        "    score_letter = \"A\"\n",
        "elif score >=80 :\n",
        "  if score >= 85 :\n",
        "    score_letter = \"b+\"\n",
        "  else :\n",
        "    score_letter = \"b\"\n",
        "else:\n",
        "  score_letter = \"B-\"\n",
        "\n",
        "print(\"notunuz: \",score_letter)"
      ],
      "execution_count": null,
      "outputs": [
        {
          "output_type": "stream",
          "text": [
            "notunuzu giriniz : 80\n",
            "notunuz:  b\n"
          ],
          "name": "stdout"
        }
      ]
    },
    {
      "cell_type": "code",
      "metadata": {
        "id": "YxaSO2-_OQTK"
      },
      "source": [
        "items = (10, 20)\n",
        "x, y = items\n"
      ],
      "execution_count": null,
      "outputs": []
    },
    {
      "cell_type": "code",
      "metadata": {
        "colab": {
          "base_uri": "https://localhost:8080/"
        },
        "id": "RreIlHWhOQnd",
        "outputId": "184e0b99-11bf-423a-fbd0-8e7d5cc5f01a"
      },
      "source": [
        "x"
      ],
      "execution_count": null,
      "outputs": [
        {
          "output_type": "execute_result",
          "data": {
            "text/plain": [
              "10"
            ]
          },
          "metadata": {
            "tags": []
          },
          "execution_count": 32
        }
      ]
    },
    {
      "cell_type": "code",
      "metadata": {
        "colab": {
          "base_uri": "https://localhost:8080/"
        },
        "id": "TqoKr5Tea8UQ",
        "outputId": "982aa275-5ec2-4340-8ecc-5a2f66069650"
      },
      "source": [
        "a, _, b, _ = (10,20,30,40)\n",
        "a"
      ],
      "execution_count": null,
      "outputs": [
        {
          "output_type": "execute_result",
          "data": {
            "text/plain": [
              "10"
            ]
          },
          "metadata": {
            "tags": []
          },
          "execution_count": 34
        }
      ]
    },
    {
      "cell_type": "code",
      "metadata": {
        "colab": {
          "base_uri": "https://localhost:8080/"
        },
        "id": "DkzmLpPGa8tm",
        "outputId": "d3519a12-adce-458e-9b37-710f9c933067"
      },
      "source": [
        "b"
      ],
      "execution_count": null,
      "outputs": [
        {
          "output_type": "execute_result",
          "data": {
            "text/plain": [
              "30"
            ]
          },
          "metadata": {
            "tags": []
          },
          "execution_count": 35
        }
      ]
    },
    {
      "cell_type": "code",
      "metadata": {
        "colab": {
          "base_uri": "https://localhost:8080/"
        },
        "id": "UELYnfY7a9Ff",
        "outputId": "83e19924-4340-43f2-875e-75150bad8248"
      },
      "source": [
        "x,y,*z = (11,22,33,44,55,66,77)\n",
        "z"
      ],
      "execution_count": null,
      "outputs": [
        {
          "output_type": "execute_result",
          "data": {
            "text/plain": [
              "[33, 44, 55, 66, 77]"
            ]
          },
          "metadata": {
            "tags": []
          },
          "execution_count": 36
        }
      ]
    },
    {
      "cell_type": "code",
      "metadata": {
        "colab": {
          "base_uri": "https://localhost:8080/"
        },
        "id": "YW5CnLCTa9Uw",
        "outputId": "717f7970-60b9-4f55-a2de-6a0951f28536"
      },
      "source": [
        "x,y,*z,t = (11,22,33,44,55,66,77)\n",
        "print(x,y,z,t)\n"
      ],
      "execution_count": null,
      "outputs": [
        {
          "output_type": "stream",
          "text": [
            "11 22 [33, 44, 55, 66] 77\n"
          ],
          "name": "stdout"
        }
      ]
    },
    {
      "cell_type": "code",
      "metadata": {
        "id": "Toy45uk-vHaM"
      },
      "source": [
        "letter = \"a b c d e f g h i j k l m n o p r s t w y z\" .split()"
      ],
      "execution_count": null,
      "outputs": []
    },
    {
      "cell_type": "code",
      "metadata": {
        "colab": {
          "base_uri": "https://localhost:8080/"
        },
        "id": "8vMjdvrXvH1T",
        "outputId": "279341dc-7fcd-4dc6-e6bc-ae86ff81e861"
      },
      "source": [
        "letter"
      ],
      "execution_count": null,
      "outputs": [
        {
          "output_type": "execute_result",
          "data": {
            "text/plain": [
              "['a',\n",
              " 'b',\n",
              " 'c',\n",
              " 'd',\n",
              " 'e',\n",
              " 'f',\n",
              " 'g',\n",
              " 'h',\n",
              " 'i',\n",
              " 'j',\n",
              " 'k',\n",
              " 'l',\n",
              " 'm',\n",
              " 'n',\n",
              " 'o',\n",
              " 'p',\n",
              " 'r',\n",
              " 's',\n",
              " 't',\n",
              " 'w',\n",
              " 'y',\n",
              " 'z']"
            ]
          },
          "metadata": {
            "tags": []
          },
          "execution_count": 3
        }
      ]
    },
    {
      "cell_type": "code",
      "metadata": {
        "colab": {
          "base_uri": "https://localhost:8080/"
        },
        "id": "km91QvK3vH9y",
        "outputId": "7cb5f9b1-c0de-4ca2-d153-5b7549aa076b"
      },
      "source": [
        "print(set(letter))"
      ],
      "execution_count": null,
      "outputs": [
        {
          "output_type": "stream",
          "text": [
            "{'n', 'm', 'y', 'f', 'r', 'e', 't', 'o', 's', 'b', 'k', 'c', 'l', 'h', 'p', 'a', 'd', 'z', 'w', 'i', 'g', 'j'}\n"
          ],
          "name": "stdout"
        }
      ]
    },
    {
      "cell_type": "code",
      "metadata": {
        "id": "XXUaS1luvIG0",
        "colab": {
          "base_uri": "https://localhost:8080/"
        },
        "outputId": "abf9f01c-576c-4699-f928-c7e6101e2cf1"
      },
      "source": [
        "def kare_bul():\n",
        "    sayı = int(input(\"bir sayı girin\"))\n",
        "    çıktı = \"{} sayısının karesi {} sayısıdır\"\n",
        "    print(çıktı.format(sayı, sayı**2))\n",
        "\n",
        "kare_bul()"
      ],
      "execution_count": null,
      "outputs": [
        {
          "output_type": "stream",
          "text": [
            "bir sayı girin14\n",
            "14 sayısının karesi 196 sayısıdır\n"
          ],
          "name": "stdout"
        }
      ]
    },
    {
      "cell_type": "code",
      "metadata": {
        "colab": {
          "base_uri": "https://localhost:8080/"
        },
        "id": "ljDX9yB2vIQJ",
        "outputId": "39479a6b-db27-4451-a09b-1f9565acc95c"
      },
      "source": [
        "test= {1,\"bir\",1.0}\n",
        "len(test)\n"
      ],
      "execution_count": null,
      "outputs": [
        {
          "output_type": "execute_result",
          "data": {
            "text/plain": [
              "2"
            ]
          },
          "metadata": {
            "tags": []
          },
          "execution_count": 12
        }
      ]
    },
    {
      "cell_type": "code",
      "metadata": {
        "colab": {
          "base_uri": "https://localhost:8080/",
          "height": 131
        },
        "id": "RQy94Ek0vIWs",
        "outputId": "c137e5f8-8f4e-4876-ff4f-a54ae70778a5"
      },
      "source": [
        ""
      ],
      "execution_count": null,
      "outputs": [
        {
          "output_type": "error",
          "ename": "SyntaxError",
          "evalue": "ignored",
          "traceback": [
            "\u001b[0;36m  File \u001b[0;32m\"<ipython-input-13-828ec4a4fd72>\"\u001b[0;36m, line \u001b[0;32m1\u001b[0m\n\u001b[0;31m    a =\u001b[0m\n\u001b[0m        ^\u001b[0m\n\u001b[0;31mSyntaxError\u001b[0m\u001b[0;31m:\u001b[0m invalid syntax\n"
          ]
        }
      ]
    },
    {
      "cell_type": "code",
      "metadata": {
        "colab": {
          "base_uri": "https://localhost:8080/"
        },
        "id": "f_nfdHQLvIcE",
        "outputId": "1281228b-bece-463e-f271-c1b279cd76ec"
      },
      "source": [
        "date = \"12/07/2021\"\n",
        "set(date)"
      ],
      "execution_count": null,
      "outputs": [
        {
          "output_type": "execute_result",
          "data": {
            "text/plain": [
              "{'/', '0', '1', '2', '7'}"
            ]
          },
          "metadata": {
            "tags": []
          },
          "execution_count": 16
        }
      ]
    },
    {
      "cell_type": "code",
      "metadata": {
        "id": "bhIO6hkfvIkB"
      },
      "source": [
        "a =set (\"09/01/2021\")\n",
        "b ={\"09\"} "
      ],
      "execution_count": null,
      "outputs": []
    },
    {
      "cell_type": "code",
      "metadata": {
        "colab": {
          "base_uri": "https://localhost:8080/"
        },
        "id": "LxkOKz-dvIuN",
        "outputId": "8e23d005-121d-4404-9ca2-5c7e3721719e"
      },
      "source": [
        "given_list = [1,2,3,3,3,3,4,4,5,5]\n",
        "unique = set(given_list)\n",
        "print(unique)"
      ],
      "execution_count": null,
      "outputs": [
        {
          "output_type": "stream",
          "text": [
            "{1, 2, 3, 4, 5}\n"
          ],
          "name": "stdout"
        }
      ]
    },
    {
      "cell_type": "code",
      "metadata": {
        "colab": {
          "base_uri": "https://localhost:8080/",
          "height": 182
        },
        "id": "B1JIH3X0vI4Q",
        "outputId": "dc9255e5-8128-4ad9-c3bd-e04be7b0ed86"
      },
      "source": [
        "test ={given_list}\n",
        "test"
      ],
      "execution_count": null,
      "outputs": [
        {
          "output_type": "error",
          "ename": "TypeError",
          "evalue": "ignored",
          "traceback": [
            "\u001b[0;31m---------------------------------------------------------------------------\u001b[0m",
            "\u001b[0;31mTypeError\u001b[0m                                 Traceback (most recent call last)",
            "\u001b[0;32m<ipython-input-20-e3c509e1b78f>\u001b[0m in \u001b[0;36m<module>\u001b[0;34m()\u001b[0m\n\u001b[0;32m----> 1\u001b[0;31m \u001b[0mtest\u001b[0m \u001b[0;34m=\u001b[0m\u001b[0;34m{\u001b[0m\u001b[0mgiven_list\u001b[0m\u001b[0;34m}\u001b[0m\u001b[0;34m\u001b[0m\u001b[0;34m\u001b[0m\u001b[0m\n\u001b[0m\u001b[1;32m      2\u001b[0m \u001b[0mtest\u001b[0m\u001b[0;34m\u001b[0m\u001b[0;34m\u001b[0m\u001b[0m\n",
            "\u001b[0;31mTypeError\u001b[0m: unhashable type: 'list'"
          ]
        }
      ]
    },
    {
      "cell_type": "code",
      "metadata": {
        "id": "uMuhYs8LvJA7",
        "colab": {
          "base_uri": "https://localhost:8080/"
        },
        "outputId": "0da97a7a-0b33-4f98-f637-bea7d46887d5"
      },
      "source": [
        "print(0xA + 0xB + 0xC)"
      ],
      "execution_count": null,
      "outputs": [
        {
          "output_type": "stream",
          "text": [
            "33\n"
          ],
          "name": "stdout"
        }
      ]
    },
    {
      "cell_type": "code",
      "metadata": {
        "id": "uMTMHbLjvJJk",
        "colab": {
          "base_uri": "https://localhost:8080/"
        },
        "outputId": "b7b8cfbe-e57c-4d91-d8c5-781bf8c18d2e"
      },
      "source": [
        "print(r\"\\nhello\")"
      ],
      "execution_count": null,
      "outputs": [
        {
          "output_type": "stream",
          "text": [
            "\\nhello\n"
          ],
          "name": "stdout"
        }
      ]
    },
    {
      "cell_type": "code",
      "metadata": {
        "colab": {
          "base_uri": "https://localhost:8080/",
          "height": 131
        },
        "id": "H7c75-tkdT-d",
        "outputId": "e27eba60-e214-41d8-ce46-37edc7fc0d20"
      },
      "source": [
        "print(\"new\" \"line\" \"end\" 3)"
      ],
      "execution_count": null,
      "outputs": [
        {
          "output_type": "error",
          "ename": "SyntaxError",
          "evalue": "ignored",
          "traceback": [
            "\u001b[0;36m  File \u001b[0;32m\"<ipython-input-5-693762d2e4e6>\"\u001b[0;36m, line \u001b[0;32m1\u001b[0m\n\u001b[0;31m    print(\"new\" \"line\" \"end\" 3)\u001b[0m\n\u001b[0m                             ^\u001b[0m\n\u001b[0;31mSyntaxError\u001b[0m\u001b[0;31m:\u001b[0m invalid syntax\n"
          ]
        }
      ]
    },
    {
      "cell_type": "code",
      "metadata": {
        "colab": {
          "base_uri": "https://localhost:8080/"
        },
        "id": "JWBkO8YBdvam",
        "outputId": "f0846718-87b1-43bf-dd63-25e9c36207fb"
      },
      "source": [
        "print(\"new\" \"line\" \"end\", 3)"
      ],
      "execution_count": null,
      "outputs": [
        {
          "output_type": "stream",
          "text": [
            "newlineend 3\n"
          ],
          "name": "stdout"
        }
      ]
    },
    {
      "cell_type": "code",
      "metadata": {
        "id": "qqgbI52td4-e",
        "colab": {
          "base_uri": "https://localhost:8080/"
        },
        "outputId": "da4801cf-56a6-4a84-be70-0e85cbbdb7c7"
      },
      "source": [
        "str1 = \"clarsuway\"\n",
        "print(str1[::-1])"
      ],
      "execution_count": null,
      "outputs": [
        {
          "output_type": "stream",
          "text": [
            "yawusralc\n"
          ],
          "name": "stdout"
        }
      ]
    },
    {
      "cell_type": "code",
      "metadata": {
        "id": "6al67iVXK-tX"
      },
      "source": [
        "family_dict ={\"name1\" = \"zeynep\",\n",
        "              \"name2\" = \"sare\",\n",
        "              \"name3\" = \"zehra\"} \n",
        "    "
      ],
      "execution_count": null,
      "outputs": []
    },
    {
      "cell_type": "code",
      "metadata": {
        "colab": {
          "base_uri": "https://localhost:8080/"
        },
        "id": "rGKBVQzHK_KW",
        "outputId": "2c0a341e-82ae-4f12-ed26-21d34148c34a"
      },
      "source": [
        "print(family_dict)"
      ],
      "execution_count": null,
      "outputs": [
        {
          "output_type": "stream",
          "text": [
            "{'name1': 'zeynep', 'name2': 'sare', 'name3': 'zehra'}\n"
          ],
          "name": "stdout"
        }
      ]
    },
    {
      "cell_type": "code",
      "metadata": {
        "id": "zAdXyNEFK_Xw"
      },
      "source": [
        "family_dict[\"name4\"] = \"erkan\"\n"
      ],
      "execution_count": null,
      "outputs": []
    },
    {
      "cell_type": "code",
      "metadata": {
        "id": "bnqVnNCFK_mP",
        "colab": {
          "base_uri": "https://localhost:8080/"
        },
        "outputId": "54acf0f3-8b04-4882-da8b-01a0679709dc"
      },
      "source": [
        "print(family_dict)\n"
      ],
      "execution_count": null,
      "outputs": [
        {
          "output_type": "stream",
          "text": [
            "{'name1': 'zeynep', 'name2': 'sare', 'name3': 'zehra', 'name': 'erkan', 'name4': 'erkan'}\n"
          ],
          "name": "stdout"
        }
      ]
    },
    {
      "cell_type": "code",
      "metadata": {
        "id": "W6dozFOHK_uO",
        "colab": {
          "base_uri": "https://localhost:8080/"
        },
        "outputId": "8dfa5fbf-01b4-4438-c447-10e8320c9681"
      },
      "source": [
        "len(family_dict)"
      ],
      "execution_count": null,
      "outputs": [
        {
          "output_type": "execute_result",
          "data": {
            "text/plain": [
              "5"
            ]
          },
          "metadata": {
            "tags": []
          },
          "execution_count": 10
        }
      ]
    },
    {
      "cell_type": "code",
      "metadata": {
        "id": "AjkxSgsOK_0_"
      },
      "source": [
        ""
      ],
      "execution_count": null,
      "outputs": []
    },
    {
      "cell_type": "code",
      "metadata": {
        "id": "jHWOfHTXLAAF",
        "colab": {
          "base_uri": "https://localhost:8080/"
        },
        "outputId": "3ae90c01-eaff-4e31-e6d4-98112d9aa8e6"
      },
      "source": [
        "family = dict(name1 = \"zeynep\", name2 = \"sare\" , name3 = \"zehra\")\n",
        "family"
      ],
      "execution_count": null,
      "outputs": [
        {
          "output_type": "execute_result",
          "data": {
            "text/plain": [
              "{'name1': 'zeynep', 'name2': 'sare', 'name3': 'zehra'}"
            ]
          },
          "metadata": {
            "tags": []
          },
          "execution_count": 11
        }
      ]
    },
    {
      "cell_type": "code",
      "metadata": {
        "id": "HtDcqFs3LAK4"
      },
      "source": [
        "n1 , n2, n3 = 5, 10, 15\n"
      ],
      "execution_count": null,
      "outputs": []
    },
    {
      "cell_type": "code",
      "metadata": {
        "id": "zO6qCQehLAVN",
        "colab": {
          "base_uri": "https://localhost:8080/",
          "height": 182
        },
        "outputId": "f7c39742-3c5c-4fd5-af01-a750c1f829c8"
      },
      "source": [
        "numbers = {n1 : \"beş\" , n2 :\"on\" , n3: \"onbeş\"}\n",
        "numbers"
      ],
      "execution_count": null,
      "outputs": [
        {
          "output_type": "error",
          "ename": "NameError",
          "evalue": "ignored",
          "traceback": [
            "\u001b[0;31m---------------------------------------------------------------------------\u001b[0m",
            "\u001b[0;31mNameError\u001b[0m                                 Traceback (most recent call last)",
            "\u001b[0;32m<ipython-input-12-ec1dec4b4139>\u001b[0m in \u001b[0;36m<module>\u001b[0;34m()\u001b[0m\n\u001b[0;32m----> 1\u001b[0;31m \u001b[0mnumbers\u001b[0m \u001b[0;34m=\u001b[0m \u001b[0;34m{\u001b[0m\u001b[0mn1\u001b[0m \u001b[0;34m:\u001b[0m \u001b[0;34m\"beş\"\u001b[0m \u001b[0;34m,\u001b[0m \u001b[0mn2\u001b[0m \u001b[0;34m:\u001b[0m\u001b[0;34m\"on\"\u001b[0m \u001b[0;34m,\u001b[0m \u001b[0mn3\u001b[0m\u001b[0;34m:\u001b[0m \u001b[0;34m\"onbeş\"\u001b[0m\u001b[0;34m}\u001b[0m\u001b[0;34m\u001b[0m\u001b[0;34m\u001b[0m\u001b[0m\n\u001b[0m\u001b[1;32m      2\u001b[0m \u001b[0mnumbers\u001b[0m\u001b[0;34m\u001b[0m\u001b[0;34m\u001b[0m\u001b[0m\n",
            "\u001b[0;31mNameError\u001b[0m: name 'n1' is not defined"
          ]
        }
      ]
    },
    {
      "cell_type": "code",
      "metadata": {
        "id": "1uScAf_nLAhe"
      },
      "source": [
        "sayılar = {\"tek\" : [],\n",
        "           \"çift\" : []}"
      ],
      "execution_count": null,
      "outputs": []
    },
    {
      "cell_type": "code",
      "metadata": {
        "id": "WI57FyOpLAm1",
        "colab": {
          "base_uri": "https://localhost:8080/"
        },
        "outputId": "d045f2b4-42a6-4ec3-80ce-3933b7d48c5e"
      },
      "source": [
        "sayılar"
      ],
      "execution_count": null,
      "outputs": [
        {
          "output_type": "execute_result",
          "data": {
            "text/plain": [
              "{'tek': [], 'çift': []}"
            ]
          },
          "metadata": {
            "tags": []
          },
          "execution_count": 15
        }
      ]
    },
    {
      "cell_type": "code",
      "metadata": {
        "id": "CGs5Hc4tLAtZ",
        "colab": {
          "base_uri": "https://localhost:8080/"
        },
        "outputId": "5a349b38-b046-4ada-bf05-4e231cf8365d"
      },
      "source": [
        "sayılar[\"tek\"]"
      ],
      "execution_count": null,
      "outputs": [
        {
          "output_type": "execute_result",
          "data": {
            "text/plain": [
              "[]"
            ]
          },
          "metadata": {
            "tags": []
          },
          "execution_count": 16
        }
      ]
    },
    {
      "cell_type": "code",
      "metadata": {
        "id": "zhs9fRfUZtV3"
      },
      "source": [
        ""
      ],
      "execution_count": null,
      "outputs": []
    },
    {
      "cell_type": "code",
      "metadata": {
        "id": "s3yeu4GKZt0P",
        "colab": {
          "base_uri": "https://localhost:8080/"
        },
        "outputId": "b2754156-b9fb-496d-85a3-5df8f6525009"
      },
      "source": [
        "a =set(\"washington\")\n",
        "b = set(\"wellington\")\n",
        "print(a&b)\n",
        "print(a.difference(b))\n",
        "print(a.union(b))"
      ],
      "execution_count": null,
      "outputs": [
        {
          "output_type": "stream",
          "text": [
            "{'n', 't', 'o', 'w', 'i', 'g'}\n",
            "{'h', 's', 'a'}\n",
            "{'n', 'e', 't', 's', 'o', 'l', 'h', 'w', 'i', 'g', 'a'}\n"
          ],
          "name": "stdout"
        }
      ]
    },
    {
      "cell_type": "code",
      "metadata": {
        "id": "KLvMOErtZvlb"
      },
      "source": [
        "minced = True\n",
        "bread = True\n",
        "lettuce = True\n",
        "onion = True\n",
        "grocery_store = True"
      ],
      "execution_count": null,
      "outputs": []
    },
    {
      "cell_type": "code",
      "metadata": {
        "id": "F9N2RgWsZwG1"
      },
      "source": [
        "hamburger = (minced and grocery_store and bread) and (lettuce or onion)"
      ],
      "execution_count": null,
      "outputs": []
    },
    {
      "cell_type": "code",
      "metadata": {
        "id": "34A_HGyvZxna",
        "colab": {
          "base_uri": "https://localhost:8080/"
        },
        "outputId": "68c1b2b7-89a6-48dd-e9b2-58ae14a51683"
      },
      "source": [
        "if hamburger :\n",
        "  print(\"bon apetit\")"
      ],
      "execution_count": null,
      "outputs": [
        {
          "output_type": "stream",
          "text": [
            "bon apetit\n"
          ],
          "name": "stdout"
        }
      ]
    },
    {
      "cell_type": "code",
      "metadata": {
        "id": "I2Ob9g14Zx19"
      },
      "source": [
        "p= \"2020\""
      ],
      "execution_count": null,
      "outputs": []
    },
    {
      "cell_type": "code",
      "metadata": {
        "id": "1ePzR0izZyMu",
        "colab": {
          "base_uri": "https://localhost:8080/",
          "height": 131
        },
        "outputId": "ac23fefc-855c-41da-f5e1-a7f7bfb25da7"
      },
      "source": [
        "if p <= \"2020\"\n",
        "print (a)\n",
        "  else:\n",
        "    print(b)"
      ],
      "execution_count": null,
      "outputs": [
        {
          "output_type": "error",
          "ename": "SyntaxError",
          "evalue": "ignored",
          "traceback": [
            "\u001b[0;36m  File \u001b[0;32m\"<ipython-input-34-8c1bb5ae4d77>\"\u001b[0;36m, line \u001b[0;32m1\u001b[0m\n\u001b[0;31m    if p <= \"2020\"\u001b[0m\n\u001b[0m                  ^\u001b[0m\n\u001b[0;31mSyntaxError\u001b[0m\u001b[0;31m:\u001b[0m invalid syntax\n"
          ]
        }
      ]
    },
    {
      "cell_type": "code",
      "metadata": {
        "id": "oh0EdiYxZyep"
      },
      "source": [
        ""
      ],
      "execution_count": null,
      "outputs": []
    },
    {
      "cell_type": "code",
      "metadata": {
        "id": "j0F_4ZvqLA0I"
      },
      "source": [
        ""
      ],
      "execution_count": null,
      "outputs": []
    },
    {
      "cell_type": "code",
      "metadata": {
        "id": "9roKjd2SlaMt",
        "colab": {
          "base_uri": "https://localhost:8080/"
        },
        "outputId": "bb54dbd7-5e0b-46a6-bb7c-aba8f19d1bb2"
      },
      "source": [
        "list_1 = ['one', 'four', 'nine']\n",
        "list_2 = ['@', '*-', 'False']\n",
        "list_3 = [True, False]\n",
        "list_4 = [[3], [44], [-12]]\n",
        "list_5 = [[1, 3], [44, -40], [-12, 1]]\n",
        "\n",
        "list_1.sort()\n",
        "list_1"
      ],
      "execution_count": null,
      "outputs": [
        {
          "output_type": "execute_result",
          "data": {
            "text/plain": [
              "['four', 'nine', 'one']"
            ]
          },
          "metadata": {
            "tags": []
          },
          "execution_count": 2
        }
      ]
    },
    {
      "cell_type": "code",
      "metadata": {
        "id": "KwGvEr-Rlabu",
        "colab": {
          "base_uri": "https://localhost:8080/"
        },
        "outputId": "a7af8dbc-0787-4fbe-e456-c528d823b41b"
      },
      "source": [
        "list_2.sort()\n",
        "list_2"
      ],
      "execution_count": null,
      "outputs": [
        {
          "output_type": "execute_result",
          "data": {
            "text/plain": [
              "['*-', '@', 'False']"
            ]
          },
          "metadata": {
            "tags": []
          },
          "execution_count": 3
        }
      ]
    },
    {
      "cell_type": "code",
      "metadata": {
        "id": "irKllgEJlamY",
        "colab": {
          "base_uri": "https://localhost:8080/"
        },
        "outputId": "c90d12f7-ce24-4ea9-f107-bbddeacaa848"
      },
      "source": [
        "x= tuple(range(1,11))\n",
        "\n",
        "print(x)"
      ],
      "execution_count": null,
      "outputs": [
        {
          "output_type": "stream",
          "text": [
            "(1, 2, 3, 4, 5, 6, 7, 8, 9, 10)\n"
          ],
          "name": "stdout"
        }
      ]
    },
    {
      "cell_type": "code",
      "metadata": {
        "id": "UAmjHqInlavx",
        "colab": {
          "base_uri": "https://localhost:8080/"
        },
        "outputId": "280904e1-d3a8-4a7d-afd6-e90e11b84d9f"
      },
      "source": [
        "print(type(x))\n",
        "print(x)"
      ],
      "execution_count": null,
      "outputs": [
        {
          "output_type": "stream",
          "text": [
            "<class 'tuple'>\n",
            "(1, 2, 3, 4, 5, 6, 7, 8, 9, 10)\n"
          ],
          "name": "stdout"
        }
      ]
    },
    {
      "cell_type": "code",
      "metadata": {
        "id": "mbrWLR6xla2I",
        "colab": {
          "base_uri": "https://localhost:8080/",
          "height": 131
        },
        "outputId": "80499711-fcfb-4436-feea-25c2fb66d73e"
      },
      "source": [
        "tuple(x)=list(x)\n",
        "print(x)"
      ],
      "execution_count": null,
      "outputs": [
        {
          "output_type": "error",
          "ename": "SyntaxError",
          "evalue": "ignored",
          "traceback": [
            "\u001b[0;36m  File \u001b[0;32m\"<ipython-input-7-f6ddf98c6498>\"\u001b[0;36m, line \u001b[0;32m1\u001b[0m\n\u001b[0;31m    tuple(x)=list(x)\u001b[0m\n\u001b[0m                    ^\u001b[0m\n\u001b[0;31mSyntaxError\u001b[0m\u001b[0;31m:\u001b[0m can't assign to function call\n"
          ]
        }
      ]
    },
    {
      "cell_type": "code",
      "metadata": {
        "id": "ni2Y6z68la_s"
      },
      "source": [
        "my_list = [4, 5, 2, 1]\n",
        "my_list.sort()\n",
        "print(my_list)"
      ],
      "execution_count": null,
      "outputs": []
    },
    {
      "cell_type": "code",
      "metadata": {
        "id": "O3SJ3Hk2ltZk",
        "colab": {
          "base_uri": "https://localhost:8080/"
        },
        "outputId": "791617e5-3681-4c76-9a63-d268a55116a8"
      },
      "source": [
        "my_list1 = [*range(1,11)]\n",
        "my_list1.sort()\n",
        "print(my_list1)"
      ],
      "execution_count": null,
      "outputs": [
        {
          "output_type": "stream",
          "text": [
            "[1, 2, 3, 4, 5, 6, 7, 8, 9, 10]\n"
          ],
          "name": "stdout"
        }
      ]
    },
    {
      "cell_type": "code",
      "metadata": {
        "id": "EsJjLObClzsS",
        "colab": {
          "base_uri": "https://localhost:8080/"
        },
        "outputId": "b762a9af-3f17-4f08-9d01-dda04b97d7c1"
      },
      "source": [
        "numbers = [1,3,7,4,3,0,3,6,3]\n",
        "frequent= max(set(numbers),key = numbers.count)\n",
        "print (\"the most frequent number is\", frequent,\"and it was\",numbers.count(frequent),\"times repeated\")"
      ],
      "execution_count": null,
      "outputs": [
        {
          "output_type": "stream",
          "text": [
            "the most frequent number is 3 and it was 4 times repeated\n"
          ],
          "name": "stdout"
        }
      ]
    },
    {
      "cell_type": "code",
      "metadata": {
        "colab": {
          "base_uri": "https://localhost:8080/"
        },
        "id": "eqRCWOC_NsIf",
        "outputId": "0a6fd6f1-a1ba-4841-df64-65ccc9c1ddcc"
      },
      "source": [
        "  left = set(\"qwertasdfgzxcvb\")\n",
        "  right = set(\"yuiophjklmn\")\n",
        " \n",
        "  a = set(str(input(\"write a world\")))\n",
        "  \n",
        "  a&left!=set() and a&right!=set()\n",
        "\n"
      ],
      "execution_count": null,
      "outputs": [
        {
          "output_type": "stream",
          "text": [
            "write a worlddşsleps\n"
          ],
          "name": "stdout"
        },
        {
          "output_type": "execute_result",
          "data": {
            "text/plain": [
              "True"
            ]
          },
          "metadata": {
            "tags": []
          },
          "execution_count": 40
        }
      ]
    },
    {
      "cell_type": "code",
      "metadata": {
        "colab": {
          "base_uri": "https://localhost:8080/"
        },
        "id": "EtNFAuJINrmD",
        "outputId": "17defe06-0f22-4ca6-f0c5-b5e6a077989c"
      },
      "source": [
        "b = \"zeynep\"\n",
        "a =input(\"what is your name?\")\n",
        "if a == b:\n",
        "  print(\"Hello,{} your password is KLMN\".format(a))\n",
        "else:\n",
        "    print(\"goodbye,{} see you later\".format(a))"
      ],
      "execution_count": null,
      "outputs": [
        {
          "output_type": "stream",
          "text": [
            "what is your name?gul\n",
            "goodbye,gul see you later\n"
          ],
          "name": "stdout"
        }
      ]
    },
    {
      "cell_type": "code",
      "metadata": {
        "id": "bGGvxUTZNrWP"
      },
      "source": [
        "num = int(input(\"enter a number : \"))\n",
        "basamak = ()\n"
      ],
      "execution_count": null,
      "outputs": []
    },
    {
      "cell_type": "code",
      "metadata": {
        "id": "gWg_OzoKNrBs"
      },
      "source": [
        ""
      ],
      "execution_count": null,
      "outputs": []
    },
    {
      "cell_type": "markdown",
      "metadata": {
        "id": "CQWw-i7_l2Qq"
      },
      "source": [
        "bu bir başlık\n",
        "\n"
      ]
    },
    {
      "cell_type": "code",
      "metadata": {
        "colab": {
          "base_uri": "https://localhost:8080/"
        },
        "id": "5t4lnORJlzRe",
        "outputId": "9eae72ac-7d89-4d3e-d502-5a35fd358a67"
      },
      "source": [
        "a = 1\n",
        "print(-a)\n"
      ],
      "execution_count": null,
      "outputs": [
        {
          "output_type": "stream",
          "text": [
            "-1\n"
          ],
          "name": "stdout"
        }
      ]
    },
    {
      "cell_type": "code",
      "metadata": {
        "colab": {
          "base_uri": "https://localhost:8080/"
        },
        "id": "XdVLP7selbKs",
        "outputId": "9bbfc7a1-fef4-4527-e05a-62c268a10563"
      },
      "source": [
        "a = 3\n",
        "b = 4\n",
        "print (\"The sum of {} + {} is : {}\".format(a,b,a+b))"
      ],
      "execution_count": null,
      "outputs": [
        {
          "output_type": "stream",
          "text": [
            "The sum of 3 + 4 is : 7\n"
          ],
          "name": "stdout"
        }
      ]
    },
    {
      "cell_type": "code",
      "metadata": {
        "id": "qXgM1FbHmeim"
      },
      "source": [
        ""
      ],
      "execution_count": null,
      "outputs": []
    },
    {
      "cell_type": "code",
      "metadata": {
        "colab": {
          "base_uri": "https://localhost:8080/",
          "height": 35
        },
        "id": "nowjeq3zmdX_",
        "outputId": "b6fc0506-ec45-4357-bc3e-37059da5e0a4"
      },
      "source": [
        "text = \"{:>20}\".format(\"merr\")\n",
        "text"
      ],
      "execution_count": null,
      "outputs": [
        {
          "output_type": "execute_result",
          "data": {
            "application/vnd.google.colaboratory.intrinsic+json": {
              "type": "string"
            },
            "text/plain": [
              "'                merr'"
            ]
          },
          "metadata": {
            "tags": []
          },
          "execution_count": 12
        }
      ]
    },
    {
      "cell_type": "code",
      "metadata": {
        "colab": {
          "base_uri": "https://localhost:8080/",
          "height": 35
        },
        "id": "uLi27EjylbUS",
        "outputId": "c33715ab-64b3-4816-fb82-fc55795100b6"
      },
      "source": [
        "text = \"{:^50}\".format(\"abc\")\n",
        "text"
      ],
      "execution_count": null,
      "outputs": [
        {
          "output_type": "execute_result",
          "data": {
            "application/vnd.google.colaboratory.intrinsic+json": {
              "type": "string"
            },
            "text/plain": [
              "'                       abc                        '"
            ]
          },
          "metadata": {
            "tags": []
          },
          "execution_count": 13
        }
      ]
    },
    {
      "cell_type": "code",
      "metadata": {
        "colab": {
          "base_uri": "https://localhost:8080/"
        },
        "id": "l8t52Z8SKXpf",
        "outputId": "8bbaa482-12e1-4d47-b105-2888ca6f4db3"
      },
      "source": [
        "sayılar = []\n",
        "sayılar.append(1)\n",
        "sayılar"
      ],
      "execution_count": null,
      "outputs": [
        {
          "output_type": "execute_result",
          "data": {
            "text/plain": [
              "[1]"
            ]
          },
          "metadata": {
            "tags": []
          },
          "execution_count": 16
        }
      ]
    },
    {
      "cell_type": "code",
      "metadata": {
        "id": "r9Pu5jzelbYE"
      },
      "source": [
        "sayılar.append(2)"
      ],
      "execution_count": null,
      "outputs": []
    },
    {
      "cell_type": "code",
      "metadata": {
        "colab": {
          "base_uri": "https://localhost:8080/"
        },
        "id": "Qkdr6_X5lbbi",
        "outputId": "70e8ded4-b52e-40cd-bfc5-6e63fd9784b0"
      },
      "source": [
        "sayılar"
      ],
      "execution_count": null,
      "outputs": [
        {
          "output_type": "execute_result",
          "data": {
            "text/plain": [
              "[1, 2]"
            ]
          },
          "metadata": {
            "tags": []
          },
          "execution_count": 18
        }
      ]
    },
    {
      "cell_type": "code",
      "metadata": {
        "colab": {
          "base_uri": "https://localhost:8080/",
          "height": 182
        },
        "id": "cnopPoTPlbfB",
        "outputId": "b730926d-9f38-4034-87f0-7381cec22717"
      },
      "source": [
        "sayılar.insert(5)\n",
        "sayılar"
      ],
      "execution_count": null,
      "outputs": [
        {
          "output_type": "error",
          "ename": "TypeError",
          "evalue": "ignored",
          "traceback": [
            "\u001b[0;31m---------------------------------------------------------------------------\u001b[0m",
            "\u001b[0;31mTypeError\u001b[0m                                 Traceback (most recent call last)",
            "\u001b[0;32m<ipython-input-20-ac7288784c08>\u001b[0m in \u001b[0;36m<module>\u001b[0;34m()\u001b[0m\n\u001b[0;32m----> 1\u001b[0;31m \u001b[0msayılar\u001b[0m\u001b[0;34m.\u001b[0m\u001b[0minsert\u001b[0m\u001b[0;34m(\u001b[0m\u001b[0;36m5\u001b[0m\u001b[0;34m)\u001b[0m\u001b[0;34m\u001b[0m\u001b[0;34m\u001b[0m\u001b[0m\n\u001b[0m\u001b[1;32m      2\u001b[0m \u001b[0msayılar\u001b[0m\u001b[0;34m\u001b[0m\u001b[0;34m\u001b[0m\u001b[0m\n",
            "\u001b[0;31mTypeError\u001b[0m: insert() takes exactly 2 arguments (1 given)"
          ]
        }
      ]
    },
    {
      "cell_type": "code",
      "metadata": {
        "id": "4fhfBjLVlboO",
        "colab": {
          "base_uri": "https://localhost:8080/",
          "height": 35
        },
        "outputId": "f296b4ef-4f0d-4fe5-f24f-ce4e9c015da1"
      },
      "source": [
        "a = 5\n",
        "b = 3\n",
        "den = \"bu bir deneme {} kacıncı hemde {}\". format (a,b)\n",
        "den"
      ],
      "execution_count": null,
      "outputs": [
        {
          "output_type": "execute_result",
          "data": {
            "application/vnd.google.colaboratory.intrinsic+json": {
              "type": "string"
            },
            "text/plain": [
              "'bu bir deneme 5 kacıncı hemde 3'"
            ]
          },
          "metadata": {
            "tags": []
          },
          "execution_count": 5
        }
      ]
    },
    {
      "cell_type": "code",
      "metadata": {
        "id": "BdcqZaTXlbrs",
        "colab": {
          "base_uri": "https://localhost:8080/"
        },
        "outputId": "4b90b010-8fe5-4b51-fbbb-1e18277c4210"
      },
      "source": [
        "animal =\"hippopotamus\"\n",
        "print(animal[1:])"
      ],
      "execution_count": null,
      "outputs": [
        {
          "output_type": "stream",
          "text": [
            "ippopotamus\n"
          ],
          "name": "stdout"
        }
      ]
    },
    {
      "cell_type": "code",
      "metadata": {
        "id": "log56XF_lb3o",
        "colab": {
          "base_uri": "https://localhost:8080/"
        },
        "outputId": "a6889da3-a1fe-4eeb-b2ef-f0e9ab606def"
      },
      "source": [
        "print(animal[::-1])"
      ],
      "execution_count": null,
      "outputs": [
        {
          "output_type": "stream",
          "text": [
            "sumatopoppih\n"
          ],
          "name": "stdout"
        }
      ]
    },
    {
      "cell_type": "code",
      "metadata": {
        "id": "NvS3oiO2lb9H",
        "colab": {
          "base_uri": "https://localhost:8080/"
        },
        "outputId": "042d1055-8fb3-4816-875a-d4821064cf56"
      },
      "source": [
        "print(animal[-5:-1])"
      ],
      "execution_count": null,
      "outputs": [
        {
          "output_type": "stream",
          "text": [
            "tamu\n"
          ],
          "name": "stdout"
        }
      ]
    },
    {
      "cell_type": "code",
      "metadata": {
        "colab": {
          "base_uri": "https://localhost:8080/"
        },
        "id": "y1G8LQMKZGtY",
        "outputId": "6d53a098-7e31-4fee-d3e4-3946b72dfd64"
      },
      "source": [
        "print(animal[2:5])"
      ],
      "execution_count": null,
      "outputs": [
        {
          "output_type": "stream",
          "text": [
            "ppo\n"
          ],
          "name": "stdout"
        }
      ]
    },
    {
      "cell_type": "code",
      "metadata": {
        "colab": {
          "base_uri": "https://localhost:8080/"
        },
        "id": "9wu6cA28ZH2O",
        "outputId": "dbb94c7f-ebab-4462-a2eb-cd9a47fe47f9"
      },
      "source": [
        "print(animal[1:6:2])"
      ],
      "execution_count": null,
      "outputs": [
        {
          "output_type": "stream",
          "text": [
            "ipp\n"
          ],
          "name": "stdout"
        }
      ]
    },
    {
      "cell_type": "code",
      "metadata": {
        "colab": {
          "base_uri": "https://localhost:8080/"
        },
        "id": "BTpiaswX60uH",
        "outputId": "951f1666-a240-4702-fe70-cb9a13a84851"
      },
      "source": [
        "a = 3\n",
        "b = 4\n",
        "c = (a**2+b**2)**0.5\n",
        "c\n"
      ],
      "execution_count": null,
      "outputs": [
        {
          "output_type": "execute_result",
          "data": {
            "text/plain": [
              "5.0"
            ]
          },
          "metadata": {
            "tags": []
          },
          "execution_count": 1
        }
      ]
    },
    {
      "cell_type": "code",
      "metadata": {
        "id": "5mOubC4sZDhH"
      },
      "source": [
        "age = int (input(\"age : \"))\n",
        "money =str (input(\"have_money? : \"))\n",
        "boy =input(\"boy : \")\n",
        "cigarette_sale = ((age >= 16)and (money)) or (boy)\n",
        "print(cigarette_sale)\n",
        "print(type(cigarette_sale))"
      ],
      "execution_count": null,
      "outputs": []
    },
    {
      "cell_type": "code",
      "metadata": {
        "colab": {
          "base_uri": "https://localhost:8080/"
        },
        "id": "LIhdTz0LZsAw",
        "outputId": "a11e0920-2713-4d24-c644-588c3b5d8df2"
      },
      "source": [
        "a=\"zeynep\"\n",
        "print(a[-2:-4])"
      ],
      "execution_count": null,
      "outputs": [
        {
          "output_type": "stream",
          "text": [
            "\n"
          ],
          "name": "stdout"
        }
      ]
    },
    {
      "cell_type": "code",
      "metadata": {
        "colab": {
          "base_uri": "https://localhost:8080/",
          "height": 35
        },
        "id": "vkxnBn3UZsPo",
        "outputId": "b3585d68-940e-4db1-b310-ed8708b4ef07"
      },
      "source": [
        "text = \"{:2f} , {:.1f} , {:.4f}\".format (3.14532 , 4.3222221 , 6.4536)\n",
        "text\n"
      ],
      "execution_count": null,
      "outputs": [
        {
          "output_type": "execute_result",
          "data": {
            "application/vnd.google.colaboratory.intrinsic+json": {
              "type": "string"
            },
            "text/plain": [
              "'3.145320 , 4.3 , 6.4536'"
            ]
          },
          "metadata": {
            "tags": []
          },
          "execution_count": 48
        }
      ]
    },
    {
      "cell_type": "code",
      "metadata": {
        "id": "UQHA74M0ZvWc"
      },
      "source": [
        "teext = (ayse , fatma ,ahayriyr , ağzın ,burnun , çürüye .f)"
      ],
      "execution_count": null,
      "outputs": []
    },
    {
      "cell_type": "markdown",
      "metadata": {
        "id": "VY1n6dXNwZo_"
      },
      "source": [
        "# Yeni Bölüm"
      ]
    },
    {
      "cell_type": "code",
      "metadata": {
        "id": "FHj5K3GpZvqK"
      },
      "source": [
        ""
      ],
      "execution_count": null,
      "outputs": []
    },
    {
      "cell_type": "code",
      "metadata": {
        "id": "RNyG1CiCZD6p"
      },
      "source": [
        ""
      ],
      "execution_count": null,
      "outputs": []
    },
    {
      "cell_type": "code",
      "metadata": {
        "colab": {
          "base_uri": "https://localhost:8080/"
        },
        "id": "TCmuYnRp_nsp",
        "outputId": "1b6d9211-b9d0-4534-e30d-99458da0234f"
      },
      "source": [
        "number = 2021\n",
        "text = \"we have reached\"\n",
        "print(text,number)\n"
      ],
      "execution_count": null,
      "outputs": [
        {
          "output_type": "stream",
          "text": [
            "we have reached 2021\n"
          ],
          "name": "stdout"
        }
      ]
    },
    {
      "cell_type": "code",
      "metadata": {
        "colab": {
          "base_uri": "https://localhost:8080/"
        },
        "id": "bviVxScW_-2f",
        "outputId": "f54edac6-c86a-4675-aff0-2c99993a42c1"
      },
      "source": [
        "print(\"ali\\nveli\\ndeli\")"
      ],
      "execution_count": null,
      "outputs": [
        {
          "output_type": "stream",
          "text": [
            "ali\n",
            "veli\n",
            "deli\n"
          ],
          "name": "stdout"
        }
      ]
    },
    {
      "cell_type": "code",
      "metadata": {
        "colab": {
          "base_uri": "https://localhost:8080/"
        },
        "id": "fCV2l0LbBW--",
        "outputId": "568c29b5-4521-41d0-ded0-bb1275322856"
      },
      "source": [
        "print(12,22, False,sep=\"tüh\")"
      ],
      "execution_count": null,
      "outputs": [
        {
          "output_type": "stream",
          "text": [
            "12tüh22tühFalse\n"
          ],
          "name": "stdout"
        }
      ]
    },
    {
      "cell_type": "code",
      "metadata": {
        "colab": {
          "base_uri": "https://localhost:8080/"
        },
        "id": "Gz6WwETcBmVQ",
        "outputId": "5800fc45-7fb6-495e-f101-5ed41fc5b589"
      },
      "source": [
        "print(\"hayriye\" , end = \"-\")\n",
        "print(\"hayri\")"
      ],
      "execution_count": null,
      "outputs": [
        {
          "output_type": "stream",
          "text": [
            "hayriye-hayri\n"
          ],
          "name": "stdout"
        }
      ]
    },
    {
      "cell_type": "code",
      "metadata": {
        "colab": {
          "base_uri": "https://localhost:8080/"
        },
        "id": "8mbynvxoCh3p",
        "outputId": "1007088e-5a5e-4cc7-8e8f-02021baa68cf"
      },
      "source": [
        "1 and 0"
      ],
      "execution_count": null,
      "outputs": [
        {
          "output_type": "execute_result",
          "data": {
            "text/plain": [
              "0"
            ]
          },
          "metadata": {
            "tags": []
          },
          "execution_count": 12
        }
      ]
    },
    {
      "cell_type": "code",
      "metadata": {
        "id": "skyvnuvkTiYF",
        "colab": {
          "base_uri": "https://localhost:8080/",
          "height": 87
        },
        "outputId": "8f98b097-324f-47c9-da6f-ed551dcb279b"
      },
      "source": [
        "age = input(\"are you cigarette addict older than 75 years old True or False: \")\n",
        "chronic =input(\"do you have a severe chronic disease? true or false :\")\n",
        "immune = input(\"is your immun system weak? true or false :\")\n",
        "age1 = (age ==\"True\")\n",
        "chronic1 = (chronic == \"True\")\n",
        "immune1 = (immune == \"True\")\n",
        "risk = (age1 or immune1 or chronic1) and \"there is a risk of death\" or \"there is not risk of death\"\n",
        "risk"
      ],
      "execution_count": null,
      "outputs": [
        {
          "output_type": "stream",
          "text": [
            "are you cigarette addict older than 75 years old True or False: False\n",
            "do you have a severe chronic disease? true or false :False\n",
            "is your immun system weak? true or false :False\n"
          ],
          "name": "stdout"
        },
        {
          "output_type": "execute_result",
          "data": {
            "application/vnd.google.colaboratory.intrinsic+json": {
              "type": "string"
            },
            "text/plain": [
              "'there is not risk of death'"
            ]
          },
          "metadata": {
            "tags": []
          },
          "execution_count": 5
        }
      ]
    },
    {
      "cell_type": "code",
      "metadata": {
        "id": "1YIICzTMTfIc",
        "colab": {
          "base_uri": "https://localhost:8080/"
        },
        "outputId": "fb14fbbb-ff2f-46cc-c932-96fa30d362aa"
      },
      "source": [
        "warning = 'You must quit smoking!'\n",
        "\n",
        "print(len(list(warning)))"
      ],
      "execution_count": null,
      "outputs": [
        {
          "output_type": "stream",
          "text": [
            "22\n"
          ],
          "name": "stdout"
        }
      ]
    },
    {
      "cell_type": "code",
      "metadata": {
        "colab": {
          "base_uri": "https://localhost:8080/"
        },
        "id": "Uyr-MmlXXkEr",
        "outputId": "6032db39-ef0d-486b-ad29-44fc17b643cd"
      },
      "source": [
        "odd_numbers = [[11, 13, 15], 17, 19, 21, 23, 25, 27, 29]\n",
        "\n",
        "print(odd_numbers[6])"
      ],
      "execution_count": null,
      "outputs": [
        {
          "output_type": "stream",
          "text": [
            "27\n"
          ],
          "name": "stdout"
        }
      ]
    },
    {
      "cell_type": "code",
      "metadata": {
        "colab": {
          "base_uri": "https://localhost:8080/"
        },
        "id": "nlUoAitAXkxR",
        "outputId": "01f9b433-0735-4a6a-ac9a-ef2067e46d37"
      },
      "source": [
        "fruits = ['apple', 'banana', 'watermelon', 'orange', 'mango', 'avocado']\n",
        "\n",
        "fruit_list = []\n",
        "fruit_list.insert(0, fruits)\n",
        "print(fruit_list[0][2][7])"
      ],
      "execution_count": null,
      "outputs": [
        {
          "output_type": "stream",
          "text": [
            "l\n"
          ],
          "name": "stdout"
        }
      ]
    },
    {
      "cell_type": "code",
      "metadata": {
        "colab": {
          "base_uri": "https://localhost:8080/"
        },
        "id": "Uvu_mO4IYa72",
        "outputId": "1402025b-b1a0-4f2b-edef-a87bed6ebf9e"
      },
      "source": [
        "even_numbers = [2, 4, 6, 8, 10, 12, 14, 16, 18, 20]\n",
        "\n",
        "print(even_numbers[4:9])"
      ],
      "execution_count": null,
      "outputs": [
        {
          "output_type": "stream",
          "text": [
            "[10, 12, 14, 16, 18]\n"
          ],
          "name": "stdout"
        }
      ]
    },
    {
      "cell_type": "code",
      "metadata": {
        "colab": {
          "base_uri": "https://localhost:8080/"
        },
        "id": "T_q09H8OYbF2",
        "outputId": "d8c4f6f1-5db3-4f39-a06d-0a2a9272637b"
      },
      "source": [
        "print(len([[12, 34, 56]]))"
      ],
      "execution_count": null,
      "outputs": [
        {
          "output_type": "stream",
          "text": [
            "1\n"
          ],
          "name": "stdout"
        }
      ]
    },
    {
      "cell_type": "code",
      "metadata": {
        "id": "ge27_1UEY2Iw",
        "colab": {
          "base_uri": "https://localhost:8080/"
        },
        "outputId": "9cf1f05e-69de-4e54-8279-b791482831e9"
      },
      "source": [
        "print(len([[12, 34, 56]][0]))"
      ],
      "execution_count": null,
      "outputs": [
        {
          "output_type": "stream",
          "text": [
            "3\n"
          ],
          "name": "stdout"
        }
      ]
    },
    {
      "cell_type": "code",
      "metadata": {
        "id": "IXclpU_yUhhK"
      },
      "source": [
        "{\n",
        "  \"nbformat\": 4,\n",
        "  \"nbformat_minor\": 5,\n",
        "  \"metadata\": {\n",
        "    \"kernelspec\": {\n",
        "      \"display_name\": \"Python 3\",\n",
        "      \"language\": \"python\",\n",
        "      \"name\": \"python3\"\n",
        "    },\n",
        "    \"language_info\": {\n",
        "      \"codemirror_mode\": {\n",
        "        \"name\": \"ipython\",\n",
        "        \"version\": 3\n",
        "      },\n",
        "      \"file_extension\": \".py\",\n",
        "      \"mimetype\": \"text/x-python\",\n",
        "      \"name\": \"python\",\n",
        "      \"nbconvert_exporter\": \"python\",\n",
        "      \"pygments_lexer\": \"ipython3\",\n",
        "      \"version\": \"3.8.8\"\n",
        "    },\n",
        "    \"colab\": {\n",
        "      \"name\": \"workshop-2-python-student-version.ipynb\",\n",
        "      \"provenance\": [],\n",
        "      \"collapsed_sections\": [],\n",
        "      \"toc_visible\": true\n",
        "    }\n",
        "  },\n",
        "  \"cells\": [\n",
        "    {\n",
        "      \"cell_type\": \"markdown\",\n",
        "      \"metadata\": {\n",
        "        \"id\": \"cec2380e\"\n",
        "      },\n",
        "      \"source\": [\n",
        "        \"### Code Challenge -1\\n\",\n",
        "        \"\\n\",\n",
        "        \"<div class=\\\"alert alert-block alert-info\\\">\\n\",\n",
        "        \"    <b>💡Objective:</b>\\n\",\n",
        "        \"    <ul>\\n\",\n",
        "        \"        <li>To improve your <b>boolean logic</b> and <b>arithmetic operator algorithm</b>&nbsp;skills.</li>\\n\",\n",
        "        \"    </ul>\\n\",\n",
        "        \"</div>\\n\",\n",
        "        \"\\n\",\n",
        "        \"- Using the all following items once each, set a correct boolean expression that returns `write me`. Use the `print()` function to display the result.\\n\",\n",
        "        \"\\n\",\n",
        "        \"```python\\n\",\n",
        "        \"0\\n\",\n",
        "        \"and\\n\",\n",
        "        \"not\\n\",\n",
        "        \"\\\"write me\\\"\\n\",\n",
        "        \"```\"\n",
        "      ],\n",
        "      \"id\": \"cec2380e\"\n",
        "    },\n",
        "    {\n",
        "      \"cell_type\": \"markdown\",\n",
        "      \"metadata\": {\n",
        "        \"id\": \"bd5961ea\"\n",
        "      },\n",
        "      \"source\": [\n",
        "        \"### Solution - 1\"\n",
        "      ],\n",
        "      \"id\": \"bd5961ea\"\n",
        "    },\n",
        "    {\n",
        "      \"cell_type\": \"code\",\n",
        "      \"metadata\": {\n",
        "        \"id\": \"f591cc23\"\n",
        "      },\n",
        "      \"source\": [\n",
        "        \"print()\"\n",
        "      ],\n",
        "      \"id\": \"f591cc23\",\n",
        "      \"execution_count\": null,\n",
        "      \"outputs\": []\n",
        "    },\n",
        "    {\n",
        "      \"cell_type\": \"markdown\",\n",
        "      \"metadata\": {\n",
        "        \"id\": \"ff55f195\"\n",
        "      },\n",
        "      \"source\": [\n",
        "        \"### Code Challenge-2\\n\",\n",
        "        \"\\n\",\n",
        "        \"<div class=\\\"alert alert-block alert-info\\\">\\n\",\n",
        "        \"    <b>💡Objective:</b>\\n\",\n",
        "        \"    <ul>\\n\",\n",
        "        \"        <li>To improve your <b>boolean logic algorithm</b>&nbsp;and truth value skills.</li>\\n\",\n",
        "        \"    </ul>\\n\",\n",
        "        \"</div>\\n\",\n",
        "        \"\\n\",\n",
        "        \"- Find out if a given year is a \\\"leap\\\" year.\\n\",\n",
        "        \"\\n\",\n",
        "        \"  - In the Gregorian calendar, three criteria must be taken into account to identify leap years:\\n\",\n",
        "        \"  \\n\",\n",
        "        \"    - The year must be evenly divisible by 4;\\n\",\n",
        "        \"    - If the year can also be evenly divided by 100, it is not a leap year; unless...(next one)\\n\",\n",
        "        \"    - The year is also evenly divisible by 400. Then it is a leap year.\\n\",\n",
        "        \"\\n\",\n",
        "        \"- According to these rules, the years 2000 and 2400 are leap years, while 1800, 1900, 2100, 2200, 2300, and 2500 are not the leap years.\\n\",\n",
        "        \"\\n\",\n",
        "        \"- Write a Python program that;\\n\",\n",
        "        \"  - Takes a 4-digit year from the user,\\n\",\n",
        "        \"  - Prints `True` if the given year by the user is a leap year, prints `False` otherwise.\\n\",\n",
        "        \"  \\n\",\n",
        "        \"> Note that; this question is famous on the web, so that do it yourself to get more benefits from it.\"\n",
        "      ],\n",
        "      \"id\": \"ff55f195\"\n",
        "    },\n",
        "    {\n",
        "      \"cell_type\": \"markdown\",\n",
        "      \"metadata\": {\n",
        "        \"id\": \"55bc3ee3\"\n",
        "      },\n",
        "      \"source\": [\n",
        "        \"### Solution-2\"\n",
        "      ],\n",
        "      \"id\": \"55bc3ee3\"\n",
        "    },\n",
        "    {\n",
        "      \"cell_type\": \"code\",\n",
        "      \"metadata\": {\n",
        "        \"id\": \"2f651282\"\n",
        "      },\n",
        "      \"source\": [\n",
        "        \"\\n\"\n",
        "      ],\n",
        "      \"id\": \"2f651282\",\n",
        "      \"execution_count\": null,\n",
        "      \"outputs\": []\n",
        "    },\n",
        "    {\n",
        "      \"cell_type\": \"markdown\",\n",
        "      \"metadata\": {\n",
        "        \"id\": \"22a552e5\"\n",
        "      },\n",
        "      \"source\": [\n",
        "        \"### Code Challenge-3\\n\",\n",
        "        \"\\n\",\n",
        "        \"<p></p>\\n\",\n",
        "        \"<div class=\\\"alert alert-block alert-info\\\">\\n\",\n",
        "        \"    <b>💡Objective:</b>\\n\",\n",
        "        \"    <ul>\\n\",\n",
        "        \"        <li>To improve your <b>collection </b>type <b>knowledge, </b>using<b> </b><span>new </span><span>built-in<b> function comprehension, string formatting</b></span>&nbsp;and <b>problem solving</b> skills.</li>\\n\",\n",
        "        \"    </ul>\\n\",\n",
        "        \"</div>\\n\",\n",
        "        \"\\n\",\n",
        "        \"<b>Task - 1 :</b><br>You work for a manufacturer as a programmer and\\n\",\n",
        "        \"have been asked to calculate the\\n\",\n",
        "        \"<b>total profit</b> made on the sales of a product. You are given a dictionary (<code>sales</code>) containing the <span><i>cost </i>price</span><span> </span>per unit (in dollars), <span><i>sell </i>price</span><span> </span>per unit (in dollars), and\\n\",\n",
        "        \"the <span><span>beginning</span></span><i> inventory</i>. Write a program to return the <b>total profit&nbsp;</b>made, <b>rounded&nbsp;</b>to the nearest dollar. Assume all of the <i>inventory</i> has been sold. The <i>name</i> and the <i>keys</i> of\\n\",\n",
        "        \"the dictionary are constant, so use them as they are.<br>\\n\",\n",
        "        \"<hr>\\n\",\n",
        "        \"\\n\",\n",
        "        \"\\n\",\n",
        "        \"<p>The example of the <i>values</i> (<i>sell</i>-<i>cost </i>value,&nbsp;<i>inventory</i>) and total <i>profit </i>:</p>\\n\",\n",
        "        \"\\n\",\n",
        "        \"```python\\n\",\n",
        "        \"sales = {\\n\",\n",
        "        \"  \\\"cost_value\\\": 31.87,\\n\",\n",
        "        \"  \\\"sell_value\\\": 45.00,\\n\",\n",
        "        \"  \\\"inventory\\\": 1000\\n\",\n",
        "        \"}  \\n\",\n",
        "        \"\\n\",\n",
        "        \"# the profit will be : 13130\\n\",\n",
        "        \"````\\n\",\n",
        "        \"\\n\",\n",
        "        \"<hr>\\n\",\n",
        "        \"<p><b>Task - 2 :</b><br>Your boss wants you to prepare the <b>payrolls</b> of the workers in your department. You have to convert the amount of dollars into <i>payroll </i>format. In order to help move things along, you have volunteered to write a code that\\n\",\n",
        "        \"    will take a float and return the money in the following format (as <i>dollars</i> and <i>cents</i>).&nbsp;</p>\\n\",\n",
        "        \"<p><br>\\n\",\n",
        "        \"</p>\\n\",\n",
        "        \"\\n\",\n",
        "        \"- Examples :\\n\",\n",
        "        \"\\n\",\n",
        "        \"|Given Float Type `amount`|Desired Output|\\n\",\n",
        "        \"|--|--|\\n\",\n",
        "        \"|3|\\\\$3.00|\\n\",\n",
        "        \"|29.99|\\\\$29.99|\\n\",\n",
        "        \"|4.1|\\\\$4.10|\\n\",\n",
        "        \"\\n\",\n",
        "        \"The output should be float type as well and two digits after the period.<br><br>\\n\",\n",
        "        \"<p></p>\"\n",
        "      ],\n",
        "      \"id\": \"22a552e5\"\n",
        "    },\n",
        "    {\n",
        "      \"cell_type\": \"markdown\",\n",
        "      \"metadata\": {\n",
        "        \"id\": \"98cd2f0e\"\n",
        "      },\n",
        "      \"source\": [\n",
        "        \"### Solution-3\"\n",
        "      ],\n",
        "      \"id\": \"98cd2f0e\"\n",
        "    },\n",
        "    {\n",
        "      \"cell_type\": \"code\",\n",
        "      \"metadata\": {\n",
        "        \"id\": \"576823cc\"\n",
        "      },\n",
        "      \"source\": [\n",
        "        \"# Task-1\\n\",\n",
        "        \"\\n\"\n",
        "      ],\n",
        "      \"id\": \"576823cc\",\n",
        "      \"execution_count\": null,\n",
        "      \"outputs\": []\n",
        "    },\n",
        "    {\n",
        "      \"cell_type\": \"code\",\n",
        "      \"metadata\": {\n",
        "        \"id\": \"63fb6f4b\"\n",
        "      },\n",
        "      \"source\": [\n",
        "        \"# Task-2\\n\",\n",
        "        \"\\n\"\n",
        "      ],\n",
        "      \"id\": \"63fb6f4b\",\n",
        "      \"execution_count\": null,\n",
        "      \"outputs\": []\n",
        "    },\n",
        "    {\n",
        "      \"cell_type\": \"code\",\n",
        "      \"metadata\": {\n",
        "        \"id\": \"d3907c41\"\n",
        "      },\n",
        "      \"source\": [\n",
        "        \"\"\n",
        "      ],\n",
        "      \"id\": \"d3907c41\",\n",
        "      \"execution_count\": null,\n",
        "      \"outputs\": []\n",
        "    }\n",
        "  ]\n",
        "}"
      ],
      "execution_count": null,
      "outputs": []
    },
    {
      "cell_type": "code",
      "metadata": {
        "id": "Nfeh6Tm9Zj0A",
        "colab": {
          "base_uri": "https://localhost:8080/"
        },
        "outputId": "9f4ebb0a-0c08-4033-c19a-205466168979"
      },
      "source": [
        "my_list1 = [*range(10,0,-1)]\n",
        "\n",
        "print(my_list1)"
      ],
      "execution_count": null,
      "outputs": [
        {
          "output_type": "stream",
          "text": [
            "[10, 9, 8, 7, 6, 5, 4, 3, 2, 1]\n"
          ],
          "name": "stdout"
        }
      ]
    },
    {
      "cell_type": "code",
      "metadata": {
        "colab": {
          "base_uri": "https://localhost:8080/"
        },
        "id": "eEmJpSLNXe9v",
        "outputId": "187539e1-ecb6-4338-d5e9-0c09d7363810"
      },
      "source": [
        "grocer = [\"banana\", [\"orange\", [\"apple\", \"eggplant\", \"melon\", \"spinach\", \"cheese\", \"leek\" ], \"water\"], \"mandarin\"]\n",
        "print(grocer[1][1][1:6:2])"
      ],
      "execution_count": null,
      "outputs": [
        {
          "output_type": "stream",
          "text": [
            "['eggplant', 'spinach', 'leek']\n"
          ],
          "name": "stdout"
        }
      ]
    },
    {
      "cell_type": "code",
      "metadata": {
        "colab": {
          "base_uri": "https://localhost:8080/"
        },
        "id": "PhB5Mqk6aA1_",
        "outputId": "afbf1ed9-55bc-49a5-b9a8-ece87ba4a949"
      },
      "source": [
        "flowers = [[\"jasmine\", [\"lavender\", \"rose\"], \"tulip\"]]\n",
        "colors = [\"red\", (\"blue\", [\"yellow\", \"green\"]), \"pink\"]\n",
        "text =\"My two favorite flowers are {0} and {1},\".format((flowers[0][2]),(flowers[0][1][1]))\n",
        "text1=\"two favorite colors are {0} and {1}.\".format((colors[1][0]),(colors[1][1][1]))\n",
        "print(text,text1)"
      ],
      "execution_count": null,
      "outputs": [
        {
          "output_type": "stream",
          "text": [
            "My two favorite flowers are tulip and rose, two favorite colors are blue and green.\n"
          ],
          "name": "stdout"
        }
      ]
    },
    {
      "cell_type": "code",
      "metadata": {
        "id": "_IFGSlMeh4_0"
      },
      "source": [
        "My two favorite flowers are tulip and rose, two favorite colors are blue and green."
      ],
      "execution_count": null,
      "outputs": []
    },
    {
      "cell_type": "code",
      "metadata": {
        "colab": {
          "base_uri": "https://localhost:8080/"
        },
        "id": "Q1Fd64MriZ4i",
        "outputId": "8128a55f-24cc-4c5e-ddf7-f86f6a52c7ff"
      },
      "source": [
        "escapes = [\"\\n\\t\", (\"\\t\", \"\\t\\t\"), [\"\\n\", \"\\n\\t\\t\"]]\n",
        "\n",
        "sentence = \"I am 40 years old. {0} I have two children.{1} Data Science is my IT domain.\".format((\"\\n\\t\"),(\"\\n\\t\\t\"))\n",
        "\n",
        "print(sentence)\n"
      ],
      "execution_count": null,
      "outputs": [
        {
          "output_type": "stream",
          "text": [
            "I am 40 years old. \n",
            "\t I have two children.\n",
            "\t\t Data Science is my IT domain.\n"
          ],
          "name": "stdout"
        }
      ]
    },
    {
      "cell_type": "code",
      "metadata": {
        "id": "F7VQTYCniaKj"
      },
      "source": [
        "escapes = [\"\\n\\t\", (\"\\t\", \"\\t\\t\"), [\"\\n\", \"\\n\\t\\t\"]]"
      ],
      "execution_count": null,
      "outputs": []
    },
    {
      "cell_type": "code",
      "metadata": {
        "colab": {
          "base_uri": "https://localhost:8080/"
        },
        "id": "9hfP3CnriacG",
        "outputId": "c463be47-23f4-4c62-a175-4485c2946b16"
      },
      "source": [
        "month = \"{}February{}\".format(\"\\t\\t\")()\n",
        "\n",
        "print(month)"
      ],
      "execution_count": null,
      "outputs": [
        {
          "output_type": "stream",
          "text": [
            "\t\tFebruary\n"
          ],
          "name": "stdout"
        }
      ]
    },
    {
      "cell_type": "code",
      "metadata": {
        "id": "0a9vl1OuiaqO"
      },
      "source": [
        ""
      ],
      "execution_count": null,
      "outputs": []
    },
    {
      "cell_type": "code",
      "metadata": {
        "id": "vLv51MBNgbnt"
      },
      "source": [
        ""
      ],
      "execution_count": null,
      "outputs": []
    },
    {
      "cell_type": "code",
      "metadata": {
        "id": "Vxq-aSnUgdF8"
      },
      "source": [
        ""
      ],
      "execution_count": null,
      "outputs": []
    },
    {
      "cell_type": "code",
      "metadata": {
        "id": "ngRpjtmAgdXK"
      },
      "source": [
        ""
      ],
      "execution_count": null,
      "outputs": []
    },
    {
      "cell_type": "code",
      "metadata": {
        "id": "VnhYU1T0glYb"
      },
      "source": [
        ""
      ],
      "execution_count": null,
      "outputs": []
    },
    {
      "cell_type": "code",
      "metadata": {
        "id": "SriVLQqdgmAu"
      },
      "source": [
        ""
      ],
      "execution_count": null,
      "outputs": []
    },
    {
      "cell_type": "code",
      "metadata": {
        "id": "BkwmeztNgmas"
      },
      "source": [
        ""
      ],
      "execution_count": null,
      "outputs": []
    },
    {
      "cell_type": "code",
      "metadata": {
        "id": "Mi0KoZoYgmu4"
      },
      "source": [
        ""
      ],
      "execution_count": null,
      "outputs": []
    },
    {
      "cell_type": "code",
      "metadata": {
        "id": "mt7AriFZgqq5"
      },
      "source": [
        ""
      ],
      "execution_count": null,
      "outputs": []
    }
  ]
}