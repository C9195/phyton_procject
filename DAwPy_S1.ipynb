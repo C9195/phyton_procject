{
  "nbformat": 4,
  "nbformat_minor": 5,
  "metadata": {
    "kernelspec": {
      "display_name": "Python 3",
      "language": "python",
      "name": "python3"
    },
    "language_info": {
      "codemirror_mode": {
        "name": "ipython",
        "version": 3
      },
      "file_extension": ".py",
      "mimetype": "text/x-python",
      "name": "python",
      "nbconvert_exporter": "python",
      "pygments_lexer": "ipython3",
      "version": "3.8.5"
    },
    "colab": {
      "name": "DAwPy-S1.ipynb",
      "provenance": [],
      "include_colab_link": true
    }
  },
  "cells": [
    {
      "cell_type": "markdown",
      "metadata": {
        "id": "view-in-github",
        "colab_type": "text"
      },
      "source": [
        "<a href=\"https://colab.research.google.com/github/ZeynepAkkus/phyton_project/blob/main/DAwPy_S1.ipynb\" target=\"_parent\"><img src=\"https://colab.research.google.com/assets/colab-badge.svg\" alt=\"Open In Colab\"/></a>"
      ]
    },
    {
      "cell_type": "markdown",
      "metadata": {
        "id": "future-solomon"
      },
      "source": [
        "<h1><span style=\"text-align: center;\">NumPy Lesson, Session - 1</span><h1>"
      ],
      "id": "future-solomon"
    },
    {
      "cell_type": "code",
      "metadata": {
        "id": "former-appearance",
        "outputId": "9dec9519-3050-4870-f501-353c1b6a245a"
      },
      "source": [
        "!pip install numpy"
      ],
      "id": "former-appearance",
      "execution_count": null,
      "outputs": [
        {
          "name": "stdout",
          "output_type": "stream",
          "text": [
            "Requirement already satisfied: numpy in c:\\users\\c\\anaconda3\\lib\\site-packages (1.19.1)\n"
          ]
        }
      ]
    },
    {
      "cell_type": "code",
      "metadata": {
        "id": "isolated-capability",
        "outputId": "12e11e2f-168b-413e-f3e9-20cc3df383c2"
      },
      "source": [
        "import numpy as np\n",
        "np.__version__"
      ],
      "id": "isolated-capability",
      "execution_count": null,
      "outputs": [
        {
          "data": {
            "text/plain": [
              "'1.19.1'"
            ]
          },
          "execution_count": 4,
          "metadata": {},
          "output_type": "execute_result"
        }
      ]
    },
    {
      "cell_type": "markdown",
      "metadata": {
        "id": "identical-friend"
      },
      "source": [
        "https://www.mybluelinux.com/numpy-illustrated-the-visual-guide-to-numpy/"
      ],
      "id": "identical-friend"
    },
    {
      "cell_type": "code",
      "metadata": {
        "id": "limited-listing",
        "outputId": "25ec9f03-db35-43c8-dbaa-f32476607ee3"
      },
      "source": [
        "my_list = [1,3.2,True,\"Ahmet\",5]\n",
        "my_list"
      ],
      "id": "limited-listing",
      "execution_count": null,
      "outputs": [
        {
          "data": {
            "text/plain": [
              "[1, 3.2, True, 'Ahmet', 5]"
            ]
          },
          "execution_count": 37,
          "metadata": {},
          "output_type": "execute_result"
        }
      ]
    },
    {
      "cell_type": "code",
      "metadata": {
        "id": "approximate-speed",
        "outputId": "cc1254e4-0ca0-4c37-dc40-4c9543941bfb"
      },
      "source": [
        "type(my_list)"
      ],
      "id": "approximate-speed",
      "execution_count": null,
      "outputs": [
        {
          "data": {
            "text/plain": [
              "list"
            ]
          },
          "execution_count": 6,
          "metadata": {},
          "output_type": "execute_result"
        }
      ]
    },
    {
      "cell_type": "code",
      "metadata": {
        "id": "thorough-complaint",
        "outputId": "c61e98e9-e466-41a4-9c06-a7f60bf05d43"
      },
      "source": [
        "my_array_list = np.array(my_list)\n",
        "my_array = np.array([6,7,8,9,0])\n",
        "my_array"
      ],
      "id": "thorough-complaint",
      "execution_count": null,
      "outputs": [
        {
          "data": {
            "text/plain": [
              "array([6, 7, 8, 9, 0])"
            ]
          },
          "execution_count": 7,
          "metadata": {},
          "output_type": "execute_result"
        }
      ]
    },
    {
      "cell_type": "code",
      "metadata": {
        "id": "vital-armstrong",
        "outputId": "584193c0-1562-4364-cab4-af7193f1059c"
      },
      "source": [
        "type(my_array)"
      ],
      "id": "vital-armstrong",
      "execution_count": null,
      "outputs": [
        {
          "data": {
            "text/plain": [
              "numpy.ndarray"
            ]
          },
          "execution_count": 8,
          "metadata": {},
          "output_type": "execute_result"
        }
      ]
    },
    {
      "cell_type": "code",
      "metadata": {
        "id": "above-wealth",
        "outputId": "483a47ca-b277-4693-9828-9fd91f56d31d"
      },
      "source": [
        "a = [1,2,3,4]\n",
        "b = [5,6,7,8]\n",
        "AsumB=[]\n",
        "for i in range(len(a)):\n",
        "    AsumB.append( a[i]+b[i])\n",
        "    \n",
        "AsumB"
      ],
      "id": "above-wealth",
      "execution_count": null,
      "outputs": [
        {
          "data": {
            "text/plain": [
              "[6, 8, 10, 12]"
            ]
          },
          "execution_count": 13,
          "metadata": {},
          "output_type": "execute_result"
        }
      ]
    },
    {
      "cell_type": "code",
      "metadata": {
        "id": "black-accounting",
        "outputId": "b0e28562-7b79-46d3-e306-c964107d6156"
      },
      "source": [
        "a = np.array([1,2,3,4])\n",
        "b = np.array([5,6,7,8])\n",
        "\n",
        "a+b"
      ],
      "id": "black-accounting",
      "execution_count": null,
      "outputs": [
        {
          "data": {
            "text/plain": [
              "array([ 6,  8, 10, 12])"
            ]
          },
          "execution_count": 14,
          "metadata": {},
          "output_type": "execute_result"
        }
      ]
    },
    {
      "cell_type": "code",
      "metadata": {
        "id": "exciting-terrain",
        "outputId": "53a3e7d5-e00e-489a-d158-1754c8a0b6bf"
      },
      "source": [
        "a*b"
      ],
      "id": "exciting-terrain",
      "execution_count": null,
      "outputs": [
        {
          "data": {
            "text/plain": [
              "array([ 5, 12, 21, 32])"
            ]
          },
          "execution_count": 15,
          "metadata": {},
          "output_type": "execute_result"
        }
      ]
    },
    {
      "cell_type": "code",
      "metadata": {
        "id": "vanilla-fancy",
        "outputId": "af574ead-b9ae-42c7-abf2-0fc50d5b8fcc"
      },
      "source": [
        "a.size"
      ],
      "id": "vanilla-fancy",
      "execution_count": null,
      "outputs": [
        {
          "data": {
            "text/plain": [
              "4"
            ]
          },
          "execution_count": 16,
          "metadata": {},
          "output_type": "execute_result"
        }
      ]
    },
    {
      "cell_type": "code",
      "metadata": {
        "id": "patent-missouri",
        "outputId": "6d370872-d8e0-4be3-ba6b-40c81fd4f8c1"
      },
      "source": [
        "a.shape"
      ],
      "id": "patent-missouri",
      "execution_count": null,
      "outputs": [
        {
          "data": {
            "text/plain": [
              "(4,)"
            ]
          },
          "execution_count": 17,
          "metadata": {},
          "output_type": "execute_result"
        }
      ]
    },
    {
      "cell_type": "code",
      "metadata": {
        "id": "cheap-psychology",
        "outputId": "42fc3a2d-9ed3-4cda-8ec7-a86ea89d1b63"
      },
      "source": [
        "a.ndim"
      ],
      "id": "cheap-psychology",
      "execution_count": null,
      "outputs": [
        {
          "data": {
            "text/plain": [
              "1"
            ]
          },
          "execution_count": 18,
          "metadata": {},
          "output_type": "execute_result"
        }
      ]
    },
    {
      "cell_type": "code",
      "metadata": {
        "id": "accessory-glossary",
        "outputId": "a35ead29-ddd5-4c3a-e166-0cab803ab988"
      },
      "source": [
        "a.dtype"
      ],
      "id": "accessory-glossary",
      "execution_count": null,
      "outputs": [
        {
          "data": {
            "text/plain": [
              "dtype('int32')"
            ]
          },
          "execution_count": 21,
          "metadata": {},
          "output_type": "execute_result"
        }
      ]
    },
    {
      "cell_type": "code",
      "metadata": {
        "id": "billion-jesus",
        "outputId": "7234883c-66f1-42c7-907b-f263ac576616"
      },
      "source": [
        "a.itemsize"
      ],
      "id": "billion-jesus",
      "execution_count": null,
      "outputs": [
        {
          "data": {
            "text/plain": [
              "4"
            ]
          },
          "execution_count": 22,
          "metadata": {},
          "output_type": "execute_result"
        }
      ]
    },
    {
      "cell_type": "code",
      "metadata": {
        "id": "major-palestinian"
      },
      "source": [
        "a1 = np.array([[1,2,3,4],[1,2,3,4],[2,3,4,5]])\n",
        "b1 = np.array([[2,3,4,5],[1,2,4,5],[1,2,3,4]])"
      ],
      "id": "major-palestinian",
      "execution_count": null,
      "outputs": []
    },
    {
      "cell_type": "code",
      "metadata": {
        "id": "angry-property",
        "outputId": "7c6a4d96-cca4-4c78-90c1-051b76bc8da3"
      },
      "source": [
        "a1.size"
      ],
      "id": "angry-property",
      "execution_count": null,
      "outputs": [
        {
          "data": {
            "text/plain": [
              "12"
            ]
          },
          "execution_count": 24,
          "metadata": {},
          "output_type": "execute_result"
        }
      ]
    },
    {
      "cell_type": "code",
      "metadata": {
        "id": "dominant-magnet",
        "outputId": "cfa3a5a3-a7cf-4a35-f079-e6008af6afea"
      },
      "source": [
        "a1"
      ],
      "id": "dominant-magnet",
      "execution_count": null,
      "outputs": [
        {
          "data": {
            "text/plain": [
              "array([[1, 2, 3, 4],\n",
              "       [1, 2, 3, 4],\n",
              "       [2, 3, 4, 5]])"
            ]
          },
          "execution_count": 25,
          "metadata": {},
          "output_type": "execute_result"
        }
      ]
    },
    {
      "cell_type": "code",
      "metadata": {
        "id": "requested-motorcycle",
        "outputId": "cd957515-7ca1-4066-822c-d1b1272f0733"
      },
      "source": [
        "b1"
      ],
      "id": "requested-motorcycle",
      "execution_count": null,
      "outputs": [
        {
          "data": {
            "text/plain": [
              "array([[2, 3, 4, 5],\n",
              "       [1, 2, 4, 5],\n",
              "       [1, 2, 3, 4]])"
            ]
          },
          "execution_count": 30,
          "metadata": {},
          "output_type": "execute_result"
        }
      ]
    },
    {
      "cell_type": "code",
      "metadata": {
        "id": "satellite-reality",
        "outputId": "1a05e7a8-7316-40ca-f747-f2ae6203df67"
      },
      "source": [
        "a1.shape"
      ],
      "id": "satellite-reality",
      "execution_count": null,
      "outputs": [
        {
          "data": {
            "text/plain": [
              "(3, 4)"
            ]
          },
          "execution_count": 26,
          "metadata": {},
          "output_type": "execute_result"
        }
      ]
    },
    {
      "cell_type": "code",
      "metadata": {
        "id": "wrong-generic",
        "outputId": "499af47f-a137-42ed-8bda-6a52af10f3eb"
      },
      "source": [
        "a1.itemsize"
      ],
      "id": "wrong-generic",
      "execution_count": null,
      "outputs": [
        {
          "data": {
            "text/plain": [
              "4"
            ]
          },
          "execution_count": 27,
          "metadata": {},
          "output_type": "execute_result"
        }
      ]
    },
    {
      "cell_type": "code",
      "metadata": {
        "id": "careful-humor",
        "outputId": "557610f8-9c2a-4baf-cfe6-bbd262e35c95"
      },
      "source": [
        "a1*b1"
      ],
      "id": "careful-humor",
      "execution_count": null,
      "outputs": [
        {
          "data": {
            "text/plain": [
              "array([[ 2,  6, 12, 20],\n",
              "       [ 1,  4, 12, 20],\n",
              "       [ 2,  6, 12, 20]])"
            ]
          },
          "execution_count": 29,
          "metadata": {},
          "output_type": "execute_result"
        }
      ]
    },
    {
      "cell_type": "code",
      "metadata": {
        "id": "architectural-calculator",
        "outputId": "1083f49a-0fbc-4d66-d31e-9f74881bfa22"
      },
      "source": [
        "a3 = np.array([[[1,2,3,4],[1,2,3,4],[2,3,4,5]], [[1,2,3,4],[1,2,3,4],[2,3,4,5]]])\n",
        "a3"
      ],
      "id": "architectural-calculator",
      "execution_count": null,
      "outputs": [
        {
          "data": {
            "text/plain": [
              "array([[[1, 2, 3, 4],\n",
              "        [1, 2, 3, 4],\n",
              "        [2, 3, 4, 5]],\n",
              "\n",
              "       [[1, 2, 3, 4],\n",
              "        [1, 2, 3, 4],\n",
              "        [2, 3, 4, 5]]])"
            ]
          },
          "execution_count": 31,
          "metadata": {},
          "output_type": "execute_result"
        }
      ]
    },
    {
      "cell_type": "code",
      "metadata": {
        "id": "latin-singing",
        "outputId": "c8fbdd34-32c9-4c66-c6f5-5c38cebecd4f"
      },
      "source": [
        "a3.shape"
      ],
      "id": "latin-singing",
      "execution_count": null,
      "outputs": [
        {
          "data": {
            "text/plain": [
              "(2, 3, 4)"
            ]
          },
          "execution_count": 32,
          "metadata": {},
          "output_type": "execute_result"
        }
      ]
    },
    {
      "cell_type": "code",
      "metadata": {
        "id": "actual-belief",
        "outputId": "7beddaa1-3f21-4b50-a496-ff0c5bc9fe57"
      },
      "source": [
        "np.arange(-4,6)"
      ],
      "id": "actual-belief",
      "execution_count": null,
      "outputs": [
        {
          "data": {
            "text/plain": [
              "array([-4, -3, -2, -1,  0,  1,  2,  3,  4,  5])"
            ]
          },
          "execution_count": 34,
          "metadata": {},
          "output_type": "execute_result"
        }
      ]
    },
    {
      "cell_type": "code",
      "metadata": {
        "id": "chief-lambda",
        "outputId": "d0d9b082-4049-4cbf-f9c5-e2707c77b1ea"
      },
      "source": [
        "np.arange(-4,6,3)"
      ],
      "id": "chief-lambda",
      "execution_count": null,
      "outputs": [
        {
          "data": {
            "text/plain": [
              "array([-4, -1,  2,  5])"
            ]
          },
          "execution_count": 36,
          "metadata": {},
          "output_type": "execute_result"
        }
      ]
    },
    {
      "cell_type": "code",
      "metadata": {
        "id": "occupational-minority",
        "outputId": "50c82e9a-9ab8-47f9-fe32-333e8a066078"
      },
      "source": [
        "arr = np.arange(-4,6,0.5)\n",
        "arr"
      ],
      "id": "occupational-minority",
      "execution_count": null,
      "outputs": [
        {
          "data": {
            "text/plain": [
              "array([-4. , -3.5, -3. , -2.5, -2. , -1.5, -1. , -0.5,  0. ,  0.5,  1. ,\n",
              "        1.5,  2. ,  2.5,  3. ,  3.5,  4. ,  4.5,  5. ,  5.5])"
            ]
          },
          "execution_count": 39,
          "metadata": {},
          "output_type": "execute_result"
        }
      ]
    },
    {
      "cell_type": "code",
      "metadata": {
        "id": "accepted-charge",
        "outputId": "6d409b7e-6a10-456a-a3cf-29ca5269c572"
      },
      "source": [
        "np.linspace(1,10)"
      ],
      "id": "accepted-charge",
      "execution_count": null,
      "outputs": [
        {
          "data": {
            "text/plain": [
              "array([ 1.        ,  1.18367347,  1.36734694,  1.55102041,  1.73469388,\n",
              "        1.91836735,  2.10204082,  2.28571429,  2.46938776,  2.65306122,\n",
              "        2.83673469,  3.02040816,  3.20408163,  3.3877551 ,  3.57142857,\n",
              "        3.75510204,  3.93877551,  4.12244898,  4.30612245,  4.48979592,\n",
              "        4.67346939,  4.85714286,  5.04081633,  5.2244898 ,  5.40816327,\n",
              "        5.59183673,  5.7755102 ,  5.95918367,  6.14285714,  6.32653061,\n",
              "        6.51020408,  6.69387755,  6.87755102,  7.06122449,  7.24489796,\n",
              "        7.42857143,  7.6122449 ,  7.79591837,  7.97959184,  8.16326531,\n",
              "        8.34693878,  8.53061224,  8.71428571,  8.89795918,  9.08163265,\n",
              "        9.26530612,  9.44897959,  9.63265306,  9.81632653, 10.        ])"
            ]
          },
          "execution_count": 47,
          "metadata": {},
          "output_type": "execute_result"
        }
      ]
    },
    {
      "cell_type": "code",
      "metadata": {
        "id": "physical-bhutan",
        "outputId": "ea12d787-1932-4c3f-f882-042a03227578"
      },
      "source": [
        "np.linspace(25,45,5,dtype=int)"
      ],
      "id": "physical-bhutan",
      "execution_count": null,
      "outputs": [
        {
          "data": {
            "text/plain": [
              "array([25, 30, 35, 40, 45])"
            ]
          },
          "execution_count": 55,
          "metadata": {},
          "output_type": "execute_result"
        }
      ]
    },
    {
      "cell_type": "code",
      "metadata": {
        "id": "broken-valve",
        "outputId": "5b58b801-5c48-4c25-9226-d50405bb8697"
      },
      "source": [
        "np.zeros(5)"
      ],
      "id": "broken-valve",
      "execution_count": null,
      "outputs": [
        {
          "data": {
            "text/plain": [
              "array([0., 0., 0., 0., 0.])"
            ]
          },
          "execution_count": 56,
          "metadata": {},
          "output_type": "execute_result"
        }
      ]
    },
    {
      "cell_type": "code",
      "metadata": {
        "id": "indoor-chase",
        "outputId": "03a125bb-84c7-480d-f595-d6f0bb719483"
      },
      "source": [
        "np.zeros((5,3) ,dtype=int)"
      ],
      "id": "indoor-chase",
      "execution_count": null,
      "outputs": [
        {
          "data": {
            "text/plain": [
              "array([[0, 0, 0],\n",
              "       [0, 0, 0],\n",
              "       [0, 0, 0],\n",
              "       [0, 0, 0],\n",
              "       [0, 0, 0]])"
            ]
          },
          "execution_count": 63,
          "metadata": {},
          "output_type": "execute_result"
        }
      ]
    },
    {
      "cell_type": "code",
      "metadata": {
        "id": "discrete-submission",
        "outputId": "a7c833bc-b223-46c7-8a85-4f52fa2b2592"
      },
      "source": [
        "np.ones((2,4))"
      ],
      "id": "discrete-submission",
      "execution_count": null,
      "outputs": [
        {
          "data": {
            "text/plain": [
              "array([[1., 1., 1., 1.],\n",
              "       [1., 1., 1., 1.]])"
            ]
          },
          "execution_count": 65,
          "metadata": {},
          "output_type": "execute_result"
        }
      ]
    },
    {
      "cell_type": "code",
      "metadata": {
        "id": "western-flood",
        "outputId": "c7c6c381-a30f-4bd4-dd29-af5e37c341f6"
      },
      "source": [
        "np.ones((2,4))*5"
      ],
      "id": "western-flood",
      "execution_count": null,
      "outputs": [
        {
          "data": {
            "text/plain": [
              "array([[5., 5., 5., 5.],\n",
              "       [5., 5., 5., 5.]])"
            ]
          },
          "execution_count": 66,
          "metadata": {},
          "output_type": "execute_result"
        }
      ]
    },
    {
      "cell_type": "code",
      "metadata": {
        "id": "herbal-breeding",
        "outputId": "d7bcab43-cdd3-43c7-e2d2-d1f9cf4a010e"
      },
      "source": [
        "np.ones((2,4))+7"
      ],
      "id": "herbal-breeding",
      "execution_count": null,
      "outputs": [
        {
          "data": {
            "text/plain": [
              "array([[8., 8., 8., 8.],\n",
              "       [8., 8., 8., 8.]])"
            ]
          },
          "execution_count": 67,
          "metadata": {},
          "output_type": "execute_result"
        }
      ]
    },
    {
      "cell_type": "code",
      "metadata": {
        "id": "cheap-matter",
        "outputId": "92fc0dee-a587-4b88-9e34-e80a42ae5f1a"
      },
      "source": [
        "np.ones((2,4))/0"
      ],
      "id": "cheap-matter",
      "execution_count": null,
      "outputs": [
        {
          "name": "stderr",
          "output_type": "stream",
          "text": [
            "<ipython-input-68-ee249315f813>:1: RuntimeWarning: divide by zero encountered in true_divide\n",
            "  np.ones((2,4))/0\n"
          ]
        },
        {
          "data": {
            "text/plain": [
              "array([[inf, inf, inf, inf],\n",
              "       [inf, inf, inf, inf]])"
            ]
          },
          "execution_count": 68,
          "metadata": {},
          "output_type": "execute_result"
        }
      ]
    },
    {
      "cell_type": "code",
      "metadata": {
        "id": "mechanical-refrigerator",
        "outputId": "cd387cc3-fb52-4a21-f09a-3d6141646c16"
      },
      "source": [
        "np.full(4,\"sonsuz\")"
      ],
      "id": "mechanical-refrigerator",
      "execution_count": null,
      "outputs": [
        {
          "data": {
            "text/plain": [
              "array(['sonsuz', 'sonsuz', 'sonsuz', 'sonsuz'], dtype='<U6')"
            ]
          },
          "execution_count": 69,
          "metadata": {},
          "output_type": "execute_result"
        }
      ]
    },
    {
      "cell_type": "code",
      "metadata": {
        "id": "impressed-chamber",
        "outputId": "9a488f0a-1e97-4c57-ea57-057e60f5ff4f"
      },
      "source": [
        "np.full((3,5,5),1)"
      ],
      "id": "impressed-chamber",
      "execution_count": null,
      "outputs": [
        {
          "data": {
            "text/plain": [
              "array([[[1, 1, 1, 1, 1],\n",
              "        [1, 1, 1, 1, 1],\n",
              "        [1, 1, 1, 1, 1],\n",
              "        [1, 1, 1, 1, 1],\n",
              "        [1, 1, 1, 1, 1]],\n",
              "\n",
              "       [[1, 1, 1, 1, 1],\n",
              "        [1, 1, 1, 1, 1],\n",
              "        [1, 1, 1, 1, 1],\n",
              "        [1, 1, 1, 1, 1],\n",
              "        [1, 1, 1, 1, 1]],\n",
              "\n",
              "       [[1, 1, 1, 1, 1],\n",
              "        [1, 1, 1, 1, 1],\n",
              "        [1, 1, 1, 1, 1],\n",
              "        [1, 1, 1, 1, 1],\n",
              "        [1, 1, 1, 1, 1]]])"
            ]
          },
          "execution_count": 104,
          "metadata": {},
          "output_type": "execute_result"
        }
      ]
    },
    {
      "cell_type": "code",
      "metadata": {
        "id": "offensive-arthritis"
      },
      "source": [
        "import matplotlib.pyplot as plt\n",
        "%matplotlib inline"
      ],
      "id": "offensive-arthritis",
      "execution_count": null,
      "outputs": []
    },
    {
      "cell_type": "code",
      "metadata": {
        "id": "trained-vegetable",
        "outputId": "738cd409-4de2-40fc-94f3-9b85abb3c9f7"
      },
      "source": [
        "a = np.full((32,32,3),255,dtype=int)\n",
        "a[:,:,0] = 255      # red\n",
        "a[:,:,1] = 255    # green\n",
        "a[:,:,2] = 0      # blue\n",
        "plt.imshow(a)"
      ],
      "id": "trained-vegetable",
      "execution_count": null,
      "outputs": [
        {
          "data": {
            "text/plain": [
              "<matplotlib.image.AxesImage at 0x17b1048a7f0>"
            ]
          },
          "execution_count": 81,
          "metadata": {},
          "output_type": "execute_result"
        },
        {
          "data": {
            "image/png": "[encoded data removed]",
            "text/plain": [
              "<Figure size 432x288 with 1 Axes>"
            ]
          },
          "metadata": {
            "needs_background": "light"
          },
          "output_type": "display_data"
        }
      ]
    },
    {
      "cell_type": "code",
      "metadata": {
        "id": "orange-latitude",
        "outputId": "469b35c8-2104-41c4-f270-38ab43ef79ef"
      },
      "source": [
        "b = np.arange(36)\n",
        "b"
      ],
      "id": "orange-latitude",
      "execution_count": null,
      "outputs": [
        {
          "data": {
            "text/plain": [
              "array([ 0,  1,  2,  3,  4,  5,  6,  7,  8,  9, 10, 11, 12, 13, 14, 15, 16,\n",
              "       17, 18, 19, 20, 21, 22, 23, 24, 25, 26, 27, 28, 29, 30, 31, 32, 33,\n",
              "       34, 35])"
            ]
          },
          "execution_count": 84,
          "metadata": {},
          "output_type": "execute_result"
        }
      ]
    },
    {
      "cell_type": "code",
      "metadata": {
        "id": "cognitive-western",
        "outputId": "7a75a271-1c4d-4375-a063-bd3f8c49da17"
      },
      "source": [
        "len(b)"
      ],
      "id": "cognitive-western",
      "execution_count": null,
      "outputs": [
        {
          "data": {
            "text/plain": [
              "36"
            ]
          },
          "execution_count": 91,
          "metadata": {},
          "output_type": "execute_result"
        }
      ]
    },
    {
      "cell_type": "code",
      "metadata": {
        "id": "worse-estonia",
        "outputId": "bafeb17b-a2d4-4b33-8e51-ef16ed5250e3"
      },
      "source": [
        "b.reshape(1,36)"
      ],
      "id": "worse-estonia",
      "execution_count": null,
      "outputs": [
        {
          "data": {
            "text/plain": [
              "array([[ 0,  1,  2,  3,  4,  5,  6,  7,  8,  9, 10, 11, 12, 13, 14, 15,\n",
              "        16, 17, 18, 19, 20, 21, 22, 23, 24, 25, 26, 27, 28, 29, 30, 31,\n",
              "        32, 33, 34, 35]])"
            ]
          },
          "execution_count": 94,
          "metadata": {},
          "output_type": "execute_result"
        }
      ]
    },
    {
      "cell_type": "code",
      "metadata": {
        "id": "tough-confidentiality",
        "outputId": "6afd0737-4ac3-4a7d-a85d-d7d30e8444ab"
      },
      "source": [
        "c = np.array([20, 21, 22, 23, 24, 25, 26, 27, 28, 29, 30, 31, 32, 33, 34, 35,0,  1,  2,  3,  4, 5, 6, 7])\n",
        "c"
      ],
      "id": "tough-confidentiality",
      "execution_count": null,
      "outputs": [
        {
          "data": {
            "text/plain": [
              "array([20, 21, 22, 23, 24, 25, 26, 27, 28, 29, 30, 31, 32, 33, 34, 35,  0,\n",
              "        1,  2,  3,  4,  5,  6,  7])"
            ]
          },
          "execution_count": 95,
          "metadata": {},
          "output_type": "execute_result"
        }
      ]
    },
    {
      "cell_type": "code",
      "metadata": {
        "id": "qualified-binary",
        "outputId": "81f88574-91ff-4963-fe04-13f80a79b671"
      },
      "source": [
        "c.max()"
      ],
      "id": "qualified-binary",
      "execution_count": null,
      "outputs": [
        {
          "data": {
            "text/plain": [
              "35"
            ]
          },
          "execution_count": 96,
          "metadata": {},
          "output_type": "execute_result"
        }
      ]
    },
    {
      "cell_type": "code",
      "metadata": {
        "id": "outer-installation",
        "outputId": "8c70b398-629d-4c52-ab8d-b8636d1d17aa"
      },
      "source": [
        "c.min()"
      ],
      "id": "outer-installation",
      "execution_count": null,
      "outputs": [
        {
          "data": {
            "text/plain": [
              "0"
            ]
          },
          "execution_count": 97,
          "metadata": {},
          "output_type": "execute_result"
        }
      ]
    },
    {
      "cell_type": "code",
      "metadata": {
        "id": "unnecessary-airport",
        "outputId": "d4b55bf9-c8bb-4c6c-e4bc-a99fe13ee164"
      },
      "source": [
        "c.argmax()"
      ],
      "id": "unnecessary-airport",
      "execution_count": null,
      "outputs": [
        {
          "data": {
            "text/plain": [
              "15"
            ]
          },
          "execution_count": 98,
          "metadata": {},
          "output_type": "execute_result"
        }
      ]
    },
    {
      "cell_type": "code",
      "metadata": {
        "id": "floral-turkey",
        "outputId": "2551efb4-27be-43a5-9901-b282c35467c1"
      },
      "source": [
        "c.argmin()"
      ],
      "id": "floral-turkey",
      "execution_count": null,
      "outputs": [
        {
          "data": {
            "text/plain": [
              "16"
            ]
          },
          "execution_count": 99,
          "metadata": {},
          "output_type": "execute_result"
        }
      ]
    },
    {
      "cell_type": "code",
      "metadata": {
        "id": "computational-proposal",
        "outputId": "865f665a-a0c7-4a8b-f997-e64d1dbe5f56"
      },
      "source": [
        "c.sum()"
      ],
      "id": "computational-proposal",
      "execution_count": null,
      "outputs": [
        {
          "data": {
            "text/plain": [
              "468"
            ]
          },
          "execution_count": 100,
          "metadata": {},
          "output_type": "execute_result"
        }
      ]
    },
    {
      "cell_type": "code",
      "metadata": {
        "id": "planned-canyon",
        "outputId": "834c6145-1744-4e29-c68a-44f31bf83c2e"
      },
      "source": [
        "c.size"
      ],
      "id": "planned-canyon",
      "execution_count": null,
      "outputs": [
        {
          "data": {
            "text/plain": [
              "24"
            ]
          },
          "execution_count": 103,
          "metadata": {},
          "output_type": "execute_result"
        }
      ]
    },
    {
      "cell_type": "code",
      "metadata": {
        "id": "checked-truth"
      },
      "source": [
        ""
      ],
      "id": "checked-truth",
      "execution_count": null,
      "outputs": []
    }
  ]
}