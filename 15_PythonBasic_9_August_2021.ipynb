{
  "nbformat": 4,
  "nbformat_minor": 0,
  "metadata": {
    "kernelspec": {
      "display_name": "Python 3",
      "language": "python",
      "name": "python3"
    },
    "language_info": {
      "codemirror_mode": {
        "name": "ipython",
        "version": 3
      },
      "file_extension": ".py",
      "mimetype": "text/x-python",
      "name": "python",
      "nbconvert_exporter": "python",
      "pygments_lexer": "ipython3",
      "version": "3.7.3"
    },
    "colab": {
      "name": "15_PythonBasic_9-August-2021.ipynb",
      "provenance": [],
      "include_colab_link": true
    }
  },
  "cells": [
    {
      "cell_type": "markdown",
      "metadata": {
        "id": "view-in-github",
        "colab_type": "text"
      },
      "source": [
        "<a href=\"https://colab.research.google.com/github/C9195/phyton_procject/blob/main/15_PythonBasic_9_August_2021.ipynb\" target=\"_parent\"><img src=\"https://colab.research.google.com/assets/colab-badge.svg\" alt=\"Open In Colab\"/></a>"
      ]
    },
    {
      "cell_type": "code",
      "metadata": {
        "id": "raMAlHn6s_vJ"
      },
      "source": [
        "def brothers(bro1, bro2, bro3):\n",
        "    print('Here are the names of brothers :')\n",
        "    print(bro1, bro2, bro3, sep='\\n')"
      ],
      "execution_count": null,
      "outputs": []
    },
    {
      "cell_type": "code",
      "metadata": {
        "id": "eQRyIGP2s_vb",
        "outputId": "7ffaf395-89d6-45f4-aeee-c6a4a2a20f6a"
      },
      "source": [
        "brothers(\"tom\", \"sue\", \"tim\")"
      ],
      "execution_count": null,
      "outputs": [
        {
          "output_type": "stream",
          "text": [
            "Here are the names of brothers :\n",
            "tom\n",
            "sue\n",
            "tim\n"
          ],
          "name": "stdout"
        }
      ]
    },
    {
      "cell_type": "code",
      "metadata": {
        "id": "QPQzbxN0s_vg"
      },
      "source": [
        "bros = [\"tom\", \"sue\", \"tim\"]"
      ],
      "execution_count": null,
      "outputs": []
    },
    {
      "cell_type": "code",
      "metadata": {
        "scrolled": true,
        "id": "-d7yn_bfs_vi",
        "outputId": "6afc3911-a8ff-489b-d3d1-2c245838bc73"
      },
      "source": [
        "brothers(*bros)"
      ],
      "execution_count": null,
      "outputs": [
        {
          "output_type": "stream",
          "text": [
            "Here are the names of brothers :\n",
            "tom\n",
            "sue\n",
            "tim\n"
          ],
          "name": "stdout"
        }
      ]
    },
    {
      "cell_type": "code",
      "metadata": {
        "id": "D6E2d71zs_vk"
      },
      "source": [
        "def mantık(kelime) :\n",
        "    return kelime.upper()"
      ],
      "execution_count": null,
      "outputs": []
    },
    {
      "cell_type": "code",
      "metadata": {
        "id": "rXqOxS30s_vo",
        "outputId": "9c14d96e-b4bb-4418-b64b-e062054ecf38"
      },
      "source": [
        "mantık(\"odunum\")"
      ],
      "execution_count": null,
      "outputs": [
        {
          "output_type": "execute_result",
          "data": {
            "text/plain": [
              "'ODUNUM'"
            ]
          },
          "metadata": {
            "tags": []
          },
          "execution_count": 7
        }
      ]
    },
    {
      "cell_type": "code",
      "metadata": {
        "id": "A5USYWW3s_vq",
        "outputId": "f9737cff-f431-4ac9-ae27-2b7c3261c827"
      },
      "source": [
        "print(mantık(\"odunum\"))"
      ],
      "execution_count": null,
      "outputs": [
        {
          "output_type": "stream",
          "text": [
            "ODUNUM\n"
          ],
          "name": "stdout"
        }
      ]
    },
    {
      "cell_type": "code",
      "metadata": {
        "id": "HqL_Mj0zs_vs",
        "outputId": "c6a8c869-e30a-4e16-d1ce-0f8c6a6cf6bf"
      },
      "source": [
        "\"hücre\""
      ],
      "execution_count": null,
      "outputs": [
        {
          "output_type": "execute_result",
          "data": {
            "text/plain": [
              "'hücre'"
            ]
          },
          "metadata": {
            "tags": []
          },
          "execution_count": 9
        }
      ]
    },
    {
      "cell_type": "code",
      "metadata": {
        "id": "lrbJkKp4s_vv"
      },
      "source": [
        "cümle = \"bazen ODUN olmak istemişimdir.\""
      ],
      "execution_count": null,
      "outputs": []
    },
    {
      "cell_type": "code",
      "metadata": {
        "id": "NJyvUJLYs_vw"
      },
      "source": [
        "filter( , cümle)"
      ],
      "execution_count": null,
      "outputs": []
    },
    {
      "cell_type": "code",
      "metadata": {
        "id": "7JW6elF6s_vy"
      },
      "source": [
        "def voweler(letter) :\n",
        "    vowels = [\"o\", \"e\", \"i\", \"u\", \"ı\", \"ü\", \"ö\", \"a\"]\n",
        "    \n",
        "    if letter.lower() in vowels :\n",
        "        return True    \n",
        "    else :\n",
        "        return False"
      ],
      "execution_count": null,
      "outputs": []
    },
    {
      "cell_type": "code",
      "metadata": {
        "id": "iETI2V5hs_v0"
      },
      "source": [
        "filtered_vowels = filter(voweler, cümle)"
      ],
      "execution_count": null,
      "outputs": []
    },
    {
      "cell_type": "code",
      "metadata": {
        "id": "A3SXU_rzs_v3",
        "outputId": "fc228fae-d6bc-404b-ace1-566caf2541e6"
      },
      "source": [
        "list(filtered_vowels)"
      ],
      "execution_count": null,
      "outputs": [
        {
          "output_type": "execute_result",
          "data": {
            "text/plain": [
              "['a', 'e', 'O', 'U', 'o', 'a', 'i', 'e', 'i', 'i', 'i']"
            ]
          },
          "metadata": {
            "tags": []
          },
          "execution_count": 15
        }
      ]
    },
    {
      "cell_type": "code",
      "metadata": {
        "id": "GAGDrcLis_v5"
      },
      "source": [
        "def önceki(** parametre) :\n",
        "    for x, y in parametre.items() :\n",
        "        print(x, y)"
      ],
      "execution_count": null,
      "outputs": []
    },
    {
      "cell_type": "code",
      "metadata": {
        "id": "plhuO54Gs_v7",
        "outputId": "c4feec81-323a-4e1b-edcf-f4e7b91acd74"
      },
      "source": [
        "önceki(a = \"ahmet\", b = \"mehmet\", c = \"selamet\")"
      ],
      "execution_count": null,
      "outputs": [
        {
          "output_type": "stream",
          "text": [
            "a ahmet\n",
            "b mehmet\n",
            "c selamet\n"
          ],
          "name": "stdout"
        }
      ]
    },
    {
      "cell_type": "code",
      "metadata": {
        "id": "bLkG0Szjs_v8"
      },
      "source": [
        "def gene(x = \"Solomon\", y = \"David\") :\n",
        "    print(x, \"belongs to Generation X\")\n",
        "    print(y, \"belongs to Generation Y\")"
      ],
      "execution_count": null,
      "outputs": []
    },
    {
      "cell_type": "code",
      "metadata": {
        "id": "xLyJsLvks_v9"
      },
      "source": [
        "dict_gene = {\"y\" : \"Marry\", \"x\" : \"Fred\"}"
      ],
      "execution_count": null,
      "outputs": []
    },
    {
      "cell_type": "code",
      "metadata": {
        "id": "8i3b0Vsqs_v-",
        "outputId": "e3bb45df-6ccd-40b4-f6fe-c9fd7e424e29"
      },
      "source": [
        "gene(** dict_gene)"
      ],
      "execution_count": null,
      "outputs": [
        {
          "output_type": "stream",
          "text": [
            "Fred belongs to Generation X\n",
            "Marry belongs to Generation Y\n"
          ],
          "name": "stdout"
        }
      ]
    },
    {
      "cell_type": "code",
      "metadata": {
        "id": "9KBZqRags_v_",
        "outputId": "4a111316-a4ab-4091-e2e8-d027b3623e8e"
      },
      "source": [
        "gene()"
      ],
      "execution_count": null,
      "outputs": [
        {
          "output_type": "stream",
          "text": [
            "Solomon belongs to Generation X\n",
            "David belongs to Generation Y\n"
          ],
          "name": "stdout"
        }
      ]
    },
    {
      "cell_type": "code",
      "metadata": {
        "id": "QjSCZBoNs_wB"
      },
      "source": [
        "def gene(x, y) :\n",
        "    print(x, \"belongs to Generation X\")\n",
        "    print(y, \"belongs to Generation Y\")"
      ],
      "execution_count": null,
      "outputs": []
    },
    {
      "cell_type": "code",
      "metadata": {
        "id": "G8N_o09Us_wC",
        "outputId": "bb14207a-afde-460c-c8fd-20cf19ae199d"
      },
      "source": [
        "dict_gene"
      ],
      "execution_count": null,
      "outputs": [
        {
          "output_type": "execute_result",
          "data": {
            "text/plain": [
              "{'y': 'Marry', 'x': 'Fred'}"
            ]
          },
          "metadata": {
            "tags": []
          },
          "execution_count": 26
        }
      ]
    },
    {
      "cell_type": "code",
      "metadata": {
        "id": "gDxg2olWs_wE",
        "outputId": "3607d69f-a5d5-4585-e984-edd4f32d3d70"
      },
      "source": [
        "gene(**dict_gene)"
      ],
      "execution_count": null,
      "outputs": [
        {
          "output_type": "stream",
          "text": [
            "Fred belongs to Generation X\n",
            "Marry belongs to Generation Y\n"
          ],
          "name": "stdout"
        }
      ]
    },
    {
      "cell_type": "markdown",
      "metadata": {
        "id": "w9vMHBYHs_wF"
      },
      "source": [
        "<img src=\"https://i.pinimg.com/originals/e6/87/61/e687614048a36165dd49b6fb18a12b5d.png\" height = \"100\" width =\"200\" alt = \"izdivac\">"
      ]
    },
    {
      "cell_type": "code",
      "metadata": {
        "id": "G8tTVTA1s_wI"
      },
      "source": [
        "dict_couple = {\"bride\" : [\"mary\", \"bella\", \"linda\", \"emma\"],\n",
        "               \"groom\" : [\"jack\", \"robert\", \"eric\", \"adam\"]}"
      ],
      "execution_count": null,
      "outputs": []
    },
    {
      "cell_type": "code",
      "metadata": {
        "id": "bhUsY30qs_wK"
      },
      "source": [
        "def muruvvet(bride, groom) :\n",
        "    couple_list = []\n",
        "    for x in zip(bride, groom):\n",
        "        couple_list.append(x)\n",
        "    return couple_list"
      ],
      "execution_count": null,
      "outputs": []
    },
    {
      "cell_type": "code",
      "metadata": {
        "id": "sFprolkds_wL",
        "outputId": "d9f914cf-9b94-4a2f-c73f-d5c5b3763c9d"
      },
      "source": [
        "muruvvet(** dict_couple)"
      ],
      "execution_count": null,
      "outputs": [
        {
          "output_type": "execute_result",
          "data": {
            "text/plain": [
              "[('mary', 'jack'), ('bella', 'robert'), ('linda', 'eric'), ('emma', 'adam')]"
            ]
          },
          "metadata": {
            "tags": []
          },
          "execution_count": 29
        }
      ]
    },
    {
      "cell_type": "code",
      "metadata": {
        "id": "Ic7semMls_wM"
      },
      "source": [
        "def muruvvet_2(bride, groom) :\n",
        "    return [x for x in zip(bride, groom)]"
      ],
      "execution_count": null,
      "outputs": []
    },
    {
      "cell_type": "code",
      "metadata": {
        "id": "wjlU2ktfs_wN"
      },
      "source": [
        "friends = {\"alfred\" : 44, \"thomas\" : 56, \"emily\" : 22}"
      ],
      "execution_count": null,
      "outputs": []
    },
    {
      "cell_type": "code",
      "metadata": {
        "id": "RPyJkxxMs_wN"
      },
      "source": [
        "def meaner(alfred, thomas, emily) :\n",
        "    avg = (alfred + thomas + emily)/3\n",
        "    print(\"the average of their ages is : \", avg)"
      ],
      "execution_count": null,
      "outputs": []
    },
    {
      "cell_type": "code",
      "metadata": {
        "id": "AQR47_12s_wO",
        "outputId": "f4f12757-ca0b-46b5-cad7-643b69b39d8e"
      },
      "source": [
        "meaner(** friends)"
      ],
      "execution_count": null,
      "outputs": [
        {
          "output_type": "stream",
          "text": [
            "the average of their ages is :  40.666666666666664\n"
          ],
          "name": "stdout"
        }
      ]
    },
    {
      "cell_type": "markdown",
      "metadata": {
        "id": "8k3xU9cls_wP"
      },
      "source": [
        "## valid paranthesis"
      ]
    },
    {
      "cell_type": "markdown",
      "metadata": {
        "id": "jHzSUu8ts_wQ"
      },
      "source": [
        "```\n",
        "Input        Output\n",
        "--------:    ------:\n",
        "\"()\"         True\n",
        "\"()[]{}\"     True\n",
        "\"(]\"         False\n",
        "\"([)]\"       False\n",
        "\"{[]}\"       True\n",
        "\"\"           True\n",
        "```"
      ]
    },
    {
      "cell_type": "code",
      "metadata": {
        "id": "lBp8xZIrs_wR"
      },
      "source": [
        "# () --> True\n",
        "# ([)] --> False"
      ],
      "execution_count": null,
      "outputs": []
    },
    {
      "cell_type": "code",
      "metadata": {
        "id": "V0zS0k7Ss_wT"
      },
      "source": [
        "\"([{({})}]({}))\""
      ],
      "execution_count": null,
      "outputs": []
    },
    {
      "cell_type": "code",
      "metadata": {
        "id": "UKmBGqOss_wU"
      },
      "source": [
        "\"\""
      ],
      "execution_count": null,
      "outputs": []
    },
    {
      "cell_type": "code",
      "metadata": {
        "id": "Mldq8Sb2s_wV"
      },
      "source": [
        "\"[[{({})}]({}))\""
      ],
      "execution_count": null,
      "outputs": []
    },
    {
      "cell_type": "code",
      "metadata": {
        "id": "03ibVN6gs_wZ"
      },
      "source": [
        "\"[\""
      ],
      "execution_count": null,
      "outputs": []
    },
    {
      "cell_type": "code",
      "metadata": {
        "id": "KmvxZxbus_wa"
      },
      "source": [
        "x = \"[[{({})}]({}))\""
      ],
      "execution_count": null,
      "outputs": []
    },
    {
      "cell_type": "code",
      "metadata": {
        "id": "0pWH82mes_wc"
      },
      "source": [
        "def isValid(s) :\n",
        "    while \"()\" in s or \"{}\" in s or \"[]\" in s:\n",
        "        s = s.replace(\"()\", \"\").replace(\"[]\", \"\").replace(\"{}\", \"\")\n",
        "    return s == \"\""
      ],
      "execution_count": null,
      "outputs": []
    },
    {
      "cell_type": "code",
      "metadata": {
        "id": "DlVEnK0Bs_wd",
        "outputId": "aea6ab68-ee66-4e5f-894e-2e99d1a3fe80"
      },
      "source": [
        "\"ali-veli\".replace(\"-\", \"+\")"
      ],
      "execution_count": null,
      "outputs": [
        {
          "output_type": "execute_result",
          "data": {
            "text/plain": [
              "'ali+veli'"
            ]
          },
          "metadata": {
            "tags": []
          },
          "execution_count": 34
        }
      ]
    },
    {
      "cell_type": "code",
      "metadata": {
        "id": "ArQZQY5ys_we",
        "outputId": "3c444bd7-50bd-426b-b26f-d699540ef0c3"
      },
      "source": [
        "\"ali-veli\".replace(\"-\", \"\")"
      ],
      "execution_count": null,
      "outputs": [
        {
          "output_type": "execute_result",
          "data": {
            "text/plain": [
              "'aliveli'"
            ]
          },
          "metadata": {
            "tags": []
          },
          "execution_count": 35
        }
      ]
    },
    {
      "cell_type": "code",
      "metadata": {
        "id": "b3vm91I1s_wg",
        "outputId": "36cf976a-0a5e-4625-8c31-8f593e224a24"
      },
      "source": [
        "isValid(x)"
      ],
      "execution_count": null,
      "outputs": [
        {
          "output_type": "execute_result",
          "data": {
            "text/plain": [
              "False"
            ]
          },
          "metadata": {
            "tags": []
          },
          "execution_count": 37
        }
      ]
    },
    {
      "cell_type": "code",
      "metadata": {
        "id": "bBLix1e0s_wh"
      },
      "source": [
        ""
      ],
      "execution_count": null,
      "outputs": []
    }
  ]
}